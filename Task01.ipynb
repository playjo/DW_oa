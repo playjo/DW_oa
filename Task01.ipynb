{
 "cells": [
  {
   "cell_type": "markdown",
   "metadata": {},
   "source": [
    "# DW_oa_Task01 \n",
    "## 文件自动化处理&邮件批量处理\n",
    "## 20210613"
   ]
  },
  {
   "cell_type": "markdown",
   "metadata": {},
   "source": [
    "# 1 文件自动化处理\n",
    "\n",
    "## 1.1  读写文件\n",
    "我们知道，程序运行时，可以用变量来保存运算结果，但如果希望程序运行关闭后，依然可以查看运行后的结果，就需要将数据保存到文件中。简单点，你可以将文件内容理解为一个字符串值，大小可能有几个GB。本节将学习，如何使用python在硬盘上创建、读取和保存文件。\n",
    "\n",
    "## 1.1.1  文件与文件路径\n",
    "文件的两个属性：“路径”和“文件名”，路径指明文件在计算机上的位置，文件名是指该位置的文件的名称。比如，我的电脑上，有个名字为Datawhale - 开源发展理论研究.pdf的文件，它的路径在D:\\Datawhale。在windows中，路径中的D:\\部分是“根文件夹”，Datawhale是文件夹名。注：Windows中文件夹名和文件名不区分大小写的。\n",
    "\n",
    "在windows上，路径书写是使用倒斜杠'\\'作为文件夹之间的分隔符，而在OS X和Linux上，是使用正斜杠'/'作为它们的路径分隔符。通常我们用`os.path.join()`函数来创建文件名称字符串。"
   ]
  },
  {
   "cell_type": "code",
   "execution_count": 1,
   "metadata": {},
   "outputs": [
    {
     "data": {
      "text/plain": [
       "'datawhale\\\\docu'"
      ]
     },
     "execution_count": 1,
     "metadata": {},
     "output_type": "execute_result"
    }
   ],
   "source": [
    "import os\n",
    "os.path.join('datawhale', 'docu')"
   ]
  },
  {
   "cell_type": "markdown",
   "metadata": {},
   "source": [
    "os.path.join()函数：连接两个或更多的路径名组件\n",
    "\n",
    "1.如果各组件名首字母不包含’/’，则函数会自动加上\n",
    "\n",
    "2.如果有一个组件是一个绝对路径，则在它之前的所有组件均会被舍弃\n",
    "\n",
    "3.如果最后一个组件为空，则生成的路径以一个’/’分隔符结尾"
   ]
  },
  {
   "cell_type": "markdown",
   "metadata": {},
   "source": [
    "我们可以看到返回的是（'Datawhale\\\\\\docu'），有两个斜杠，这是因为有一个斜杠是用来转义的，在OS X或Linux上调用这个函数，这个字符串就会是'Datawhale/docu'。\n",
    "\n",
    "## 1.1.2  当前工作目录\n",
    "每个运行在计算机上的程序，都有一个“当前工作目录”。利用`os.getcwd()`函数，可以取得当前工作路径的\n",
    "字符串，并可以利用`os.chdir()`改变它。"
   ]
  },
  {
   "cell_type": "code",
   "execution_count": 2,
   "metadata": {},
   "outputs": [
    {
     "data": {
      "text/plain": [
       "'D:\\\\pythontest\\\\DW_oa'"
      ]
     },
     "execution_count": 2,
     "metadata": {},
     "output_type": "execute_result"
    }
   ],
   "source": [
    "os.getcwd()"
   ]
  },
  {
   "cell_type": "code",
   "execution_count": 3,
   "metadata": {},
   "outputs": [
    {
     "data": {
      "text/plain": [
       "'D:\\\\pythontest'"
      ]
     },
     "execution_count": 3,
     "metadata": {},
     "output_type": "execute_result"
    }
   ],
   "source": [
    "os.chdir('\\pythontest')   # 在目录后不要加\\,否则会出错\n",
    "os.getcwd()"
   ]
  },
  {
   "cell_type": "markdown",
   "metadata": {},
   "source": [
    "## 1.1.3  路径操作\n",
    "\n",
    "### 1.1.3.1 绝对路径和相对路径\n",
    "“绝对路径”，总是从根文件夹开始。\n",
    "“相对路径”，相对于程序的当前工作目录。\n",
    "相对路径中，单个句点“.”表示当前目录的缩写，两个句点“..”表示父文件夹。\n",
    "![image-20210518151332873](.\\图片\\image-20210518151332873.png)\n",
    "\n",
    "几个常用的绝对路径和相对路径处理函数\n",
    "\n",
    "`os.path.abspath(path)`：将相对路径转换为绝对路径，将返回参数的绝对路径的字符串。`os.path.isabs(path)`：判断是否是绝对路径，是返回True,不是则返回False"
   ]
  },
  {
   "cell_type": "code",
   "execution_count": 4,
   "metadata": {},
   "outputs": [
    {
     "data": {
      "text/plain": [
       "'D:\\\\pythontest'"
      ]
     },
     "execution_count": 4,
     "metadata": {},
     "output_type": "execute_result"
    }
   ],
   "source": [
    "os.path.abspath('.')"
   ]
  },
  {
   "cell_type": "code",
   "execution_count": 5,
   "metadata": {},
   "outputs": [
    {
     "data": {
      "text/plain": [
       "False"
      ]
     },
     "execution_count": 5,
     "metadata": {},
     "output_type": "execute_result"
    }
   ],
   "source": [
    "os.path.isabs('.')"
   ]
  },
  {
   "cell_type": "code",
   "execution_count": 6,
   "metadata": {},
   "outputs": [
    {
     "data": {
      "text/plain": [
       "True"
      ]
     },
     "execution_count": 6,
     "metadata": {},
     "output_type": "execute_result"
    }
   ],
   "source": [
    "os.path.isabs(os.path.abspath('.'))"
   ]
  },
  {
   "cell_type": "markdown",
   "metadata": {},
   "source": [
    "### 1.1.3.2 路径操作\n",
    "`os.path.relpath(path,start)`:返回从start路径到path的相对路径的字符串。如果没提供start,就使用当前工作目录作为开始路径。\n",
    "`os.path.dirname(path)`: 返回当前路径的目录名称。\n",
    "`os.path.basename(path)`：返回当前路径的文件名称。"
   ]
  },
  {
   "cell_type": "code",
   "execution_count": 7,
   "metadata": {},
   "outputs": [
    {
     "data": {
      "text/plain": [
       "'..\\\\DW_oa'"
      ]
     },
     "execution_count": 7,
     "metadata": {},
     "output_type": "execute_result"
    }
   ],
   "source": [
    "os.path.relpath('DW_oa', 'DW_data')"
   ]
  },
  {
   "cell_type": "code",
   "execution_count": 8,
   "metadata": {},
   "outputs": [
    {
     "data": {
      "text/plain": [
       "'d:\\\\pythontest\\\\DW_oa\\\\图片'"
      ]
     },
     "execution_count": 8,
     "metadata": {},
     "output_type": "execute_result"
    }
   ],
   "source": [
    "os.path.dirname('d:\\\\pythontest\\\\DW_oa\\\\图片\\\\周杰伦.jpg')"
   ]
  },
  {
   "cell_type": "code",
   "execution_count": 9,
   "metadata": {},
   "outputs": [
    {
     "data": {
      "text/plain": [
       "'周杰伦.jpg'"
      ]
     },
     "execution_count": 9,
     "metadata": {},
     "output_type": "execute_result"
    }
   ],
   "source": [
    "os.path.basename('d:\\\\pythontest\\\\DW_oa\\\\图片\\\\周杰伦.jpg')"
   ]
  },
  {
   "cell_type": "markdown",
   "metadata": {},
   "source": [
    "如果同时需要一个路径的目录名称和基本名称，可以调用`os.path.split()`，获得者两个字符串的元组。"
   ]
  },
  {
   "cell_type": "code",
   "execution_count": 10,
   "metadata": {},
   "outputs": [
    {
     "data": {
      "text/plain": [
       "('d:\\\\pythontest\\\\DW_oa\\\\图片', '周杰伦.jpg')"
      ]
     },
     "execution_count": 10,
     "metadata": {},
     "output_type": "execute_result"
    }
   ],
   "source": [
    "os.path.split('d:\\\\pythontest\\\\DW_oa\\\\图片\\\\周杰伦.jpg')"
   ]
  },
  {
   "cell_type": "markdown",
   "metadata": {},
   "source": [
    "我们也可以调用os.path.dirname()和os.path.basename(),将它们的返回值放在一个元组中，从而得到同样的元组。"
   ]
  },
  {
   "cell_type": "code",
   "execution_count": 11,
   "metadata": {},
   "outputs": [
    {
     "data": {
      "text/plain": [
       "('d:\\\\pythontest\\\\DW_oa\\\\图片', '周杰伦.jpg')"
      ]
     },
     "execution_count": 11,
     "metadata": {},
     "output_type": "execute_result"
    }
   ],
   "source": [
    "(os.path.dirname('d:\\\\pythontest\\\\DW_oa\\\\图片\\\\周杰伦.jpg'),os.path.basename('d:\\\\pythontest\\\\DW_oa\\\\图片\\\\周杰伦.jpg'))"
   ]
  },
  {
   "cell_type": "markdown",
   "metadata": {},
   "source": [
    "同理，也可以将返回值放在列表和集合中"
   ]
  },
  {
   "cell_type": "code",
   "execution_count": 12,
   "metadata": {},
   "outputs": [
    {
     "data": {
      "text/plain": [
       "['d:\\\\pythontest\\\\DW_oa\\\\图片', '周杰伦.jpg']"
      ]
     },
     "execution_count": 12,
     "metadata": {},
     "output_type": "execute_result"
    }
   ],
   "source": [
    "[os.path.dirname('d:\\\\pythontest\\\\DW_oa\\\\图片\\\\周杰伦.jpg'),os.path.basename('d:\\\\pythontest\\\\DW_oa\\\\图片\\\\周杰伦.jpg')]"
   ]
  },
  {
   "cell_type": "code",
   "execution_count": 13,
   "metadata": {},
   "outputs": [
    {
     "data": {
      "text/plain": [
       "{'d:\\\\pythontest\\\\DW_oa\\\\图片', '周杰伦.jpg'}"
      ]
     },
     "execution_count": 13,
     "metadata": {},
     "output_type": "execute_result"
    }
   ],
   "source": [
    "{os.path.dirname('d:\\\\pythontest\\\\DW_oa\\\\图片\\\\周杰伦.jpg'),os.path.basename('d:\\\\pythontest\\\\DW_oa\\\\图片\\\\周杰伦.jpg')}"
   ]
  },
  {
   "cell_type": "markdown",
   "metadata": {},
   "source": [
    "如果我们想返回每个文件夹的字符串的列表。用`os.path.split()`无法得到，我们可以用`split()`字符串方法，并根据`os.path.sep` 中的字符串进行分割。`os.path.sep` 变量设置为正确的文件夹分割斜杠。"
   ]
  },
  {
   "cell_type": "code",
   "execution_count": 14,
   "metadata": {},
   "outputs": [
    {
     "data": {
      "text/plain": [
       "['d:', 'pythontest', 'DW_oa', '图片', '周杰伦.jpg']"
      ]
     },
     "execution_count": 14,
     "metadata": {},
     "output_type": "execute_result"
    }
   ],
   "source": [
    "'d:\\\\pythontest\\\\DW_oa\\\\图片\\\\周杰伦.jpg'.split(os.path.sep)"
   ]
  },
  {
   "cell_type": "markdown",
   "metadata": {},
   "source": [
    "### 1.1.3.3 路径有效性检查\n",
    "如果提供的路径不存在，很多Python函数就会崩溃并报错。`os.path`模块提供了一些函数，用于检测给定的路径是否存在，以及判定是文件还是文件。\n",
    "\n",
    "`os.path.exists(path)`：如果path参数所指的文件或文件夹存在，则返回True,否则返回False。\n",
    "\n",
    "`os.path.isfile(path)`：如果path参数存在，并且是一个文件，则返回True,否则返回False。\n",
    "\n",
    "`os.path.isdir(path)`：如果path参数存在，并且是一个文件夹，则返回True,否则返回False。"
   ]
  },
  {
   "cell_type": "code",
   "execution_count": 15,
   "metadata": {},
   "outputs": [
    {
     "data": {
      "text/plain": [
       "True"
      ]
     },
     "execution_count": 15,
     "metadata": {},
     "output_type": "execute_result"
    }
   ],
   "source": [
    "os.path.exists('tianchi')"
   ]
  },
  {
   "cell_type": "code",
   "execution_count": 16,
   "metadata": {},
   "outputs": [
    {
     "data": {
      "text/plain": [
       "False"
      ]
     },
     "execution_count": 16,
     "metadata": {},
     "output_type": "execute_result"
    }
   ],
   "source": [
    "os.path.isfile('mygod.txt')"
   ]
  },
  {
   "cell_type": "code",
   "execution_count": 17,
   "metadata": {},
   "outputs": [
    {
     "data": {
      "text/plain": [
       "False"
      ]
     },
     "execution_count": 17,
     "metadata": {},
     "output_type": "execute_result"
    }
   ],
   "source": [
    "os.path.isdir('windows')   # 仅查找当前盘"
   ]
  },
  {
   "cell_type": "code",
   "execution_count": 18,
   "metadata": {},
   "outputs": [
    {
     "data": {
      "text/plain": [
       "True"
      ]
     },
     "execution_count": 18,
     "metadata": {},
     "output_type": "execute_result"
    }
   ],
   "source": [
    "os.path.isdir('c:\\\\windows')"
   ]
  },
  {
   "cell_type": "code",
   "execution_count": 19,
   "metadata": {},
   "outputs": [
    {
     "data": {
      "text/plain": [
       "False"
      ]
     },
     "execution_count": 19,
     "metadata": {},
     "output_type": "execute_result"
    }
   ],
   "source": [
    "os.path.exists('download')   # 该文件或文件夹均不存在"
   ]
  },
  {
   "cell_type": "markdown",
   "metadata": {},
   "source": [
    "## 1.1.4  文件及文件夹操作\n",
    "\n",
    "### 1.1.4.1 用os.makedirs()创建新文件夹\n",
    "注：`os.makedirs()`可以创建所有必要的中间文件夹。"
   ]
  },
  {
   "cell_type": "code",
   "execution_count": 20,
   "metadata": {},
   "outputs": [],
   "source": [
    "os.makedirs('aaa')   # 在当前目录下新建文件夹，或使用绝对路径"
   ]
  },
  {
   "cell_type": "code",
   "execution_count": 21,
   "metadata": {},
   "outputs": [],
   "source": [
    "os.rmdir('aaa')   # 只能删除空文件夹，删除指定文件使用os.remove()，目录下全删除需使用循环"
   ]
  },
  {
   "cell_type": "markdown",
   "metadata": {},
   "source": [
    "### 1.1.4.2 查看文件大小和文件夹内容\n",
    "我们已经可以处理文件路径，这是操作文件及文件夹的基础。接下来，我们可以搜集特定文件和文件夹的信息。`os.path`模块提供了一些函数，用于查看文件的字节数以及给定文件夹中的文件和子文件夹。\n",
    "`os.path.getsize(path)`：返回path参数中文件的字节数。\n",
    "`os.listdir(path)`:返回文件名字符串的列表，包含path参数中的每个文件。"
   ]
  },
  {
   "cell_type": "code",
   "execution_count": 22,
   "metadata": {},
   "outputs": [
    {
     "data": {
      "text/plain": [
       "2234"
      ]
     },
     "execution_count": 22,
     "metadata": {},
     "output_type": "execute_result"
    }
   ],
   "source": [
    "os.path.getsize('d:\\\\pythontest\\\\DW_oa\\\\readme.md')"
   ]
  },
  {
   "cell_type": "code",
   "execution_count": 23,
   "metadata": {},
   "outputs": [
    {
     "data": {
      "text/plain": [
       "['.ipynb_checkpoints',\n",
       " 'exam1.txt',\n",
       " 'hello.txt',\n",
       " 'myCats.py',\n",
       " 'mydata.bak',\n",
       " 'mydata.dat',\n",
       " 'mydata.dir',\n",
       " 'new.zip',\n",
       " 'readme.md',\n",
       " 'Task01 文件自动化处理&邮件批量处理.md',\n",
       " 'Task01.ipynb',\n",
       " 'Task02 Python与Excel.md',\n",
       " 'Task03 python与word.md',\n",
       " 'Task04 Python操作PDF.md',\n",
       " 'Task05 爬虫入门与综合应用.md',\n",
       " 'usa',\n",
       " 'usa.xlsx',\n",
       " '__pycache__',\n",
       " '图片']"
      ]
     },
     "execution_count": 23,
     "metadata": {},
     "output_type": "execute_result"
    }
   ],
   "source": [
    "os.listdir('d:\\\\pythontest\\\\DW_oa')"
   ]
  },
  {
   "cell_type": "markdown",
   "metadata": {},
   "source": [
    "如果想知道目录下所有文件的总字节数，可以同时使用`os.path.getsize()`和`os.listdir()`"
   ]
  },
  {
   "cell_type": "code",
   "execution_count": 24,
   "metadata": {},
   "outputs": [
    {
     "name": "stdout",
     "output_type": "stream",
     "text": [
      "361609\n"
     ]
    }
   ],
   "source": [
    "total = 0\n",
    "for i in os.listdir('d:\\\\pythontest\\\\DW_oa'):\n",
    "    a = os.path.getsize(os.path.join('d:\\\\pythontest\\\\DW_oa', i))\n",
    "    total = total + a\n",
    "print(total)"
   ]
  },
  {
   "cell_type": "markdown",
   "metadata": {},
   "source": [
    "## 1.1.6 文件读写过程\n",
    "读写文件3个步骤：\n",
    "\n",
    "1.调用`open()`函数，返回一个File对象。\n",
    "\n",
    "2.调用File对象的`read()`或`write()`方法。\n",
    "\n",
    "3.调用File对象的`close()`方法，关闭该文件。\n",
    "\n",
    "### 1.1.6.1 用open()函数打开文件\n",
    "要用`open()`函数打开一个文件，就要向它传递一个字符串路径，表明希望打开的文件。这既可以是绝对路径，也可以是相对路径。`open()`函数返回一个File对象。\n",
    "先用TextEdit创建一个文本文件，名为hello.txt。输入Hello World!作为该文本文件的内容，将它保存在你的用户文件夹中。"
   ]
  },
  {
   "cell_type": "code",
   "execution_count": 25,
   "metadata": {},
   "outputs": [
    {
     "data": {
      "text/plain": [
       "'D:\\\\pythontest\\\\DW_oa'"
      ]
     },
     "execution_count": 25,
     "metadata": {},
     "output_type": "execute_result"
    }
   ],
   "source": [
    "os.chdir('DW_oa')\n",
    "os.getcwd()"
   ]
  },
  {
   "cell_type": "code",
   "execution_count": 26,
   "metadata": {},
   "outputs": [
    {
     "name": "stdout",
     "output_type": "stream",
     "text": [
      "<_io.TextIOWrapper name='hello.txt' mode='r' encoding='cp936'>\n"
     ]
    }
   ],
   "source": [
    "hello = open('hello.txt')\n",
    "print(hello)"
   ]
  },
  {
   "cell_type": "code",
   "execution_count": 27,
   "metadata": {},
   "outputs": [
    {
     "data": {
      "text/plain": [
       "_io.TextIOWrapper"
      ]
     },
     "execution_count": 27,
     "metadata": {},
     "output_type": "execute_result"
    }
   ],
   "source": [
    "type(open('hello.txt'))"
   ]
  },
  {
   "cell_type": "markdown",
   "metadata": {},
   "source": [
    "可以看到，调用`open()`函数将会返回一个File对象。当你需要读取或写入该文件，就可以调用helloFile变量中的File对象的方法。\n",
    "\n",
    "### 1.1.6.2 读取文件内容\n",
    "有了File对象，我们就可以开始从它读取内容。\n",
    "\n",
    "`read()`:读取文件内容。\n",
    "\n",
    "`readlines()`:按行读取文件中的内容，取得一个字符串列表，列表中每个字符串是文本中的一行且以\\n结束。"
   ]
  },
  {
   "cell_type": "code",
   "execution_count": 28,
   "metadata": {},
   "outputs": [
    {
     "data": {
      "text/plain": [
       "'Hello World!'"
      ]
     },
     "execution_count": 28,
     "metadata": {},
     "output_type": "execute_result"
    }
   ],
   "source": [
    "hello.read()"
   ]
  },
  {
   "cell_type": "code",
   "execution_count": 29,
   "metadata": {},
   "outputs": [
    {
     "data": {
      "text/plain": [
       "['Hello World!']"
      ]
     },
     "execution_count": 29,
     "metadata": {},
     "output_type": "execute_result"
    }
   ],
   "source": [
    "hello = open('hello.txt')\n",
    "hello.readlines()   # 前面用read读取后，hello为空，需重新读入文件"
   ]
  },
  {
   "cell_type": "code",
   "execution_count": 30,
   "metadata": {},
   "outputs": [
    {
     "data": {
      "text/plain": [
       "''"
      ]
     },
     "execution_count": 30,
     "metadata": {},
     "output_type": "execute_result"
    }
   ],
   "source": [
    "hello.read()"
   ]
  },
  {
   "cell_type": "code",
   "execution_count": 31,
   "metadata": {},
   "outputs": [
    {
     "data": {
      "text/plain": [
       "[]"
      ]
     },
     "execution_count": 31,
     "metadata": {},
     "output_type": "execute_result"
    }
   ],
   "source": [
    "hello.readlines()"
   ]
  },
  {
   "cell_type": "markdown",
   "metadata": {},
   "source": [
    "### 1.1.6.3 写入文件\n",
    "需要用“写模式”‘w’和“添加模式”'a'打开一个文件，而不能用读模式打开文件。\n",
    "“写模式”将覆写原有的文件，从头开始。“添加模式”将在已有文件的末尾添加文本。"
   ]
  },
  {
   "cell_type": "code",
   "execution_count": 32,
   "metadata": {},
   "outputs": [
    {
     "data": {
      "text/plain": [
       "13"
      ]
     },
     "execution_count": 32,
     "metadata": {},
     "output_type": "execute_result"
    }
   ],
   "source": [
    "baconFile = open('bacon.txt','w')\n",
    "baconFile.write('Hello world!\\n')"
   ]
  },
  {
   "cell_type": "code",
   "execution_count": 33,
   "metadata": {},
   "outputs": [],
   "source": [
    "baconFile.close()   # 注意，关闭后，才能完成写入，从txt文件中看到写入的内容。"
   ]
  },
  {
   "cell_type": "code",
   "execution_count": 34,
   "metadata": {},
   "outputs": [
    {
     "data": {
      "text/plain": [
       "'Hello world!\\n'"
      ]
     },
     "execution_count": 34,
     "metadata": {},
     "output_type": "execute_result"
    }
   ],
   "source": [
    "baconFile = open('bacon.txt')\n",
    "baconFile.read()"
   ]
  },
  {
   "cell_type": "code",
   "execution_count": 35,
   "metadata": {},
   "outputs": [
    {
     "data": {
      "text/plain": [
       "25"
      ]
     },
     "execution_count": 35,
     "metadata": {},
     "output_type": "execute_result"
    }
   ],
   "source": [
    "baconFile = open('bacon.txt','a')\n",
    "baconFile.write('Bacon is not a vegetable.')"
   ]
  },
  {
   "cell_type": "code",
   "execution_count": 36,
   "metadata": {},
   "outputs": [],
   "source": [
    "baconFile.close()"
   ]
  },
  {
   "cell_type": "code",
   "execution_count": 37,
   "metadata": {},
   "outputs": [
    {
     "data": {
      "text/plain": [
       "['Hello world!\\n', 'Bacon is not a vegetable.']"
      ]
     },
     "execution_count": 37,
     "metadata": {},
     "output_type": "execute_result"
    }
   ],
   "source": [
    "baconFile = open('bacon.txt')\n",
    "baconFile.readlines()"
   ]
  },
  {
   "cell_type": "code",
   "execution_count": 38,
   "metadata": {},
   "outputs": [
    {
     "name": "stdout",
     "output_type": "stream",
     "text": [
      "Hello world!\n",
      "Bacon is not a vegetable.\n"
     ]
    }
   ],
   "source": [
    "baconFile = open('bacon.txt')\n",
    "content = baconFile.read()\n",
    "baconFile.close()\n",
    "print(content)"
   ]
  },
  {
   "cell_type": "markdown",
   "metadata": {},
   "source": [
    "注意，`write()`方法不会像print()函数那样，在字符串的末尾自动添加换行字符。必须自己添加该字符。\n",
    "\n",
    "换行字符在读的时候会显示，但通过print的时候就成了换行符，所以在read()和write()都能看见换行符，并不影响实际显示的效果\n",
    "\n",
    "### 1.1.6.3 保存变量\n",
    "1)、shelve模块\n",
    "\n",
    "用`shelve`模块，可以将Python中的变量保存到二进制的`shelf`文件中。这样，程序就可以从硬盘中恢复变量的数据。"
   ]
  },
  {
   "cell_type": "code",
   "execution_count": 39,
   "metadata": {},
   "outputs": [],
   "source": [
    "import shelve\n",
    "shelfFile = shelve.open('mydata')\n",
    "cats = ['Zonphie','Pooka','Simon']\n",
    "shelfFile['cats'] = cats\n",
    "shelfFile.close()"
   ]
  },
  {
   "cell_type": "markdown",
   "metadata": {},
   "source": [
    "在Windows上运行前面的代码，我们会看到当前工作目录下有3个新文件：mydata.bak、mydata.dat和mydata.dir。在OS X上，只会创建一个mydata.db文件。\n",
    "\n",
    "重新打开这些文件，取出数据。注意：`shelf`值不必用读模式或写模式打开，因为打开后，既能读又能写。"
   ]
  },
  {
   "cell_type": "markdown",
   "metadata": {},
   "source": [
    "shelve模块的介绍  \n",
    "（1）shelve模块：\n",
    "\n",
    "shelve是一个简单的数据存储方案，类似key-value数据库，可以很方便的保存python对象，其内部是通过pickle协议来实现数据序列化。shelve只有一个open()函数，这个函数用于打开指定的文件（一个持久的字典），然后返回一个shelf对象。shelf是一种持久的、类似字典的对象。\n",
    "\n",
    "（2）shelve模块的特点：\n",
    "\n",
    "      1、shelve模块只有一个open()函数；\n",
    "\n",
    "      2、shelve模块是一个简单的将内存数据通过文件持久化保存的模块；\n",
    "\n",
    "      3、shelve模块可以持久化任何pickle可支持的python数据格式。\n",
    "\n",
    "（3）shelve模块中的open()函数：\n",
    "\n",
    "格式为：shelve.open（filename，flag）\n",
    "\n",
    "filename：文件名；\n",
    "\n",
    "flag：打开数据存储文件的格式；\n",
    "\n",
    "'r'\t以只读模式打开一个已经存在的数据存储文件  \n",
    "'w'\t以读写模式打开一个已经存在的数据存储文件  \n",
    "'c'\t以读写模式打开一个数据存储文件，如果不存在则创建  \n",
    "'n'\t总是创建一个新的、空数据存储文件，并以读写模式打开"
   ]
  },
  {
   "cell_type": "code",
   "execution_count": 40,
   "metadata": {},
   "outputs": [
    {
     "data": {
      "text/plain": [
       "shelve.DbfilenameShelf"
      ]
     },
     "execution_count": 40,
     "metadata": {},
     "output_type": "execute_result"
    }
   ],
   "source": [
    "shelfFile = shelve.open('mydata')\n",
    "type(shelfFile)"
   ]
  },
  {
   "cell_type": "code",
   "execution_count": 41,
   "metadata": {},
   "outputs": [
    {
     "data": {
      "text/plain": [
       "['Zonphie', 'Pooka', 'Simon']"
      ]
     },
     "execution_count": 41,
     "metadata": {},
     "output_type": "execute_result"
    }
   ],
   "source": [
    "shelfFile['cats']"
   ]
  },
  {
   "cell_type": "code",
   "execution_count": 42,
   "metadata": {},
   "outputs": [],
   "source": [
    "shelfFile.close()"
   ]
  },
  {
   "cell_type": "markdown",
   "metadata": {},
   "source": [
    "就像字典一样，`shelf`值有`keys()`和`values()`方法，返回shelf中键和值的类似列表的值。但是这些方法返回类似列表的值，却不是真正的列表，所以应该将它们传递给`list()`函数，取得列表的形式。"
   ]
  },
  {
   "cell_type": "code",
   "execution_count": 43,
   "metadata": {},
   "outputs": [
    {
     "data": {
      "text/plain": [
       "['cats']"
      ]
     },
     "execution_count": 43,
     "metadata": {},
     "output_type": "execute_result"
    }
   ],
   "source": [
    "shelfFile = shelve.open('mydata')\n",
    "list(shelfFile.keys())"
   ]
  },
  {
   "cell_type": "code",
   "execution_count": 44,
   "metadata": {},
   "outputs": [
    {
     "data": {
      "text/plain": [
       "[['Zonphie', 'Pooka', 'Simon']]"
      ]
     },
     "execution_count": 44,
     "metadata": {},
     "output_type": "execute_result"
    }
   ],
   "source": [
    "list(shelfFile.values())"
   ]
  },
  {
   "cell_type": "markdown",
   "metadata": {},
   "source": [
    "该方法返回的键是以字符串形式，而值则是类似于列表的形式，再传递给list()函数，则变成了列表中的列表，我们可以再试一下以列表方式表达"
   ]
  },
  {
   "cell_type": "code",
   "execution_count": 45,
   "metadata": {},
   "outputs": [
    {
     "data": {
      "text/plain": [
       "['Zonphie', 'Pooka', 'Simon']"
      ]
     },
     "execution_count": 45,
     "metadata": {},
     "output_type": "execute_result"
    }
   ],
   "source": [
    "list(shelfFile.values())[0]"
   ]
  },
  {
   "cell_type": "code",
   "execution_count": 46,
   "metadata": {},
   "outputs": [
    {
     "data": {
      "text/plain": [
       "'Pooka'"
      ]
     },
     "execution_count": 46,
     "metadata": {},
     "output_type": "execute_result"
    }
   ],
   "source": [
    "list(shelfFile.values())[0][1]"
   ]
  },
  {
   "cell_type": "code",
   "execution_count": 47,
   "metadata": {},
   "outputs": [],
   "source": [
    "shelfFile.close()"
   ]
  },
  {
   "cell_type": "markdown",
   "metadata": {},
   "source": [
    "2)、用`pprint.pformat()`函数保存变量\n",
    "\n",
    "`pprint.pformat()`函数返回要打印的内容的文本字符串，这个字符串既易于阅读，也是语法上正确的Python代码。\n",
    "\n",
    "假如，有一个字典，保存在一个变量中，希望保存这个变量和它的内容，以便将来使用。`pprint.pformat()`函数将提供一个字符串，我们可以将它写入.py文件。这个文件可以成为我们自己的模块，如果需要使用存储其中的变量，就可以导入它。"
   ]
  },
  {
   "cell_type": "code",
   "execution_count": 48,
   "metadata": {},
   "outputs": [
    {
     "data": {
      "text/plain": [
       "\"[{'desc': 'chubby', 'name': 'Zophie'}, {'desc': 'fluffy', 'name': 'Pooka'}]\""
      ]
     },
     "execution_count": 48,
     "metadata": {},
     "output_type": "execute_result"
    }
   ],
   "source": [
    "import  pprint\n",
    "cats = [{'name':'Zophie','desc':'chubby'},{'name':'Pooka','desc':'fluffy'}]\n",
    "pprint.pformat(cats)"
   ]
  },
  {
   "cell_type": "code",
   "execution_count": 49,
   "metadata": {},
   "outputs": [
    {
     "data": {
      "text/plain": [
       "83"
      ]
     },
     "execution_count": 49,
     "metadata": {},
     "output_type": "execute_result"
    }
   ],
   "source": [
    "fileObj = open('myCats.py','w')\n",
    "fileObj.write('cats = '+pprint.pformat(cats)+'\\n')   # 其返回结果为写入多少字符"
   ]
  },
  {
   "cell_type": "code",
   "execution_count": 50,
   "metadata": {},
   "outputs": [],
   "source": [
    "fileObj.close()"
   ]
  },
  {
   "cell_type": "markdown",
   "metadata": {},
   "source": [
    "import语句导入的模块本身就是Python脚本。如果来自pprint.pformat()的字符串保存为一个.py文件，该文件就是一个可以导入的模块。"
   ]
  },
  {
   "cell_type": "code",
   "execution_count": 51,
   "metadata": {},
   "outputs": [
    {
     "data": {
      "text/plain": [
       "[{'desc': 'chubby', 'name': 'Zophie'}, {'desc': 'fluffy', 'name': 'Pooka'}]"
      ]
     },
     "execution_count": 51,
     "metadata": {},
     "output_type": "execute_result"
    }
   ],
   "source": [
    "import myCats\n",
    "myCats.cats"
   ]
  },
  {
   "cell_type": "code",
   "execution_count": 52,
   "metadata": {},
   "outputs": [
    {
     "data": {
      "text/plain": [
       "{'desc': 'fluffy', 'name': 'Pooka'}"
      ]
     },
     "execution_count": 52,
     "metadata": {},
     "output_type": "execute_result"
    }
   ],
   "source": [
    "myCats.cats[1]"
   ]
  },
  {
   "cell_type": "code",
   "execution_count": 53,
   "metadata": {},
   "outputs": [
    {
     "data": {
      "text/plain": [
       "'fluffy'"
      ]
     },
     "execution_count": 53,
     "metadata": {},
     "output_type": "execute_result"
    }
   ],
   "source": [
    "myCats.cats[1]['desc']"
   ]
  },
  {
   "cell_type": "markdown",
   "metadata": {},
   "source": [
    "作为模块导入之后，用法也是一样，对其结果的取值可以用于多个方面，比如我们可以存成一个字典库，需要用时直接导入"
   ]
  },
  {
   "cell_type": "markdown",
   "metadata": {},
   "source": [
    "## 1.1.7 练习\n",
    "\n",
    "1、如果已有的文件以写模式打开，会发生什么？  \n",
    "会将原有文件覆盖，使用a方法则是追加内容。  \n",
    "\n",
    "2、`read()`和`readlines()`方法之间的区别是什么？  \n",
    "两个方法的区别是全部读取和逐行读取，一个结果为字符串，一个结果为列表。"
   ]
  },
  {
   "cell_type": "markdown",
   "metadata": {},
   "source": [
    "综合练习：  \n",
    "一、生成随机的测验试卷文件  \n",
    "假如你是一位地理老师， 班上有 35 名学生， 你希望进行美国各州首府的一个\n",
    "小测验。不妙的是，班里有几个坏蛋， 你无法确信学生不会作弊。你希望随机调整\n",
    "问题的次序， 这样每份试卷都是独一无二的， 这让任何人都不能从其他人那里抄袭答案。当然，手工完成这件事又费时又无聊。 好在， 你懂一些 Python。\n",
    "\n",
    "下面是程序所做的事：\n",
    "\n",
    "• 创建 35 份不同的测验试卷。\n",
    "\n",
    "• 为每份试卷创建 50 个多重选择题，次序随机。\n",
    "\n",
    "• 为每个问题提供一个正确答案和 3 个随机的错误答案，次序随机。\n",
    "\n",
    "• 将测验试卷写到 35 个文本文件中。\n",
    "\n",
    "• 将答案写到 35 个文本文件中。\n",
    "\n",
    "这意味着代码需要做下面的事：\n",
    "\n",
    "• 将州和它们的首府保存在一个字典中。\n",
    "\n",
    "• 针对测验文本文件和答案文本文件，调用 open()、 write()和 close()。\n",
    "\n",
    "• 利用 random.shuffle()随机调整问题和多重选项的次序。"
   ]
  },
  {
   "cell_type": "code",
   "execution_count": 54,
   "metadata": {},
   "outputs": [],
   "source": [
    "# 美国各州首府字典\n",
    "\n",
    "capitals = {'Alabama': 'Montgomery', 'Alaska': 'Juneau', 'Arizona': 'Phoenix',\n",
    "'Arkansas': 'Little Rock', 'California': 'Sacramento', 'Colorado': 'Denver',\n",
    "'Connecticut': 'Hartford', 'Delaware': 'Dover', 'Florida': 'Tallahassee',\n",
    "'Georgia': 'Atlanta', 'Hawaii': 'Honolulu', 'Idaho': 'Boise', 'Illinois':\n",
    "'Springfield', 'Indiana': 'Indianapolis', 'Iowa': 'Des Moines', 'Kansas':\n",
    "'Topeka', 'Kentucky': 'Frankfort', 'Louisiana': 'Baton Rouge', 'Maine':\n",
    "'Augusta', 'Maryland': 'Annapolis', 'Massachusetts': 'Boston', 'Michigan':\n",
    "'Lansing', 'Minnesota': 'Saint Paul', 'Mississippi': 'Jackson', 'Missouri':\n",
    "'Jefferson City', 'Montana': 'Helena', 'Nebraska': 'Lincoln', 'Nevada':\n",
    "'Carson City', 'New Hampshire': 'Concord', 'New Jersey': 'Trenton', 'New'\n",
    "'Mexico': 'Santa Fe', 'New York': 'Albany', 'North Carolina': 'Raleigh',\n",
    "'North Dakota': 'Bismarck', 'Ohio': 'Columbus', 'Oklahoma': 'Oklahoma City',\n",
    "'Oregon': 'Salem', 'Pennsylvania': 'Harrisburg', 'Rhode Island': 'Providence',\n",
    "'South Carolina': 'Columbia', 'South Dakota': 'Pierre', 'Tennessee':\n",
    "'Nashville', 'Texas': 'Austin', 'Utah': 'Salt Lake City', 'Vermont':\n",
    "'Montpelier', 'Virginia': 'Richmond', 'Washington': 'Olympia', 'West'\n",
    "'Virginia': 'Charleston', 'Wisconsin': 'Madison', 'Wyoming': 'Cheyenne'}"
   ]
  },
  {
   "cell_type": "code",
   "execution_count": 55,
   "metadata": {},
   "outputs": [
    {
     "data": {
      "text/plain": [
       "'D:\\\\pythontest\\\\DW_oa\\\\usa'"
      ]
     },
     "execution_count": 55,
     "metadata": {},
     "output_type": "execute_result"
    }
   ],
   "source": [
    "# os.makedirs('usa')\n",
    "os.chdir('usa')\n",
    "os.getcwd()"
   ]
  },
  {
   "cell_type": "code",
   "execution_count": 56,
   "metadata": {
    "scrolled": true
   },
   "outputs": [
    {
     "name": "stdout",
     "output_type": "stream",
     "text": [
      "['Alabama', 'Alaska', 'Arizona', 'Arkansas', 'California', 'Colorado', 'Connecticut', 'Delaware', 'Florida', 'Georgia', 'Hawaii', 'Idaho', 'Illinois', 'Indiana', 'Iowa', 'Kansas', 'Kentucky', 'Louisiana', 'Maine', 'Maryland', 'Massachusetts', 'Michigan', 'Minnesota', 'Mississippi', 'Missouri', 'Montana', 'Nebraska', 'Nevada', 'New Hampshire', 'New Jersey', 'NewMexico', 'New York', 'North Carolina', 'North Dakota', 'Ohio', 'Oklahoma', 'Oregon', 'Pennsylvania', 'Rhode Island', 'South Carolina', 'South Dakota', 'Tennessee', 'Texas', 'Utah', 'Vermont', 'Virginia', 'Washington', 'WestVirginia', 'Wisconsin', 'Wyoming']\n",
      "['Hawaii', 'New Hampshire', 'Tennessee', 'South Dakota', 'Indiana', 'Illinois', 'Minnesota', 'New York', 'Oklahoma', 'Louisiana', 'Kansas', 'Kentucky', 'Colorado', 'Maryland', 'Pennsylvania', 'South Carolina', 'WestVirginia', 'Missouri', 'Ohio', 'Florida', 'Alaska', 'North Dakota', 'Delaware', 'Arkansas', 'Oregon', 'Rhode Island', 'Wisconsin', 'New Jersey', 'Nevada', 'North Carolina', 'Washington', 'Texas', 'California', 'Virginia', 'Mississippi', 'Connecticut', 'Idaho', 'Nebraska', 'NewMexico', 'Utah', 'Alabama', 'Vermont', 'Maine', 'Arizona', 'Montana', 'Michigan', 'Wyoming', 'Georgia', 'Massachusetts', 'Iowa']\n"
     ]
    }
   ],
   "source": [
    "import random\n",
    "x = [i for i in capitals]\n",
    "print(x)\n",
    "random.shuffle(x)\n",
    "print(x)   # 测试一下random.shuffle的用法"
   ]
  },
  {
   "cell_type": "code",
   "execution_count": 57,
   "metadata": {},
   "outputs": [],
   "source": [
    "for i in range(35):\n",
    "    examname = 'exam' + str(i) + '.txt'   # 生成试卷文件名\n",
    "    exam = open(examname, 'w')\n",
    "    x = [y for y in capitals]   # 从字典中取出州名列表\n",
    "    random.shuffle(x)   # 打乱次序\n",
    "    for n in range(50):\n",
    "        a1 = capitals[x[n]]   # 取出州名的首府答案\n",
    "        test = [b for b in capitals]   # 另外再取出州名\n",
    "        test.remove(x[n])   # 移除正确答案\n",
    "        random.shuffle(test)   # 再打乱次序，然后取三个错误答案\n",
    "        a2 = capitals[test[1]]\n",
    "        a3 = capitals[test[2]]\n",
    "        a4 = capitals[test[3]]\n",
    "        a = [a1, a2, a3, a4]   # 将所有答案加入列表并打扰次序\n",
    "        random.shuffle(a)\n",
    "        exam.write('NO{:>2}： {:<20} A.{:<20} B.{:<20} C.{:<20} D.{:<20} \\n'.format(n+1, x[n], a[0], a[1], a[2], a[3]))\n",
    "    exam.close()"
   ]
  },
  {
   "cell_type": "code",
   "execution_count": 58,
   "metadata": {},
   "outputs": [
    {
     "data": {
      "text/plain": [
       "['exam0.txt',\n",
       " 'exam1.txt',\n",
       " 'exam10.txt',\n",
       " 'exam11.txt',\n",
       " 'exam12.txt',\n",
       " 'exam13.txt',\n",
       " 'exam14.txt',\n",
       " 'exam15.txt',\n",
       " 'exam16.txt',\n",
       " 'exam17.txt',\n",
       " 'exam18.txt',\n",
       " 'exam19.txt',\n",
       " 'exam2.txt',\n",
       " 'exam20.txt',\n",
       " 'exam21.txt',\n",
       " 'exam22.txt',\n",
       " 'exam23.txt',\n",
       " 'exam24.txt',\n",
       " 'exam25.txt',\n",
       " 'exam26.txt',\n",
       " 'exam27.txt',\n",
       " 'exam28.txt',\n",
       " 'exam29.txt',\n",
       " 'exam3.txt',\n",
       " 'exam30.txt',\n",
       " 'exam31.txt',\n",
       " 'exam32.txt',\n",
       " 'exam33.txt',\n",
       " 'exam34.txt',\n",
       " 'exam4.txt',\n",
       " 'exam5.txt',\n",
       " 'exam6.txt',\n",
       " 'exam7.txt',\n",
       " 'exam8.txt',\n",
       " 'exam9.txt']"
      ]
     },
     "execution_count": 58,
     "metadata": {},
     "output_type": "execute_result"
    }
   ],
   "source": [
    "os.listdir()   # 生成35份不同试卷"
   ]
  },
  {
   "cell_type": "code",
   "execution_count": 59,
   "metadata": {},
   "outputs": [
    {
     "data": {
      "text/plain": [
       "['NO 1： Maine                A.Columbia             B.Dover                C.Nashville            D.Augusta              \\n',\n",
       " 'NO 2： Oregon               A.Dover                B.Jackson              C.Salem                D.Baton Rouge          \\n',\n",
       " 'NO 3： Michigan             A.Salem                B.Lansing              C.Olympia              D.Carson City          \\n',\n",
       " 'NO 4： Alabama              A.Des Moines           B.Cheyenne             C.Montgomery           D.Raleigh              \\n',\n",
       " 'NO 5： Georgia              A.Boston               B.Atlanta              C.Lincoln              D.Frankfort            \\n',\n",
       " 'NO 6： Pennsylvania         A.Phoenix              B.Harrisburg           C.Boise                D.Columbus             \\n',\n",
       " 'NO 7： California           A.Bismarck             B.Sacramento           C.Dover                D.Carson City          \\n',\n",
       " 'NO 8： Delaware             A.Juneau               B.Trenton              C.Dover                D.Nashville            \\n',\n",
       " 'NO 9： Nevada               A.Carson City          B.Saint Paul           C.Juneau               D.Cheyenne             \\n',\n",
       " 'NO10： Kansas               A.Topeka               B.Little Rock          C.Albany               D.Austin               \\n',\n",
       " 'NO11： Mississippi          A.Honolulu             B.Juneau               C.Jackson              D.Albany               \\n',\n",
       " 'NO12： Texas                A.Jefferson City       B.Austin               C.Charleston           D.Albany               \\n',\n",
       " 'NO13： Kentucky             A.Montgomery           B.Baton Rouge          C.Lansing              D.Frankfort            \\n',\n",
       " 'NO14： Virginia             A.Dover                B.Richmond             C.Juneau               D.Augusta              \\n',\n",
       " 'NO15： Hawaii               A.Honolulu             B.Salt Lake City       C.Albany               D.Annapolis            \\n',\n",
       " 'NO16： New Jersey           A.Trenton              B.Little Rock          C.Richmond             D.Montpelier           \\n',\n",
       " 'NO17： Tennessee            A.Tallahassee          B.Salt Lake City       C.Nashville            D.Des Moines           \\n',\n",
       " 'NO18： Minnesota            A.Jefferson City       B.Madison              C.Albany               D.Saint Paul           \\n',\n",
       " 'NO19： Massachusetts        A.Boston               B.Concord              C.Annapolis            D.Harrisburg           \\n',\n",
       " 'NO20： Connecticut          A.Trenton              B.Salem                C.Hartford             D.Montpelier           \\n',\n",
       " 'NO21： Florida              A.Tallahassee          B.Albany               C.Olympia              D.Lincoln              \\n',\n",
       " 'NO22： New Hampshire        A.Des Moines           B.Augusta              C.Concord              D.Hartford             \\n',\n",
       " 'NO23： North Dakota         A.Bismarck             B.Dover                C.Little Rock          D.Boise                \\n',\n",
       " 'NO24： South Dakota         A.Richmond             B.Hartford             C.Pierre               D.Augusta              \\n',\n",
       " 'NO25： Illinois             A.Frankfort            B.Augusta              C.Springfield          D.Austin               \\n',\n",
       " 'NO26： Utah                 A.Salt Lake City       B.Denver               C.Honolulu             D.Boise                \\n',\n",
       " 'NO27： WestVirginia         A.Frankfort            B.Trenton              C.Charleston           D.Bismarck             \\n',\n",
       " 'NO28： Nebraska             A.Lincoln              B.Oklahoma City        C.Saint Paul           D.Lansing              \\n',\n",
       " 'NO29： Washington           A.Jefferson City       B.Olympia              C.Helena               D.Lansing              \\n',\n",
       " 'NO30： Vermont              A.Olympia              B.Montpelier           C.Frankfort            D.Boston               \\n',\n",
       " 'NO31： Idaho                A.Boise                B.Montpelier           C.Austin               D.Honolulu             \\n',\n",
       " 'NO32： Colorado             A.Pierre               B.Denver               C.Juneau               D.Montpelier           \\n',\n",
       " 'NO33： NewMexico            A.Santa Fe             B.Jefferson City       C.Des Moines           D.Montpelier           \\n',\n",
       " 'NO34： North Carolina       A.Helena               B.Santa Fe             C.Raleigh              D.Oklahoma City        \\n',\n",
       " 'NO35： Louisiana            A.Sacramento           B.Madison              C.Montpelier           D.Baton Rouge          \\n',\n",
       " 'NO36： Wisconsin            A.Atlanta              B.Columbia             C.Albany               D.Madison              \\n',\n",
       " 'NO37： Indiana              A.Sacramento           B.Indianapolis         C.Concord              D.Juneau               \\n',\n",
       " 'NO38： Rhode Island         A.Austin               B.Providence           C.Trenton              D.Boston               \\n',\n",
       " 'NO39： Wyoming              A.Boise                B.Bismarck             C.Jackson              D.Cheyenne             \\n',\n",
       " 'NO40： Arizona              A.Salem                B.Boise                C.Austin               D.Phoenix              \\n',\n",
       " 'NO41： Arkansas             A.Bismarck             B.Providence           C.Little Rock          D.Carson City          \\n',\n",
       " 'NO42： Alaska               A.Indianapolis         B.Lansing              C.Juneau               D.Oklahoma City        \\n',\n",
       " 'NO43： Oklahoma             A.Oklahoma City        B.Pierre               C.Boise                D.Hartford             \\n',\n",
       " 'NO44： Montana              A.Austin               B.Helena               C.Albany               D.Jefferson City       \\n',\n",
       " 'NO45： Ohio                 A.Lincoln              B.Harrisburg           C.Boise                D.Columbus             \\n',\n",
       " 'NO46： New York             A.Cheyenne             B.Hartford             C.Albany               D.Lansing              \\n',\n",
       " 'NO47： South Carolina       A.Concord              B.Olympia              C.Columbia             D.Des Moines           \\n',\n",
       " 'NO48： Maryland             A.Annapolis            B.Dover                C.Phoenix              D.Boise                \\n',\n",
       " 'NO49： Iowa                 A.Santa Fe             B.Sacramento           C.Des Moines           D.Tallahassee          \\n',\n",
       " 'NO50： Missouri             A.Austin               B.Jefferson City       C.Phoenix              D.Columbus             \\n']"
      ]
     },
     "execution_count": 59,
     "metadata": {},
     "output_type": "execute_result"
    }
   ],
   "source": [
    "f = open('exam0.txt')   # 读取自动生成的第一份试卷\n",
    "f.readlines()"
   ]
  },
  {
   "cell_type": "markdown",
   "metadata": {},
   "source": [
    "花了不少时间，主要还是因为对python的语法和各个函数不熟悉，一步步慢慢校验下来，其中关键一点是random.shuffle不能采用赋值方式，关于程序的逻辑思维只能到这个水准了，应该还有更好的办法，我可能做的比较繁复了。"
   ]
  },
  {
   "cell_type": "markdown",
   "metadata": {},
   "source": [
    "## 1.2  组织文件\n",
    "\n",
    "在上一节中，已经学习了如何使用Python创建并写入新文件。本节将介绍如何用程序组织硬盘上已经存在的文件。不知你是否经历过查找一个文件夹，里面有几十个、几百个、甚至上千个文件，需要手工进行复制、改名、移动或压缩。比如下列这样的任务：\n",
    "\n",
    "• 在一个文件夹及其所有子文件夹中，复制所有的 pdf 文件（且只复制 pdf 文件）\n",
    "\n",
    "• 针对一个文件夹中的所有文件，删除文件名中前导的零，该文件夹中有数百个文件，名为 spam001.txt、 spam002.txt、 spam003.txt 等。\n",
    "\n",
    "• 将几个文件夹的内容压缩到一个 ZIP 文件中（这可能是一个简单的备份系统）\n",
    "\n",
    "所有这种无聊的任务，正是在请求用 Python 实现自动化。通过对电脑编程来完成这些任务，你就把它变成了一个快速工作的文件职员，而且从不犯错。"
   ]
  },
  {
   "cell_type": "markdown",
   "metadata": {},
   "source": [
    "### 1.2.1 shutil模块\n",
    "\n",
    "`shutil`(或称为shell工具)模块中包含一些函数，可以在Python程序中复制、移动、改名和删除文件。要使用`shutil`的函数，首先需要`import shutil`"
   ]
  },
  {
   "cell_type": "code",
   "execution_count": 60,
   "metadata": {},
   "outputs": [],
   "source": [
    "import shutil"
   ]
  },
  {
   "cell_type": "markdown",
   "metadata": {},
   "source": [
    "#### 1.2.1.1 复制文件和文件夹\n",
    "\n",
    "`shutil.copy(source, destination)`：将路径source处的文件复制到路径 destination处的文件夹（source 和 destination 都是字符串），并返回新复制文件绝对路径字符串。\n",
    "\n",
    "其中destination可以是：\n",
    "\n",
    "1）、一个文件的名称，则将source文件复制为新名称的destination\n",
    "\n",
    "2）、一个文件夹，则将source文件复制到destination中\n",
    "\n",
    "3）、若这个文件夹不存在，则将source目标文件内的内容复制到destination中,若destination文件夹不存在，则自动生成该文件。(慎用，因为会将source文件复制为一个没有扩展名的名字为destination的文件，这往往不是我们希望的)"
   ]
  },
  {
   "cell_type": "code",
   "execution_count": 61,
   "metadata": {},
   "outputs": [
    {
     "data": {
      "text/plain": [
       "'d:\\\\pythontest\\\\DW_oa'"
      ]
     },
     "execution_count": 61,
     "metadata": {},
     "output_type": "execute_result"
    }
   ],
   "source": [
    "os.chdir('d:\\\\pythontest\\\\DW_oa')\n",
    "os.makedirs('test')\n",
    "os.getcwd()"
   ]
  },
  {
   "cell_type": "code",
   "execution_count": 62,
   "metadata": {
    "scrolled": true
   },
   "outputs": [
    {
     "data": {
      "text/plain": [
       "'test\\\\exam0.txt'"
      ]
     },
     "execution_count": 62,
     "metadata": {},
     "output_type": "execute_result"
    }
   ],
   "source": [
    "shutil.copy('usa\\\\exam0.txt', 'test')   # 复制某一文件，不会新建文件夹"
   ]
  },
  {
   "cell_type": "markdown",
   "metadata": {},
   "source": [
    "`shutil.copytree(source, destination)` :将路径source处的文件夹，包括其包含的文件夹和文件，复制到路径destination处的文件夹,并返回新复制文件夹绝对路径字符串。\n",
    "\n",
    "注：destination处的文件夹为新创建的文件夹，如已存在，则会报错"
   ]
  },
  {
   "cell_type": "code",
   "execution_count": 63,
   "metadata": {},
   "outputs": [
    {
     "data": {
      "text/plain": [
       "'test1'"
      ]
     },
     "execution_count": 63,
     "metadata": {},
     "output_type": "execute_result"
    }
   ],
   "source": [
    "shutil.copytree('usa', 'test1')   # 复制整个目录，新建文件夹"
   ]
  },
  {
   "cell_type": "markdown",
   "metadata": {},
   "source": [
    "#### 1.2.1.2 文件和文件夹的移动与改名\n",
    "\n",
    "`shutil.move(source, destination)`：将路径 source 处的文件/文件夹移动到路径destination，并返回新位置的绝对路径的字符串。\n",
    "\n",
    "1)、如果source和destination是文件夹，且destination已存在，则会将source文件夹下所有内容复制到destination文件夹中。移动。\n",
    "\n",
    "2）、如果source是文件夹，destination不存在，则会将source文件夹下所有内容复制到destination文件夹中，source原文件夹名称将被替换为destination文件夹名。   移动+重命名\n",
    "\n",
    "3）、如果source和destination是文件，source处的文件将被移动到destination处的位置，并以destination处的文件名进行命名，移动+重命名。\n",
    "\n",
    "注意：如果destination中有原来已经存在同名文件，移动后，会被覆写，所以应当特别注意。"
   ]
  },
  {
   "cell_type": "code",
   "execution_count": 64,
   "metadata": {},
   "outputs": [
    {
     "data": {
      "text/plain": [
       "'test\\\\test1'"
      ]
     },
     "execution_count": 64,
     "metadata": {},
     "output_type": "execute_result"
    }
   ],
   "source": [
    "shutil.move('test1', 'test')"
   ]
  },
  {
   "cell_type": "code",
   "execution_count": 65,
   "metadata": {},
   "outputs": [
    {
     "data": {
      "text/plain": [
       "'test\\\\test1\\\\exam0.txt'"
      ]
     },
     "execution_count": 65,
     "metadata": {},
     "output_type": "execute_result"
    }
   ],
   "source": [
    "shutil.move('test\\\\exam0.txt', 'test\\\\test1\\\\exam0.txt')"
   ]
  },
  {
   "cell_type": "markdown",
   "metadata": {},
   "source": [
    "#### 1.2.1.3 永久删除文件和文件夹\n",
    "`os.unlink(path)`: 删除path处的文件。\n",
    "\n",
    "`os.rmdir(path)`: 删除path处的文件夹。该文件夹必须为空，其中没有任何文件和文件夹。\n",
    "\n",
    "`shutil.rmtree(path)`:删除 path 处的文件夹，它包含的所有文件和文件夹都会被删除。\n",
    "\n",
    "注意：使用时，需要非常小心，避免删错文件，一般在第一次运行时，注释掉这些程序，并加上`print()`函数来帮助查看是否是想要删除的文件。"
   ]
  },
  {
   "cell_type": "code",
   "execution_count": 66,
   "metadata": {},
   "outputs": [
    {
     "data": {
      "text/plain": [
       "'d:\\\\pythontest\\\\DW_oa'"
      ]
     },
     "execution_count": 66,
     "metadata": {},
     "output_type": "execute_result"
    }
   ],
   "source": [
    "os.getcwd()"
   ]
  },
  {
   "cell_type": "code",
   "execution_count": 67,
   "metadata": {
    "scrolled": true
   },
   "outputs": [],
   "source": [
    "os.unlink('test\\\\test1\\\\exam0.txt')   # 删除某一文件"
   ]
  },
  {
   "cell_type": "code",
   "execution_count": 68,
   "metadata": {},
   "outputs": [],
   "source": [
    "shutil.rmtree('test\\\\test1')   # 删除test1文件夹及所有文件"
   ]
  },
  {
   "cell_type": "code",
   "execution_count": 69,
   "metadata": {},
   "outputs": [],
   "source": [
    "os.rmdir('test')   # 删除空文件夹"
   ]
  },
  {
   "cell_type": "markdown",
   "metadata": {},
   "source": [
    "<font color=red size=4>以上操作请一定慎重处理，文件删除后不可恢复</font>"
   ]
  },
  {
   "cell_type": "markdown",
   "metadata": {},
   "source": [
    "#### 1.2.1.4 用send2trash模块安全地删除\n",
    "`shutil.rmtree(path)`会不可恢复的删除文件和文件夹，用起来会有危险。因此使用第三方的`send2trash`模块，可以将文件或文件夹发送到计算机的垃圾箱或回收站，而不是永久删除。因程序缺陷而用send2trash 删除的某些你不想删除的东西，稍后可以从垃圾箱恢复。\n",
    "\n",
    "注意：使用时，需要非常小心，避免删错文件，一般在第一次运行时，注释掉这些程序，并加上`print()`函数来帮助查看是否是想要删除的文件。"
   ]
  },
  {
   "cell_type": "code",
   "execution_count": 70,
   "metadata": {},
   "outputs": [
    {
     "name": "stdout",
     "output_type": "stream",
     "text": [
      "Requirement already satisfied: send2trash in c:\\programdata\\anaconda3\\lib\\site-packages (1.5.0)\n",
      "Note: you may need to restart the kernel to use updated packages.\n"
     ]
    }
   ],
   "source": [
    "pip install send2trash"
   ]
  },
  {
   "cell_type": "code",
   "execution_count": 71,
   "metadata": {},
   "outputs": [],
   "source": [
    "import send2trash"
   ]
  },
  {
   "cell_type": "code",
   "execution_count": 72,
   "metadata": {},
   "outputs": [],
   "source": [
    "send2trash.send2trash('bacon.txt')"
   ]
  },
  {
   "cell_type": "markdown",
   "metadata": {},
   "source": [
    "## 1.2.2 遍历目录树\n",
    " `os.walk(path)`:传入一个文件夹的路径，在for循环语句中使用`os.walk()`函数，遍历目录树，和range()函数遍历一个范围的数字类似。不同的是，`os.walk()`在循环的每次迭代中，返回三个值：\n",
    "\n",
    " 1）、当前文件夹称的字符串。\n",
    "\n",
    " 2）、当前文件夹中子文件夹的字符串的列表。\n",
    "\n",
    " 3）、当前文件夹中文件的字符串的列表。\n",
    "\n",
    " 注：当前文件夹，是指for循环当前迭代的文件夹。程序的当前工作目录，不会因为`os.walk()`而改变。\n",
    "\n",
    "按照下图目录树，创建相应的文件。\n",
    "\n",
    "![image-20210518154517118](.\\图片\\image-20210518154517118.png)"
   ]
  },
  {
   "cell_type": "code",
   "execution_count": 73,
   "metadata": {},
   "outputs": [
    {
     "name": "stdout",
     "output_type": "stream",
     "text": [
      "('d:\\\\pythontest\\\\DW_oa', ['.ipynb_checkpoints', 'usa', '__pycache__', '图片'], ['exam1.txt', 'hello.txt', 'myCats.py', 'mydata.bak', 'mydata.dat', 'mydata.dir', 'new.zip', 'readme.md', 'Task01 文件自动化处理&邮件批量处理.md', 'Task01.ipynb', 'Task01.ipynb.baiduyun.uploading.cfg', 'Task02 Python与Excel.md', 'Task03 python与word.md', 'Task04 Python操作PDF.md', 'Task05 爬虫入门与综合应用.md', 'usa.xlsx'])\n",
      "('d:\\\\pythontest\\\\DW_oa\\\\.ipynb_checkpoints', [], ['Task01-checkpoint.ipynb'])\n",
      "('d:\\\\pythontest\\\\DW_oa\\\\usa', [], ['exam0.txt', 'exam1.txt', 'exam10.txt', 'exam11.txt', 'exam12.txt', 'exam13.txt', 'exam14.txt', 'exam15.txt', 'exam16.txt', 'exam17.txt', 'exam18.txt', 'exam19.txt', 'exam2.txt', 'exam20.txt', 'exam21.txt', 'exam22.txt', 'exam23.txt', 'exam24.txt', 'exam25.txt', 'exam26.txt', 'exam27.txt', 'exam28.txt', 'exam29.txt', 'exam3.txt', 'exam30.txt', 'exam31.txt', 'exam32.txt', 'exam33.txt', 'exam34.txt', 'exam4.txt', 'exam5.txt', 'exam6.txt', 'exam7.txt', 'exam8.txt', 'exam9.txt'])\n",
      "('d:\\\\pythontest\\\\DW_oa\\\\__pycache__', [], ['myCats.cpython-37.pyc'])\n",
      "('d:\\\\pythontest\\\\DW_oa\\\\图片', [], ['Excel.png', 'excel到word.xlsx', 'image-20210518151332873.png', 'image-20210518154517118.png', 'mail.png', 'pycharm1.png', 'pycharm2.png', '参会人名单.png', '周杰伦.jpg', '图5.1.png', '安装docx.png', '邀请函样式.png', '页眉页脚设置.png'])\n"
     ]
    }
   ],
   "source": [
    "for i in os.walk('d:\\\\pythontest\\\\DW_oa'):\n",
    "    print(i)"
   ]
  },
  {
   "cell_type": "code",
   "execution_count": 74,
   "metadata": {},
   "outputs": [
    {
     "name": "stdout",
     "output_type": "stream",
     "text": [
      "The current folder is d:\\pythontest\\DW_oa\n",
      "Subfolder of d:\\pythontest\\DW_oa:.ipynb_checkpoints\n",
      "Subfolder of d:\\pythontest\\DW_oa:usa\n",
      "Subfolder of d:\\pythontest\\DW_oa:__pycache__\n",
      "Subfolder of d:\\pythontest\\DW_oa:图片\n",
      "File Inside d:\\pythontest\\DW_oa:exam1.txt\n",
      "File Inside d:\\pythontest\\DW_oa:hello.txt\n",
      "File Inside d:\\pythontest\\DW_oa:myCats.py\n",
      "File Inside d:\\pythontest\\DW_oa:mydata.bak\n",
      "File Inside d:\\pythontest\\DW_oa:mydata.dat\n",
      "File Inside d:\\pythontest\\DW_oa:mydata.dir\n",
      "File Inside d:\\pythontest\\DW_oa:new.zip\n",
      "File Inside d:\\pythontest\\DW_oa:readme.md\n",
      "File Inside d:\\pythontest\\DW_oa:Task01 文件自动化处理&邮件批量处理.md\n",
      "File Inside d:\\pythontest\\DW_oa:Task01.ipynb\n",
      "File Inside d:\\pythontest\\DW_oa:Task01.ipynb.baiduyun.uploading.cfg\n",
      "File Inside d:\\pythontest\\DW_oa:Task02 Python与Excel.md\n",
      "File Inside d:\\pythontest\\DW_oa:Task03 python与word.md\n",
      "File Inside d:\\pythontest\\DW_oa:Task04 Python操作PDF.md\n",
      "File Inside d:\\pythontest\\DW_oa:Task05 爬虫入门与综合应用.md\n",
      "File Inside d:\\pythontest\\DW_oa:usa.xlsx\n",
      "\n",
      "The current folder is d:\\pythontest\\DW_oa\\.ipynb_checkpoints\n",
      "File Inside d:\\pythontest\\DW_oa\\.ipynb_checkpoints:Task01-checkpoint.ipynb\n",
      "\n",
      "The current folder is d:\\pythontest\\DW_oa\\usa\n",
      "File Inside d:\\pythontest\\DW_oa\\usa:exam0.txt\n",
      "File Inside d:\\pythontest\\DW_oa\\usa:exam1.txt\n",
      "File Inside d:\\pythontest\\DW_oa\\usa:exam10.txt\n",
      "File Inside d:\\pythontest\\DW_oa\\usa:exam11.txt\n",
      "File Inside d:\\pythontest\\DW_oa\\usa:exam12.txt\n",
      "File Inside d:\\pythontest\\DW_oa\\usa:exam13.txt\n",
      "File Inside d:\\pythontest\\DW_oa\\usa:exam14.txt\n",
      "File Inside d:\\pythontest\\DW_oa\\usa:exam15.txt\n",
      "File Inside d:\\pythontest\\DW_oa\\usa:exam16.txt\n",
      "File Inside d:\\pythontest\\DW_oa\\usa:exam17.txt\n",
      "File Inside d:\\pythontest\\DW_oa\\usa:exam18.txt\n",
      "File Inside d:\\pythontest\\DW_oa\\usa:exam19.txt\n",
      "File Inside d:\\pythontest\\DW_oa\\usa:exam2.txt\n",
      "File Inside d:\\pythontest\\DW_oa\\usa:exam20.txt\n",
      "File Inside d:\\pythontest\\DW_oa\\usa:exam21.txt\n",
      "File Inside d:\\pythontest\\DW_oa\\usa:exam22.txt\n",
      "File Inside d:\\pythontest\\DW_oa\\usa:exam23.txt\n",
      "File Inside d:\\pythontest\\DW_oa\\usa:exam24.txt\n",
      "File Inside d:\\pythontest\\DW_oa\\usa:exam25.txt\n",
      "File Inside d:\\pythontest\\DW_oa\\usa:exam26.txt\n",
      "File Inside d:\\pythontest\\DW_oa\\usa:exam27.txt\n",
      "File Inside d:\\pythontest\\DW_oa\\usa:exam28.txt\n",
      "File Inside d:\\pythontest\\DW_oa\\usa:exam29.txt\n",
      "File Inside d:\\pythontest\\DW_oa\\usa:exam3.txt\n",
      "File Inside d:\\pythontest\\DW_oa\\usa:exam30.txt\n",
      "File Inside d:\\pythontest\\DW_oa\\usa:exam31.txt\n",
      "File Inside d:\\pythontest\\DW_oa\\usa:exam32.txt\n",
      "File Inside d:\\pythontest\\DW_oa\\usa:exam33.txt\n",
      "File Inside d:\\pythontest\\DW_oa\\usa:exam34.txt\n",
      "File Inside d:\\pythontest\\DW_oa\\usa:exam4.txt\n",
      "File Inside d:\\pythontest\\DW_oa\\usa:exam5.txt\n",
      "File Inside d:\\pythontest\\DW_oa\\usa:exam6.txt\n",
      "File Inside d:\\pythontest\\DW_oa\\usa:exam7.txt\n",
      "File Inside d:\\pythontest\\DW_oa\\usa:exam8.txt\n",
      "File Inside d:\\pythontest\\DW_oa\\usa:exam9.txt\n",
      "\n",
      "The current folder is d:\\pythontest\\DW_oa\\__pycache__\n",
      "File Inside d:\\pythontest\\DW_oa\\__pycache__:myCats.cpython-37.pyc\n",
      "\n",
      "The current folder is d:\\pythontest\\DW_oa\\图片\n",
      "File Inside d:\\pythontest\\DW_oa\\图片:Excel.png\n",
      "File Inside d:\\pythontest\\DW_oa\\图片:excel到word.xlsx\n",
      "File Inside d:\\pythontest\\DW_oa\\图片:image-20210518151332873.png\n",
      "File Inside d:\\pythontest\\DW_oa\\图片:image-20210518154517118.png\n",
      "File Inside d:\\pythontest\\DW_oa\\图片:mail.png\n",
      "File Inside d:\\pythontest\\DW_oa\\图片:pycharm1.png\n",
      "File Inside d:\\pythontest\\DW_oa\\图片:pycharm2.png\n",
      "File Inside d:\\pythontest\\DW_oa\\图片:参会人名单.png\n",
      "File Inside d:\\pythontest\\DW_oa\\图片:周杰伦.jpg\n",
      "File Inside d:\\pythontest\\DW_oa\\图片:图5.1.png\n",
      "File Inside d:\\pythontest\\DW_oa\\图片:安装docx.png\n",
      "File Inside d:\\pythontest\\DW_oa\\图片:邀请函样式.png\n",
      "File Inside d:\\pythontest\\DW_oa\\图片:页眉页脚设置.png\n",
      "\n"
     ]
    }
   ],
   "source": [
    "for folderName, subFolders,fileNames in os.walk('d:\\\\pythontest\\\\DW_oa'):\n",
    "    print('The current folder is ' + folderName)\n",
    "    for subFolder in subFolders:\n",
    "        print('Subfolder of '  + folderName+':'+subFolder)\n",
    "    for filename in fileNames:\n",
    "        print('File Inside '  + folderName+':'+filename)\n",
    "    print('')   "
   ]
  },
  {
   "cell_type": "markdown",
   "metadata": {},
   "source": [
    "## 1.2.3 用zipfile模块压缩文件\n",
    "\n",
    "为方便传输，常常将文件打包成.zip格式文件。利用zipfile模块中的函数，Python程序可以创建和打开（或解压）zip文件。"
   ]
  },
  {
   "cell_type": "markdown",
   "metadata": {},
   "source": [
    "### 1.2.3.1 创建和添加到zip文件\n",
    "\n",
    "将上述章节中animals文件夹进行压缩。创建一个example.zip的zip文件，并向其中添加文件。\n",
    "\n",
    "`zipfile.ZipFile('filename.zip', 'w')` ：以写模式创建一个压缩文件\n",
    "\n",
    "`ZipFile` 对象的 `write('filename','compress_type=zipfile.ZIP_DEFLATED')`方法：如果向`write()`方法中传入一个路径，Python 就会压缩该路径所指的文件， 将它加到 ZIP 文件中。 如果向`write()`方法中传入一个字符串，代表要添加的文件名。第二个参数是“压缩类型”参数，告诉计算机用怎样的算法来压缩文件。可以总是将这个值设置为 `zipfile.ZIP_DEFLATED`（这指定了 deflate 压缩算法，它对各种类型的数据都很有效）。\n",
    "\n",
    "注意：写模式会擦除zip文件中所有原有的内容。如果只希望将文件添加到原有的zip文件中，就要向`zipfile.ZipFile()`传入'a'作为第二个参数，以添加模式打开 ZIP 文件。"
   ]
  },
  {
   "cell_type": "code",
   "execution_count": 75,
   "metadata": {},
   "outputs": [],
   "source": [
    "import zipfile\n",
    "newZip = zipfile.ZipFile('new.zip','w')\n",
    "newZip.write('hello.txt',compress_type=zipfile.ZIP_DEFLATED)\n",
    "newZip.close()   # w写入模式为覆盖原来的所有文件"
   ]
  },
  {
   "cell_type": "code",
   "execution_count": 76,
   "metadata": {},
   "outputs": [],
   "source": [
    "newZip = zipfile.ZipFile('new.zip','a')\n",
    "newZip.write('usa.xlsx',compress_type=zipfile.ZIP_DEFLATED)\n",
    "newZip.close()   # a写入为追加文件"
   ]
  },
  {
   "cell_type": "code",
   "execution_count": 77,
   "metadata": {},
   "outputs": [
    {
     "data": {
      "text/plain": [
       "\"\\n## 2 创建一个example.zip的压缩文件，将animals文件夹下所有文件进行压缩。该实例用作参考\\nimport zipfile\\nimport os\\nnewZip = zipfile.ZipFile('example.zip','w')\\nfor folderName, subFolders,fileNames in os.walk('D:\\\\animals'):\\n    for filename in fileNames:\\n        newZip.write(os.path.join(folderName,filename),compress_type=zipfile.ZIP_DEFLATED)\\nnewZip.close()\\n\""
      ]
     },
     "execution_count": 77,
     "metadata": {},
     "output_type": "execute_result"
    }
   ],
   "source": [
    "'''\n",
    "## 2 创建一个example.zip的压缩文件，将animals文件夹下所有文件进行压缩。该实例用作参考\n",
    "import zipfile\n",
    "import os\n",
    "newZip = zipfile.ZipFile('example.zip','w')\n",
    "for folderName, subFolders,fileNames in os.walk('D:\\\\animals'):\n",
    "    for filename in fileNames:\n",
    "        newZip.write(os.path.join(folderName,filename),compress_type=zipfile.ZIP_DEFLATED)\n",
    "newZip.close()\n",
    "'''"
   ]
  },
  {
   "cell_type": "markdown",
   "metadata": {},
   "source": [
    "### 1.2.3.2 读取zip文件\n",
    "\n",
    "调用`zipfile.ZipFile(filename)`函数创建一个`ZipFile`对象（注意大写字母Z和F）,filename是要读取zip文件的文件名。\n",
    "\n",
    "`ZipFile`对象中的两个常用方法：\n",
    "\n",
    "`namelist()`方法，返回zip文件中包含的所有文件和文件夹的字符串列表。\n",
    "\n",
    "`getinfo()`方法，返回一个关于特定文件的`ZipInfo`对象。\n",
    "\n",
    "`ZipInfo`对象的两个属性：`file_size`和`compress_size`，分别表示原来文件大小和压缩后文件大小。"
   ]
  },
  {
   "cell_type": "code",
   "execution_count": 78,
   "metadata": {},
   "outputs": [
    {
     "data": {
      "text/plain": [
       "['hello.txt', 'usa.xlsx']"
      ]
     },
     "execution_count": 78,
     "metadata": {},
     "output_type": "execute_result"
    }
   ],
   "source": [
    "newZip.namelist()"
   ]
  },
  {
   "cell_type": "code",
   "execution_count": 79,
   "metadata": {},
   "outputs": [
    {
     "data": {
      "text/plain": [
       "<ZipInfo filename='usa.xlsx' compress_type=deflate filemode='-rw-rw-rw-' file_size=19712 compress_size=16017>"
      ]
     },
     "execution_count": 79,
     "metadata": {},
     "output_type": "execute_result"
    }
   ],
   "source": [
    "catinfo = newZip.getinfo('usa.xlsx')\n",
    "catinfo"
   ]
  },
  {
   "cell_type": "code",
   "execution_count": 80,
   "metadata": {},
   "outputs": [
    {
     "data": {
      "text/plain": [
       "19712"
      ]
     },
     "execution_count": 80,
     "metadata": {},
     "output_type": "execute_result"
    }
   ],
   "source": [
    "catinfo.file_size"
   ]
  },
  {
   "cell_type": "code",
   "execution_count": 81,
   "metadata": {},
   "outputs": [
    {
     "data": {
      "text/plain": [
       "16017"
      ]
     },
     "execution_count": 81,
     "metadata": {},
     "output_type": "execute_result"
    }
   ],
   "source": [
    "catinfo.compress_size"
   ]
  },
  {
   "cell_type": "code",
   "execution_count": 82,
   "metadata": {},
   "outputs": [
    {
     "name": "stdout",
     "output_type": "stream",
     "text": [
      "Compressed file is 1.23 x smaller!\n"
     ]
    }
   ],
   "source": [
    "print('Compressed file is %s x smaller!' %(round(catinfo.file_size/catinfo.compress_size,2)))"
   ]
  },
  {
   "cell_type": "code",
   "execution_count": 83,
   "metadata": {},
   "outputs": [],
   "source": [
    "newZip.close()"
   ]
  },
  {
   "cell_type": "markdown",
   "metadata": {},
   "source": [
    "### 1.2.3.3 从zip文件中解压缩\n",
    "\n",
    "`ZipFile` 对象的 `extractall()`方法：从zip文件中解压缩所有文件和文件夹，放到当前工作目录中。也可以向`extractall()`传递的一个文件夹名称，它将文件解压缩到那个文件夹， 而不是当前工作目录。如果传递的文件夹名称不存在，就会被创建。\n",
    "\n",
    "`ZipFile` 对象的 `extract()`方法:从zip文件中解压单个文件。也可以向 extract()传递第二个参数， 将文件解压缩到指定的文件夹， 而不是当前工作目录。如果第二个参数指定的文件夹不存在， Python 就会创建它。extract()的返回值是被压缩后文件的绝对路径。"
   ]
  },
  {
   "cell_type": "code",
   "execution_count": 84,
   "metadata": {},
   "outputs": [],
   "source": [
    "exampleZip = zipfile.ZipFile('new.zip')\n",
    "exampleZip.extractall('.\\\\tmp')\n",
    "exampleZip.close()   # 解压所有文件到指定目录"
   ]
  },
  {
   "cell_type": "code",
   "execution_count": 85,
   "metadata": {},
   "outputs": [],
   "source": [
    "shutil.rmtree('tmp')"
   ]
  },
  {
   "cell_type": "code",
   "execution_count": 86,
   "metadata": {},
   "outputs": [],
   "source": [
    "exampleZip = zipfile.ZipFile('new.zip')\n",
    "exampleZip.extract('hello.txt', '.\\\\tmp')\n",
    "exampleZip.close()   # 解压某一文件到指定目录"
   ]
  },
  {
   "cell_type": "code",
   "execution_count": 87,
   "metadata": {},
   "outputs": [],
   "source": [
    "shutil.rmtree('tmp')"
   ]
  },
  {
   "cell_type": "markdown",
   "metadata": {},
   "source": [
    "## 1.2.4 练习\n",
    "\n",
    "1）、编写一个程序，遍历一个目录树，查找特定扩展名的文件（诸如.pdf 或.jpg）。不论这些文件的位置在哪里， 将它们拷贝到一个新的文件夹中。"
   ]
  },
  {
   "cell_type": "code",
   "execution_count": 88,
   "metadata": {},
   "outputs": [
    {
     "data": {
      "text/plain": [
       "['Excel.png',\n",
       " 'image-20210518151332873.png',\n",
       " 'image-20210518154517118.png',\n",
       " 'mail.png',\n",
       " 'pycharm1.png',\n",
       " 'pycharm2.png',\n",
       " '参会人名单.png',\n",
       " '图5.1.png',\n",
       " '安装docx.png',\n",
       " '邀请函样式.png',\n",
       " '页眉页脚设置.png']"
      ]
     },
     "execution_count": 88,
     "metadata": {},
     "output_type": "execute_result"
    }
   ],
   "source": [
    "os.makedirs('tmp')\n",
    "for folderName, subFolders,fileNames in os.walk('d:\\\\pythontest\\\\DW_oa'):\n",
    "    for filename in fileNames:\n",
    "        if filename[-3:] == 'png':   # 查找扩展名png的文件\n",
    "            name = folderName + '\\\\' + filename\n",
    "            shutil.copy(name, 'tmp') \n",
    "os.listdir('tmp')"
   ]
  },
  {
   "cell_type": "code",
   "execution_count": 89,
   "metadata": {},
   "outputs": [],
   "source": [
    "shutil.rmtree('tmp')"
   ]
  },
  {
   "cell_type": "markdown",
   "metadata": {},
   "source": [
    "2） 、一些不需要的、 巨大的文件或文件夹占据了硬盘的空间， 这并不少见。如果你试图释放计算机上的空间， 那么删除不想要的巨大文件效果最好。但首先你必须找到它们。编写一个程序， 遍历一个目录树， 查找特别大的文件或文件夹， 比方说， 超过100MB 的文件（回忆一下，要获得文件的大小，可以使用 os 模块的 `os.path.getsize()`）。将这些文件的绝对路径打印到屏幕上。"
   ]
  },
  {
   "cell_type": "code",
   "execution_count": 90,
   "metadata": {},
   "outputs": [
    {
     "name": "stdout",
     "output_type": "stream",
     "text": [
      "D:\\BaiduNetdiskDownload\\Machine_Learning.zip\n",
      "D:\\BaiduNetdiskDownload\\SPSS 24 64位安装包.zip\n",
      "D:\\BaiduNetdiskDownload\\SPSS_Statistics_24_win64.exe\n",
      "D:\\BaiduNetdiskDownload\\Machine_Learning\\resources\\FBlocation\\train.csv\n",
      "D:\\BaiduNetdiskDownload\\Machine_Learning\\resources\\instacart\\order_products__prior.csv\n"
     ]
    }
   ],
   "source": [
    "for folderName, subFolders,fileNames in os.walk('D:\\\\BaiduNetdiskDownload'):\n",
    "    for filename in fileNames:\n",
    "        name = folderName + '\\\\' + filename\n",
    "        if os.path.getsize(name) > 1024**2*500:   # 查找大于500M的文件\n",
    "            print(name)"
   ]
  },
  {
   "cell_type": "markdown",
   "metadata": {},
   "source": [
    "3）、编写一个程序， 在一个文件夹中， 找到所有带指定前缀的文件， 诸如 spam001.txt,spam002.txt 等，并定位缺失的编号（例如存在 spam001.txt 和 spam003.txt， 但不存在 spam002.txt）。让该程序对所有后面的文件改名， 消除缺失的编号。作为附加的挑战，编写另一个程序，在一些连续编号的文件中，空出一些编号，以便加入新的文件。"
   ]
  },
  {
   "cell_type": "code",
   "execution_count": 91,
   "metadata": {},
   "outputs": [
    {
     "data": {
      "text/plain": [
       "['exam0.txt',\n",
       " 'exam1.txt',\n",
       " 'exam10.txt',\n",
       " 'exam12.txt',\n",
       " 'exam13.txt',\n",
       " 'exam14.txt',\n",
       " 'exam15.txt',\n",
       " 'exam16.txt',\n",
       " 'exam17.txt',\n",
       " 'exam18.txt',\n",
       " 'exam19.txt',\n",
       " 'exam2.txt',\n",
       " 'exam20.txt',\n",
       " 'exam21.txt',\n",
       " 'exam23.txt',\n",
       " 'exam24.txt',\n",
       " 'exam25.txt',\n",
       " 'exam26.txt',\n",
       " 'exam27.txt',\n",
       " 'exam28.txt',\n",
       " 'exam29.txt',\n",
       " 'exam3.txt',\n",
       " 'exam30.txt',\n",
       " 'exam31.txt',\n",
       " 'exam32.txt',\n",
       " 'exam34.txt',\n",
       " 'exam4.txt',\n",
       " 'exam5.txt',\n",
       " 'exam6.txt',\n",
       " 'exam7.txt',\n",
       " 'exam8.txt',\n",
       " 'exam9.txt']"
      ]
     },
     "execution_count": 91,
     "metadata": {},
     "output_type": "execute_result"
    }
   ],
   "source": [
    "shutil.copytree('usa', 'tmp')\n",
    "os.unlink('tmp\\\\exam11.txt')\n",
    "os.unlink('tmp\\\\exam22.txt')\n",
    "os.unlink('tmp\\\\exam33.txt')\n",
    "os.listdir('tmp')   # 复制usa文件夹，删除几个文件"
   ]
  },
  {
   "cell_type": "code",
   "execution_count": 92,
   "metadata": {
    "scrolled": false
   },
   "outputs": [],
   "source": [
    "pwd = 'd:\\\\pythontest\\\\DW_oa\\\\tmp'\n",
    "i = 1\n",
    "for filename in os.listdir(pwd):\n",
    "    name = 'exam' + '{:0>3}'.format(i) + '.txt'\n",
    "    os.rename(os.path.join(pwd, filename), os.path.join(pwd, name))\n",
    "    i = i + 1"
   ]
  },
  {
   "cell_type": "code",
   "execution_count": 93,
   "metadata": {},
   "outputs": [
    {
     "data": {
      "text/plain": [
       "['exam001.txt',\n",
       " 'exam002.txt',\n",
       " 'exam003.txt',\n",
       " 'exam004.txt',\n",
       " 'exam005.txt',\n",
       " 'exam006.txt',\n",
       " 'exam007.txt',\n",
       " 'exam008.txt',\n",
       " 'exam009.txt',\n",
       " 'exam010.txt',\n",
       " 'exam011.txt',\n",
       " 'exam012.txt',\n",
       " 'exam013.txt',\n",
       " 'exam014.txt',\n",
       " 'exam015.txt',\n",
       " 'exam016.txt',\n",
       " 'exam017.txt',\n",
       " 'exam018.txt',\n",
       " 'exam019.txt',\n",
       " 'exam020.txt',\n",
       " 'exam021.txt',\n",
       " 'exam022.txt',\n",
       " 'exam023.txt',\n",
       " 'exam024.txt',\n",
       " 'exam025.txt',\n",
       " 'exam026.txt',\n",
       " 'exam027.txt',\n",
       " 'exam028.txt',\n",
       " 'exam029.txt',\n",
       " 'exam030.txt',\n",
       " 'exam031.txt',\n",
       " 'exam032.txt']"
      ]
     },
     "execution_count": 93,
     "metadata": {},
     "output_type": "execute_result"
    }
   ],
   "source": [
    "os.listdir(pwd)"
   ]
  },
  {
   "cell_type": "markdown",
   "metadata": {},
   "source": [
    "以上的做法是批量修改了文件名，没有按照文件名检测，不符合练习要求，重新再做"
   ]
  },
  {
   "cell_type": "code",
   "execution_count": 94,
   "metadata": {},
   "outputs": [],
   "source": [
    "os.unlink('tmp\\\\exam018.txt')   # 再删除一个文件"
   ]
  },
  {
   "cell_type": "code",
   "execution_count": 95,
   "metadata": {},
   "outputs": [],
   "source": [
    "i = 1\n",
    "for filename in os.listdir(pwd):\n",
    "    if filename[4:7] != '{:0>3}'.format(i):\n",
    "        name = 'exam' + '{:0>3}'.format(i) + '.txt'\n",
    "        os.rename(os.path.join(pwd, filename), os.path.join(pwd, name))\n",
    "        i += 1\n",
    "    else:\n",
    "        i += 1"
   ]
  },
  {
   "cell_type": "code",
   "execution_count": 96,
   "metadata": {},
   "outputs": [
    {
     "data": {
      "text/plain": [
       "['exam001.txt',\n",
       " 'exam002.txt',\n",
       " 'exam003.txt',\n",
       " 'exam004.txt',\n",
       " 'exam005.txt',\n",
       " 'exam006.txt',\n",
       " 'exam007.txt',\n",
       " 'exam008.txt',\n",
       " 'exam009.txt',\n",
       " 'exam010.txt',\n",
       " 'exam011.txt',\n",
       " 'exam012.txt',\n",
       " 'exam013.txt',\n",
       " 'exam014.txt',\n",
       " 'exam015.txt',\n",
       " 'exam016.txt',\n",
       " 'exam017.txt',\n",
       " 'exam018.txt',\n",
       " 'exam019.txt',\n",
       " 'exam020.txt',\n",
       " 'exam021.txt',\n",
       " 'exam022.txt',\n",
       " 'exam023.txt',\n",
       " 'exam024.txt',\n",
       " 'exam025.txt',\n",
       " 'exam026.txt',\n",
       " 'exam027.txt',\n",
       " 'exam028.txt',\n",
       " 'exam029.txt',\n",
       " 'exam030.txt',\n",
       " 'exam031.txt']"
      ]
     },
     "execution_count": 96,
     "metadata": {},
     "output_type": "execute_result"
    }
   ],
   "source": [
    "os.listdir(pwd)"
   ]
  },
  {
   "cell_type": "markdown",
   "metadata": {},
   "source": [
    "解决了第一个问题，再来解决附加挑战：编写另一个程序，在一些连续编号的文件中，空出一些编号，以便加入新的文件。"
   ]
  },
  {
   "cell_type": "code",
   "execution_count": 97,
   "metadata": {},
   "outputs": [],
   "source": [
    "i = 1\n",
    "x = 1\n",
    "for filename in os.listdir(pwd):\n",
    "    if filename[4:7] == '{:0>3}'.format(x+5):   # 每间隔五个文件留空位\n",
    "        name = 'exam' + '{:0>4}'.format(i+1) + '.txt'\n",
    "        os.rename(os.path.join(pwd, filename), os.path.join(pwd, name))\n",
    "        i += 2\n",
    "        x += 5\n",
    "    else:\n",
    "        name = 'exam' + '{:0>4}'.format(i) + '.txt'\n",
    "        os.rename(os.path.join(pwd, filename), os.path.join(pwd, name))\n",
    "        i += 1"
   ]
  },
  {
   "cell_type": "code",
   "execution_count": 98,
   "metadata": {},
   "outputs": [
    {
     "data": {
      "text/plain": [
       "['exam0001.txt',\n",
       " 'exam0002.txt',\n",
       " 'exam0003.txt',\n",
       " 'exam0004.txt',\n",
       " 'exam0005.txt',\n",
       " 'exam0007.txt',\n",
       " 'exam0008.txt',\n",
       " 'exam0009.txt',\n",
       " 'exam0010.txt',\n",
       " 'exam0011.txt',\n",
       " 'exam0013.txt',\n",
       " 'exam0014.txt',\n",
       " 'exam0015.txt',\n",
       " 'exam0016.txt',\n",
       " 'exam0017.txt',\n",
       " 'exam0019.txt',\n",
       " 'exam0020.txt',\n",
       " 'exam0021.txt',\n",
       " 'exam0022.txt',\n",
       " 'exam0023.txt',\n",
       " 'exam0025.txt',\n",
       " 'exam0026.txt',\n",
       " 'exam0027.txt',\n",
       " 'exam0028.txt',\n",
       " 'exam0029.txt',\n",
       " 'exam0031.txt',\n",
       " 'exam0032.txt',\n",
       " 'exam0033.txt',\n",
       " 'exam0034.txt',\n",
       " 'exam0035.txt',\n",
       " 'exam0037.txt']"
      ]
     },
     "execution_count": 98,
     "metadata": {},
     "output_type": "execute_result"
    }
   ],
   "source": [
    "os.listdir(pwd)"
   ]
  },
  {
   "cell_type": "code",
   "execution_count": 99,
   "metadata": {},
   "outputs": [],
   "source": [
    "shutil.rmtree('tmp')"
   ]
  },
  {
   "cell_type": "markdown",
   "metadata": {},
   "source": [
    "在原有序号中增加空位，用os.rename存在无法覆盖原文件，对所有文件重新进行了命名，想不到更好的方法了"
   ]
  },
  {
   "cell_type": "markdown",
   "metadata": {},
   "source": [
    "## 2 自动发送电子邮件\n",
    "\n",
    "使用Python实现自动化邮件发送，可以让你摆脱繁琐的重复性业务，节省非常多的时间。\n",
    "\n",
    "Python有两个内置库：`smtplib`和`email`，能够实现邮件功能，`smtplib`库负责发送邮件，`email`库负责构造邮件格式和内容。\n",
    "\n",
    "邮件发送需要遵守**SMTP**协议，Python内置对SMTP的支持，可以发送纯文本邮件、HTML邮件以及带附件的邮件。"
   ]
  },
  {
   "cell_type": "code",
   "execution_count": 100,
   "metadata": {},
   "outputs": [],
   "source": [
    "#1 先导入相关的库和方法\n",
    "import smtplib  #导入库\n",
    "from smtplib import SMTP_SSL  #加密邮件内容，防止中途被截获\n",
    "from email.mime.text import  MIMEText   #构造邮件的正文\n",
    "from email.mime.image import MIMEImage  #构造邮件的图片\n",
    "from email.mime.multipart import MIMEMultipart   #把邮件的各个部分装在一起，邮件的主体\n",
    "from email.header import Header   #邮件的文件头，标题，收件人"
   ]
  },
  {
   "cell_type": "code",
   "execution_count": 101,
   "metadata": {},
   "outputs": [],
   "source": [
    "#2 设置邮箱域名、发件人邮箱、邮箱授权码、收件人邮箱\n",
    "host_server = 'smtp.163.com' #sina 邮箱smtp服务器                 #smtp 服务器的地址\n",
    "sender_163 = 'pythonauto_emai@163.com'                   #sender_163为发件人的邮箱\n",
    "pwd = 'DYEPOGLZDZYLOMRI'                    #pwd为邮箱的授权码'DYEPOGLZDZYLOMRI'\n",
    "#也可以自己注册个邮箱，邮箱授权码'DYEPOGLZDZYLOMRI' 获取方式可参考#http://help.163.com/14/0923/22/A6S1FMJD00754KNP.html\n",
    "receiver = 'pythonauto_emai@163.com'"
   ]
  },
  {
   "cell_type": "code",
   "execution_count": 102,
   "metadata": {},
   "outputs": [],
   "source": [
    "#3 构建MIMEMultipart对象代表邮件本身，可以往里面添加文本、图片、附件等\n",
    "msg = MIMEMultipart()    #邮件主体"
   ]
  },
  {
   "cell_type": "code",
   "execution_count": 103,
   "metadata": {},
   "outputs": [],
   "source": [
    "#4 设置邮件头部内容\n",
    "mail_title = 'python办公自动化邮件'   # 邮件标题\n",
    "msg[\"Subject\"] = Header(mail_title,'utf-8')  #装入主体\n",
    "msg[\"From\"] = sender_163           #寄件人\n",
    "msg[\"To\"] = Header(\"测试邮箱\",'utf-8') #标题"
   ]
  },
  {
   "cell_type": "code",
   "execution_count": 104,
   "metadata": {},
   "outputs": [],
   "source": [
    "#5 添加正文文本\n",
    "mail_content = \"您好，这是使用python登录163邮箱发送邮件的测试\"   #邮件的正文内容\n",
    "message_text = MIMEText(mail_content,'plain','utf-8')   #构造文本,参数1：正文内容，参数2：文本格式，参数3：编码方式\n",
    "msg.attach(message_text)    # 向MIMEMultipart对象中添加文本对象"
   ]
  },
  {
   "cell_type": "code",
   "execution_count": 105,
   "metadata": {},
   "outputs": [],
   "source": [
    "#6 添加图片\n",
    "image_data = open('图片\\\\周杰伦.jpg','rb')   # 二进制读取图片\n",
    "message_image = MIMEImage(image_data.read())  # 设置读取获取的二进制数据\n",
    "image_data.close()       # 关闭刚才打开的文件\n",
    "msg.attach(message_image)  # 添加图片文件到邮件信息当中去"
   ]
  },
  {
   "cell_type": "code",
   "execution_count": 106,
   "metadata": {},
   "outputs": [],
   "source": [
    "# 7 添加附件(excel表格)\n",
    "atta = MIMEText(open('usa.xlsx', 'rb').read(), 'base64', 'utf-8')   # 构造附件\n",
    "atta[\"Content-Disposition\"] = 'attachment; filename=\"usa.xlsx\"'  # 设置附件信息\n",
    "msg.attach(atta)       ## 添加附件到邮件信息当中去"
   ]
  },
  {
   "cell_type": "code",
   "execution_count": 107,
   "metadata": {},
   "outputs": [
    {
     "name": "stdout",
     "output_type": "stream",
     "text": [
      "邮件发送成功\n"
     ]
    },
    {
     "data": {
      "text/plain": [
       "<bound method SMTP.quit of <smtplib.SMTP_SSL object at 0x00000229C6D9D088>>"
      ]
     },
     "execution_count": 107,
     "metadata": {},
     "output_type": "execute_result"
    }
   ],
   "source": [
    "#8 发送邮件\n",
    "smtp = SMTP_SSL(host_server)       #SSL登录  创建SMTP对象\n",
    "smtp.login(sender_163,pwd)         ## 登录邮箱，传递参数1：邮箱地址，参数2：邮箱授权码\n",
    "smtp.sendmail(sender_163,receiver,msg.as_string()) # 发送邮件，传递参数1：发件人邮箱地址，参数2：收件人邮箱地址，参数3：把邮件内容格式改为str\n",
    "print(\"邮件发送成功\")\n",
    "smtp.quit         # 关闭SMTP对象"
   ]
  },
  {
   "attachments": {
    "mail.png": {
     "image/png": "[encoded data removed]"
    }
   },
   "cell_type": "markdown",
   "metadata": {},
   "source": [
    "现在邮箱的垃圾识别系统太灵敏，多次发送均未成功，只能是自己发给自己才可以\n",
    "\n",
    "邮件发送成功后改回教程的内容，留模版在这吧。\n",
    "\n",
    "![mail.png](attachment:mail.png)"
   ]
  },
  {
   "cell_type": "markdown",
   "metadata": {},
   "source": [
    "端午在家，花时间完成了第一节课，接下来要上班，只能忙里偷闲了，要尽量早完成，万一有什么事突然要忙呢。  \n",
    "学了感觉又掌握了一些东西，还是得多学学，不然很容易忘记，这课程很不错，继续加油。"
   ]
  },
  {
   "cell_type": "code",
   "execution_count": null,
   "metadata": {},
   "outputs": [],
   "source": []
  }
 ],
 "metadata": {
  "kernelspec": {
   "display_name": "Python 3",
   "language": "python",
   "name": "python3"
  },
  "language_info": {
   "codemirror_mode": {
    "name": "ipython",
    "version": 3
   },
   "file_extension": ".py",
   "mimetype": "text/x-python",
   "name": "python",
   "nbconvert_exporter": "python",
   "pygments_lexer": "ipython3",
   "version": "3.7.6"
  }
 },
 "nbformat": 4,
 "nbformat_minor": 4
}
