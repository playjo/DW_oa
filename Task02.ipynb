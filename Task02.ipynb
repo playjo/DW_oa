{
 "cells": [
  {
   "cell_type": "markdown",
   "metadata": {},
   "source": [
    "# DW_oa_Task02\n",
    "## Python自动化之Excel\n",
    "## 20210615"
   ]
  },
  {
   "cell_type": "markdown",
   "metadata": {},
   "source": [
    "# Python自动化之Excel\n",
    "\n",
    "方法一：应用pip执行命令\n",
    "\n",
    "安装**openpyxl**模块`pip install openpyxl`\n",
    "\n",
    "方法二：在Pycharm中：File->Setting->左侧Project Interpreter\n",
    "\n",
    "![image-20210521175826192](./图片/pycharm1.png)\n",
    "\n",
    "![image-20210521175849021](./图片/pycharm2.png)\n",
    "\n",
    "Excel表的结构图:\n",
    "\n",
    "![](./图片/Excel.png)"
   ]
  },
  {
   "cell_type": "markdown",
   "metadata": {},
   "source": [
    "### Excel读取\n",
    "\n",
    "#### openpyxl：对xlsx文件进行读操作（百度资料获取）\n",
    "1.获取工作簿对象：openpyxl.load_workbook()  \n",
    "workBook = openpyxl.load_workbook(filemname)：读取xlsx文件  \n",
    "注：filemname为文件名以及路径，如果路径或者文件名有中文给前面加一个r表示原生字符。  \n",
    "\n",
    "2.获取工作表（sheet）对象  \n",
    "1）workBook.get_sheet_names()：获取所有sheet页的名字（所有工作表名）  \n",
    "2）sheetName = workBook.get_sheet_by_name(‘sheet1’)：根据sheet页的名字获取指定表名的表  \n",
    "3）sheetName = workBook.worksheets[0]:根据sheet索引获取对应sheet表  \n",
    "\n",
    "3.获取sheet的名称：title  \n",
    "sheetName.title：获取sheet的名称  \n",
    "\n",
    "4.获取行数和列数：max_row、max_column  \n",
    "sheetName.max_row：获取表格的总行数  \n",
    "sheetName.max_column：获取表格的总列数  \n",
    "\n",
    "5.获取整行或整列的值（数组）：rows[i]、columns[i]  \n",
    "rows = sheetName.rows：获取每一行内容，这是一个生成器，里面是每一行数据，每一行数据由一个元组类型包裹  \n",
    "cols = sheetName.columns ：获取每一列内容，同上  \n",
    "sheetName.rows[0]：获取第一行内容–索引从0计数  \n",
    "sheetName.columns[0]：获取第一列内容–索引从0计数  \n",
    "\n",
    "6.获取指定单元格的值：cell(a,b).value–索引从1计数  \n",
    "sheetName[‘A1’].value：获取第1行第一(A)列的单元格数据  \n",
    "sheetName.cell(1,1).value：获取第1行第一列的单元格数据  \n",
    "注：此处的行数和列数都是从1开始计数的，而在xlrd中是由0开始计数的  "
   ]
  },
  {
   "cell_type": "markdown",
   "metadata": {},
   "source": [
    "#### 读取对应表格\n",
    "\n",
    "1. 打开已经存在的Excel表格"
   ]
  },
  {
   "cell_type": "code",
   "execution_count": 1,
   "metadata": {},
   "outputs": [
    {
     "name": "stdout",
     "output_type": "stream",
     "text": [
      "['usa']\n"
     ]
    }
   ],
   "source": [
    "from openpyxl import load_workbook\n",
    "exl = load_workbook(filename = 'usa.xlsx')\n",
    "print(exl.sheetnames)"
   ]
  },
  {
   "cell_type": "markdown",
   "metadata": {},
   "source": [
    "2. 根据名称获取表格"
   ]
  },
  {
   "cell_type": "code",
   "execution_count": 2,
   "metadata": {
    "scrolled": true
   },
   "outputs": [],
   "source": [
    "sheet = exl['usa']"
   ]
  },
  {
   "cell_type": "code",
   "execution_count": 3,
   "metadata": {},
   "outputs": [],
   "source": [
    "# 若只有一张表则：\n",
    "sheet_1 = exl.active"
   ]
  },
  {
   "cell_type": "code",
   "execution_count": 4,
   "metadata": {},
   "outputs": [
    {
     "data": {
      "text/plain": [
       "True"
      ]
     },
     "execution_count": 4,
     "metadata": {},
     "output_type": "execute_result"
    }
   ],
   "source": [
    "sheet == sheet_1   # 两种方式获取的内容是相同的"
   ]
  },
  {
   "cell_type": "markdown",
   "metadata": {},
   "source": [
    "3. 获取Excel 内容占据的大小"
   ]
  },
  {
   "cell_type": "code",
   "execution_count": 5,
   "metadata": {},
   "outputs": [
    {
     "name": "stdout",
     "output_type": "stream",
     "text": [
      "A1:D54\n"
     ]
    }
   ],
   "source": [
    "print(sheet.dimensions)"
   ]
  },
  {
   "cell_type": "markdown",
   "metadata": {},
   "source": [
    "#### 读取单元格\n",
    "\n",
    "1. 获取某个单元格的具体内容"
   ]
  },
  {
   "cell_type": "code",
   "execution_count": 6,
   "metadata": {},
   "outputs": [
    {
     "data": {
      "text/plain": [
       "'Column2'"
      ]
     },
     "execution_count": 6,
     "metadata": {},
     "output_type": "execute_result"
    }
   ],
   "source": [
    "cell = sheet.cell(row=1,column=2) #指定行列数\n",
    "cell.value"
   ]
  },
  {
   "cell_type": "code",
   "execution_count": 7,
   "metadata": {},
   "outputs": [
    {
     "data": {
      "text/plain": [
       "'Column1'"
      ]
     },
     "execution_count": 7,
     "metadata": {},
     "output_type": "execute_result"
    }
   ],
   "source": [
    "cell_1 = sheet['A1'] #指定坐标\n",
    "cell_1.value"
   ]
  },
  {
   "cell_type": "markdown",
   "metadata": {},
   "source": [
    "2. 获取单元格对应的行、列和坐标"
   ]
  },
  {
   "cell_type": "code",
   "execution_count": 8,
   "metadata": {},
   "outputs": [
    {
     "data": {
      "text/plain": [
       "1"
      ]
     },
     "execution_count": 8,
     "metadata": {},
     "output_type": "execute_result"
    }
   ],
   "source": [
    "cell.row    # 行"
   ]
  },
  {
   "cell_type": "code",
   "execution_count": 9,
   "metadata": {},
   "outputs": [
    {
     "data": {
      "text/plain": [
       "2"
      ]
     },
     "execution_count": 9,
     "metadata": {},
     "output_type": "execute_result"
    }
   ],
   "source": [
    "cell.column   # 列，这两项获取到的是数字"
   ]
  },
  {
   "cell_type": "code",
   "execution_count": 10,
   "metadata": {},
   "outputs": [
    {
     "data": {
      "text/plain": [
       "'B1'"
      ]
     },
     "execution_count": 10,
     "metadata": {},
     "output_type": "execute_result"
    }
   ],
   "source": [
    "cell.coordinate   # 坐标，获取到的是字符串"
   ]
  },
  {
   "cell_type": "markdown",
   "metadata": {},
   "source": [
    "#### 读取多个格子的值\n",
    "\n",
    "1. 指定坐标范围"
   ]
  },
  {
   "cell_type": "code",
   "execution_count": 11,
   "metadata": {},
   "outputs": [
    {
     "data": {
      "text/plain": [
       "((<Cell 'usa'.A1>, <Cell 'usa'.B1>, <Cell 'usa'.C1>),\n",
       " (<Cell 'usa'.A2>, <Cell 'usa'.B2>, <Cell 'usa'.C2>),\n",
       " (<Cell 'usa'.A3>, <Cell 'usa'.B3>, <Cell 'usa'.C3>),\n",
       " (<Cell 'usa'.A4>, <Cell 'usa'.B4>, <Cell 'usa'.C4>),\n",
       " (<Cell 'usa'.A5>, <Cell 'usa'.B5>, <Cell 'usa'.C5>),\n",
       " (<Cell 'usa'.A6>, <Cell 'usa'.B6>, <Cell 'usa'.C6>),\n",
       " (<Cell 'usa'.A7>, <Cell 'usa'.B7>, <Cell 'usa'.C7>),\n",
       " (<Cell 'usa'.A8>, <Cell 'usa'.B8>, <Cell 'usa'.C8>))"
      ]
     },
     "execution_count": 11,
     "metadata": {},
     "output_type": "execute_result"
    }
   ],
   "source": [
    "cells = sheet['A1:C8'] #A1到C8区域的值\n",
    "cells   # 获取的结果为元组"
   ]
  },
  {
   "cell_type": "markdown",
   "metadata": {},
   "source": [
    "2. 指定行的值"
   ]
  },
  {
   "cell_type": "code",
   "execution_count": 12,
   "metadata": {},
   "outputs": [
    {
     "data": {
      "text/plain": [
       "((<Cell 'usa'.A1>, <Cell 'usa'.B1>, <Cell 'usa'.C1>, <Cell 'usa'.D1>),\n",
       " (<Cell 'usa'.A2>, <Cell 'usa'.B2>, <Cell 'usa'.C2>, <Cell 'usa'.D2>))"
      ]
     },
     "execution_count": 12,
     "metadata": {},
     "output_type": "execute_result"
    }
   ],
   "source": [
    "Row = sheet[1] #第1行的值\n",
    "Rows = sheet[1:2] #第1到2行的值\n",
    "Rows"
   ]
  },
  {
   "cell_type": "markdown",
   "metadata": {},
   "source": [
    "3. 指定列的值"
   ]
  },
  {
   "cell_type": "code",
   "execution_count": 13,
   "metadata": {},
   "outputs": [
    {
     "data": {
      "text/plain": [
       "((<Cell 'usa'.A1>,\n",
       "  <Cell 'usa'.A2>,\n",
       "  <Cell 'usa'.A3>,\n",
       "  <Cell 'usa'.A4>,\n",
       "  <Cell 'usa'.A5>,\n",
       "  <Cell 'usa'.A6>,\n",
       "  <Cell 'usa'.A7>,\n",
       "  <Cell 'usa'.A8>,\n",
       "  <Cell 'usa'.A9>,\n",
       "  <Cell 'usa'.A10>,\n",
       "  <Cell 'usa'.A11>,\n",
       "  <Cell 'usa'.A12>,\n",
       "  <Cell 'usa'.A13>,\n",
       "  <Cell 'usa'.A14>,\n",
       "  <Cell 'usa'.A15>,\n",
       "  <Cell 'usa'.A16>,\n",
       "  <Cell 'usa'.A17>,\n",
       "  <Cell 'usa'.A18>,\n",
       "  <Cell 'usa'.A19>,\n",
       "  <Cell 'usa'.A20>,\n",
       "  <Cell 'usa'.A21>,\n",
       "  <Cell 'usa'.A22>,\n",
       "  <Cell 'usa'.A23>,\n",
       "  <Cell 'usa'.A24>,\n",
       "  <Cell 'usa'.A25>,\n",
       "  <Cell 'usa'.A26>,\n",
       "  <Cell 'usa'.A27>,\n",
       "  <Cell 'usa'.A28>,\n",
       "  <Cell 'usa'.A29>,\n",
       "  <Cell 'usa'.A30>,\n",
       "  <Cell 'usa'.A31>,\n",
       "  <Cell 'usa'.A32>,\n",
       "  <Cell 'usa'.A33>,\n",
       "  <Cell 'usa'.A34>,\n",
       "  <Cell 'usa'.A35>,\n",
       "  <Cell 'usa'.A36>,\n",
       "  <Cell 'usa'.A37>,\n",
       "  <Cell 'usa'.A38>,\n",
       "  <Cell 'usa'.A39>,\n",
       "  <Cell 'usa'.A40>,\n",
       "  <Cell 'usa'.A41>,\n",
       "  <Cell 'usa'.A42>,\n",
       "  <Cell 'usa'.A43>,\n",
       "  <Cell 'usa'.A44>,\n",
       "  <Cell 'usa'.A45>,\n",
       "  <Cell 'usa'.A46>,\n",
       "  <Cell 'usa'.A47>,\n",
       "  <Cell 'usa'.A48>,\n",
       "  <Cell 'usa'.A49>,\n",
       "  <Cell 'usa'.A50>,\n",
       "  <Cell 'usa'.A51>,\n",
       "  <Cell 'usa'.A52>,\n",
       "  <Cell 'usa'.A53>,\n",
       "  <Cell 'usa'.A54>),\n",
       " (<Cell 'usa'.B1>,\n",
       "  <Cell 'usa'.B2>,\n",
       "  <Cell 'usa'.B3>,\n",
       "  <Cell 'usa'.B4>,\n",
       "  <Cell 'usa'.B5>,\n",
       "  <Cell 'usa'.B6>,\n",
       "  <Cell 'usa'.B7>,\n",
       "  <Cell 'usa'.B8>,\n",
       "  <Cell 'usa'.B9>,\n",
       "  <Cell 'usa'.B10>,\n",
       "  <Cell 'usa'.B11>,\n",
       "  <Cell 'usa'.B12>,\n",
       "  <Cell 'usa'.B13>,\n",
       "  <Cell 'usa'.B14>,\n",
       "  <Cell 'usa'.B15>,\n",
       "  <Cell 'usa'.B16>,\n",
       "  <Cell 'usa'.B17>,\n",
       "  <Cell 'usa'.B18>,\n",
       "  <Cell 'usa'.B19>,\n",
       "  <Cell 'usa'.B20>,\n",
       "  <Cell 'usa'.B21>,\n",
       "  <Cell 'usa'.B22>,\n",
       "  <Cell 'usa'.B23>,\n",
       "  <Cell 'usa'.B24>,\n",
       "  <Cell 'usa'.B25>,\n",
       "  <Cell 'usa'.B26>,\n",
       "  <Cell 'usa'.B27>,\n",
       "  <Cell 'usa'.B28>,\n",
       "  <Cell 'usa'.B29>,\n",
       "  <Cell 'usa'.B30>,\n",
       "  <Cell 'usa'.B31>,\n",
       "  <Cell 'usa'.B32>,\n",
       "  <Cell 'usa'.B33>,\n",
       "  <Cell 'usa'.B34>,\n",
       "  <Cell 'usa'.B35>,\n",
       "  <Cell 'usa'.B36>,\n",
       "  <Cell 'usa'.B37>,\n",
       "  <Cell 'usa'.B38>,\n",
       "  <Cell 'usa'.B39>,\n",
       "  <Cell 'usa'.B40>,\n",
       "  <Cell 'usa'.B41>,\n",
       "  <Cell 'usa'.B42>,\n",
       "  <Cell 'usa'.B43>,\n",
       "  <Cell 'usa'.B44>,\n",
       "  <Cell 'usa'.B45>,\n",
       "  <Cell 'usa'.B46>,\n",
       "  <Cell 'usa'.B47>,\n",
       "  <Cell 'usa'.B48>,\n",
       "  <Cell 'usa'.B49>,\n",
       "  <Cell 'usa'.B50>,\n",
       "  <Cell 'usa'.B51>,\n",
       "  <Cell 'usa'.B52>,\n",
       "  <Cell 'usa'.B53>,\n",
       "  <Cell 'usa'.B54>),\n",
       " (<Cell 'usa'.C1>,\n",
       "  <Cell 'usa'.C2>,\n",
       "  <Cell 'usa'.C3>,\n",
       "  <Cell 'usa'.C4>,\n",
       "  <Cell 'usa'.C5>,\n",
       "  <Cell 'usa'.C6>,\n",
       "  <Cell 'usa'.C7>,\n",
       "  <Cell 'usa'.C8>,\n",
       "  <Cell 'usa'.C9>,\n",
       "  <Cell 'usa'.C10>,\n",
       "  <Cell 'usa'.C11>,\n",
       "  <Cell 'usa'.C12>,\n",
       "  <Cell 'usa'.C13>,\n",
       "  <Cell 'usa'.C14>,\n",
       "  <Cell 'usa'.C15>,\n",
       "  <Cell 'usa'.C16>,\n",
       "  <Cell 'usa'.C17>,\n",
       "  <Cell 'usa'.C18>,\n",
       "  <Cell 'usa'.C19>,\n",
       "  <Cell 'usa'.C20>,\n",
       "  <Cell 'usa'.C21>,\n",
       "  <Cell 'usa'.C22>,\n",
       "  <Cell 'usa'.C23>,\n",
       "  <Cell 'usa'.C24>,\n",
       "  <Cell 'usa'.C25>,\n",
       "  <Cell 'usa'.C26>,\n",
       "  <Cell 'usa'.C27>,\n",
       "  <Cell 'usa'.C28>,\n",
       "  <Cell 'usa'.C29>,\n",
       "  <Cell 'usa'.C30>,\n",
       "  <Cell 'usa'.C31>,\n",
       "  <Cell 'usa'.C32>,\n",
       "  <Cell 'usa'.C33>,\n",
       "  <Cell 'usa'.C34>,\n",
       "  <Cell 'usa'.C35>,\n",
       "  <Cell 'usa'.C36>,\n",
       "  <Cell 'usa'.C37>,\n",
       "  <Cell 'usa'.C38>,\n",
       "  <Cell 'usa'.C39>,\n",
       "  <Cell 'usa'.C40>,\n",
       "  <Cell 'usa'.C41>,\n",
       "  <Cell 'usa'.C42>,\n",
       "  <Cell 'usa'.C43>,\n",
       "  <Cell 'usa'.C44>,\n",
       "  <Cell 'usa'.C45>,\n",
       "  <Cell 'usa'.C46>,\n",
       "  <Cell 'usa'.C47>,\n",
       "  <Cell 'usa'.C48>,\n",
       "  <Cell 'usa'.C49>,\n",
       "  <Cell 'usa'.C50>,\n",
       "  <Cell 'usa'.C51>,\n",
       "  <Cell 'usa'.C52>,\n",
       "  <Cell 'usa'.C53>,\n",
       "  <Cell 'usa'.C54>))"
      ]
     },
     "execution_count": 13,
     "metadata": {},
     "output_type": "execute_result"
    }
   ],
   "source": [
    "Column = sheet['A'] #第A列\n",
    "Columns = sheet['A:C'] #第A到C列\n",
    "Columns"
   ]
  },
  {
   "cell_type": "markdown",
   "metadata": {},
   "source": [
    "4. 指定范围的值"
   ]
  },
  {
   "cell_type": "code",
   "execution_count": 14,
   "metadata": {},
   "outputs": [
    {
     "name": "stdout",
     "output_type": "stream",
     "text": [
      "(<Cell 'usa'.B1>, <Cell 'usa'.C1>, <Cell 'usa'.D1>, <Cell 'usa'.E1>, <Cell 'usa'.F1>)\n",
      "Column2\n",
      "Column3\n",
      "Column4\n",
      "None\n",
      "None\n",
      "(<Cell 'usa'.B2>, <Cell 'usa'.C2>, <Cell 'usa'.D2>, <Cell 'usa'.E2>, <Cell 'usa'.F2>)\n",
      "\n",
      "\n",
      "\n",
      "None\n",
      "None\n",
      "(<Cell 'usa'.B3>, <Cell 'usa'.C3>, <Cell 'usa'.D3>, <Cell 'usa'.E3>, <Cell 'usa'.F3>)\n",
      "\n",
      "\n",
      "\n",
      "None\n",
      "None\n",
      "(<Cell 'usa'.B4>, <Cell 'usa'.C4>, <Cell 'usa'.D4>, <Cell 'usa'.E4>, <Cell 'usa'.F4>)\n",
      "State\n",
      "州名\n",
      "首府\n",
      "None\n",
      "None\n",
      "(<Cell 'usa'.B5>, <Cell 'usa'.C5>, <Cell 'usa'.D5>, <Cell 'usa'.E5>, <Cell 'usa'.F5>)\n",
      "Alabama\n",
      "阿拉巴马州\n",
      "蒙哥马利\n",
      "None\n",
      "None\n"
     ]
    }
   ],
   "source": [
    "# 行获取\n",
    "for row in sheet.iter_rows(min_row = 1, max_row = 5,\n",
    "\t\t\t\t\t\t   min_col = 2, max_col = 6):\n",
    "\tprint(row)\n",
    "\t# 一列由多个单元格组成，若需要获取每个单元格的值则循环获取即可\n",
    "\tfor cell in row:\n",
    "\t\tprint(cell.value)"
   ]
  },
  {
   "cell_type": "code",
   "execution_count": 15,
   "metadata": {},
   "outputs": [
    {
     "name": "stdout",
     "output_type": "stream",
     "text": [
      "(<Cell 'usa'.B1>, <Cell 'usa'.B2>, <Cell 'usa'.B3>, <Cell 'usa'.B4>, <Cell 'usa'.B5>)\n",
      "Column2\n",
      "\n",
      "\n",
      "State\n",
      "Alabama\n",
      "(<Cell 'usa'.C1>, <Cell 'usa'.C2>, <Cell 'usa'.C3>, <Cell 'usa'.C4>, <Cell 'usa'.C5>)\n",
      "Column3\n",
      "\n",
      "\n",
      "州名\n",
      "阿拉巴马州\n",
      "(<Cell 'usa'.D1>, <Cell 'usa'.D2>, <Cell 'usa'.D3>, <Cell 'usa'.D4>, <Cell 'usa'.D5>)\n",
      "Column4\n",
      "\n",
      "\n",
      "首府\n",
      "蒙哥马利\n",
      "(<Cell 'usa'.E1>, <Cell 'usa'.E2>, <Cell 'usa'.E3>, <Cell 'usa'.E4>, <Cell 'usa'.E5>)\n",
      "None\n",
      "None\n",
      "None\n",
      "None\n",
      "None\n",
      "(<Cell 'usa'.F1>, <Cell 'usa'.F2>, <Cell 'usa'.F3>, <Cell 'usa'.F4>, <Cell 'usa'.F5>)\n",
      "None\n",
      "None\n",
      "None\n",
      "None\n",
      "None\n"
     ]
    }
   ],
   "source": [
    "# 列获取\n",
    "for col in sheet.iter_cols(min_row = 1, max_row = 5,\n",
    "\t\t\t\t\t\t   min_col = 2, max_col = 6):\n",
    "\tprint(col)\n",
    "\t\n",
    "\tfor cell in col:\n",
    "\t\tprint(cell.value)"
   ]
  },
  {
   "cell_type": "markdown",
   "metadata": {},
   "source": [
    "这两项取的区间是一样的，数据的展示方式根据行或者列来排序，对于取数据来说各有用处，按行iter_rows，按列iter_cols"
   ]
  },
  {
   "cell_type": "markdown",
   "metadata": {},
   "source": [
    "#### 练习题\n",
    "\n",
    "找出text_1.xlsx中sheet1表中空着的格子，并输出这些格子的坐标"
   ]
  },
  {
   "cell_type": "code",
   "execution_count": 16,
   "metadata": {},
   "outputs": [
    {
     "name": "stdout",
     "output_type": "stream",
     "text": [
      "B2\n",
      "C2\n",
      "D2\n",
      "A3\n",
      "B3\n",
      "C3\n",
      "D3\n"
     ]
    }
   ],
   "source": [
    "for cells in sheet:\n",
    "    for cell in cells:\n",
    "        if cell.value == '':\n",
    "            print(cell.coordinate)   # 自己的方式"
   ]
  },
  {
   "cell_type": "code",
   "execution_count": 17,
   "metadata": {},
   "outputs": [
    {
     "name": "stdout",
     "output_type": "stream",
     "text": [
      "B2\n",
      "C2\n",
      "D2\n",
      "A3\n",
      "B3\n",
      "C3\n",
      "D3\n"
     ]
    }
   ],
   "source": [
    "for row in sheet.iter_rows(min_row = 1, max_row = 54,\n",
    "\t\t\t\t\t\t   min_col = 1, max_col = 4):\n",
    "\t\t\t\t\t\t   #具体查看对应表格的行列数\n",
    "\tfor cell in row:\n",
    "\t\tif not cell.value:\n",
    "\t\t\tprint(cell.coordinate)    # 教程示例"
   ]
  },
  {
   "cell_type": "markdown",
   "metadata": {},
   "source": [
    "教程需查看表格行列数，自己的不需要，虽然两者结果相同，但取空值的表达方式可能导致结果会不同"
   ]
  },
  {
   "cell_type": "markdown",
   "metadata": {},
   "source": [
    "### Excel写入\n",
    "\n",
    "#### openpyxl：对xlsx文件进行写操作（百度资料获取）\n",
    "1.新建工作簿：openpyxl.Workbook()  \n",
    "workBook = openpyxl.Workbook() ：新建工作簿  \n",
    "\n",
    "2.在工作簿中新建sheet页：create_sheet()  \n",
    "sheet = workBook .create_sheet(sheet_name)：新增sheet表:sheet_name  \n",
    "\n",
    "3.向表格中写入数据：cell(i，j，value) --索引从1计数  \n",
    "sheet= workBook .active ：获得当前活跃的工作页，默认为第一个工作页  \n",
    "sheet.cell(i，j，value) ：向单元格（i，j）第i行第j列写入数据value  \n",
    "注意：行号和列号都从1开始计数，即（1,1）为第一行第一列  \n",
    "\n",
    "4.保存工作簿：save()  \n",
    "workBook .save(path)  \n",
    "\n",
    "#### 写入单元格并保存"
   ]
  },
  {
   "cell_type": "code",
   "execution_count": 18,
   "metadata": {},
   "outputs": [],
   "source": [
    "from openpyxl import load_workbook\n",
    "\n",
    "exl = load_workbook(filename = 'test.xlsx')\n",
    "sheet = exl.active\n",
    "sheet['A1'] = 'hello word'       \n",
    "#或者cell = sheet['A1'] \n",
    "#cell.value = 'hello word'\n",
    "exl.save(filename = 'test.xlsx') #存入原Excel表中，若创建新文件则可命名为不同名称"
   ]
  },
  {
   "cell_type": "markdown",
   "metadata": {},
   "source": [
    "#### xlwt：对xls文件进行写操作  （百度资料获取）\n",
    "1.新建工作簿：xlwt.Workbook()  \n",
    "workBook = xlwt.Workbook() ：新建工作簿  \n",
    "\n",
    "2.在工作簿中新建sheet页：add_sheet()  \n",
    "table = workBook .add_sheet(‘Over’,cell_overwrite_ok=True) # 如果对同一单元格重复操作会发生overwrite Exception，cell_overwrite_ok为可覆盖  \n",
    "sheet = workBook .add_sheet(sheet_name)：新增sheet表\n",
    "\n",
    "import xlwt  \n",
    "wb=xlwt.Workbook(encoding='utf-8')  # 创建一个工作薄  \n",
    "sheet=wb.add_sheet('文件阅读记录信息表') # 创建一个工作表  \n",
    "\n",
    "3.向表格中写入数据：write(i，j，value)  \n",
    "sheet.write(i，j，value) ：向单元格（i，j）写入数据value  \n",
    "\n",
    "4.保存工作簿：save()  \n",
    "workBook.save(path)"
   ]
  },
  {
   "cell_type": "markdown",
   "metadata": {},
   "source": [
    "#### 写入行数据并保存\n",
    "\n",
    "1. 写入一行数据并保存"
   ]
  },
  {
   "cell_type": "code",
   "execution_count": 19,
   "metadata": {},
   "outputs": [],
   "source": [
    "import xlwt\n",
    "workbook = xlwt.Workbook(encoding = 'utf-8')\n",
    "# 创建一个sheet\n",
    "sheet1 = workbook.add_sheet('My Worksheet')\n",
    "# 写入excel\n",
    "# 参数对应 行, 列, 值\n",
    "sheet1.write(1,0,label = 'this is test')\n",
    "\n",
    "# 保存\n",
    "workbook.save('new_test.xls')"
   ]
  },
  {
   "cell_type": "markdown",
   "metadata": {},
   "source": [
    "2. 写入多行数据并保存"
   ]
  },
  {
   "cell_type": "code",
   "execution_count": 20,
   "metadata": {},
   "outputs": [],
   "source": [
    "workbook = xlwt.Workbook(encoding = 'utf-8')\n",
    "sheet1 = workbook.add_sheet('My Worksheet')\n",
    "data = [['hello',22,'hi'],\n",
    "\t\t['hell',23,'h'],\n",
    "\t\t['he',25,'him']]\n",
    "for i in range(len(data)):\n",
    "    for j in range(len(data[i])):\n",
    "        sheet1.write(i,j,data[i][j])\n",
    "workbook.save('new_test.xls')"
   ]
  },
  {
   "cell_type": "markdown",
   "metadata": {},
   "source": [
    "写入多行数据原教程有错误，和上文不衔接，导致不能执行，现改写了一部分。  \n",
    "1是用xlwt来编写，而2原来应该是用openpyxl来编写，过渡上有问题，改用xlwt，下面示例继续使用openpyxl操作。"
   ]
  },
  {
   "cell_type": "markdown",
   "metadata": {},
   "source": [
    "#### 将公式写入单元格保存"
   ]
  },
  {
   "cell_type": "code",
   "execution_count": 21,
   "metadata": {},
   "outputs": [],
   "source": [
    "sheet['A2'] = 'SUM(A1:D1)'\n",
    "exl.save(filename='test.xlsx')"
   ]
  },
  {
   "cell_type": "markdown",
   "metadata": {},
   "source": [
    "#### 插入列数据\n",
    "\n",
    "1. 插入一列"
   ]
  },
  {
   "cell_type": "code",
   "execution_count": 22,
   "metadata": {},
   "outputs": [],
   "source": [
    "sheet.insert_cols(idx=2) #idx=2第2列，第2列前插入一列"
   ]
  },
  {
   "cell_type": "markdown",
   "metadata": {},
   "source": [
    "2. 插入多列"
   ]
  },
  {
   "cell_type": "code",
   "execution_count": 23,
   "metadata": {},
   "outputs": [],
   "source": [
    "#第2列前插入5列作为举例\n",
    "sheet.insert_cols(idx=2, amount=5)"
   ]
  },
  {
   "cell_type": "markdown",
   "metadata": {},
   "source": [
    "#### 插入行数据\n",
    "\n",
    "第2行前上面插入一行(或多行)"
   ]
  },
  {
   "cell_type": "code",
   "execution_count": 24,
   "metadata": {},
   "outputs": [],
   "source": [
    "#插入一行\n",
    "sheet.insert_rows(idx=2)\n",
    "#插入多行\n",
    "sheet.insert_rows(idx=2, amount=5)   # 示例有错，还是插入列的命令"
   ]
  },
  {
   "cell_type": "markdown",
   "metadata": {},
   "source": [
    "#### 删除\n",
    "\n",
    "1. 删除多列"
   ]
  },
  {
   "cell_type": "code",
   "execution_count": 25,
   "metadata": {},
   "outputs": [],
   "source": [
    "sheet.delete_cols(idx=5, amount=2) #第5列前删除2列"
   ]
  },
  {
   "cell_type": "markdown",
   "metadata": {},
   "source": [
    "2. 删除多行"
   ]
  },
  {
   "cell_type": "code",
   "execution_count": 26,
   "metadata": {},
   "outputs": [],
   "source": [
    "sheet.delete_rows(idx=2, amount=5)"
   ]
  },
  {
   "cell_type": "markdown",
   "metadata": {},
   "source": [
    "#### 移动\n",
    "\n",
    "当数字为正即向下或向右，为负即为向上或向左"
   ]
  },
  {
   "cell_type": "code",
   "execution_count": 27,
   "metadata": {},
   "outputs": [],
   "source": [
    "sheet.move_range('B5:C7', rows=2, cols=-1)   # 示例中rows少了s，同时范围过大，数据需针对表格大小移动"
   ]
  },
  {
   "cell_type": "markdown",
   "metadata": {},
   "source": [
    "#### Sheet表操作\n",
    "\n",
    "1. 创建新的sheet"
   ]
  },
  {
   "cell_type": "code",
   "execution_count": 28,
   "metadata": {},
   "outputs": [
    {
     "name": "stdout",
     "output_type": "stream",
     "text": [
      "['usa', 'Sheet1']\n"
     ]
    },
    {
     "data": {
      "text/plain": [
       "<Worksheet \"new_sheet\">"
      ]
     },
     "execution_count": 28,
     "metadata": {},
     "output_type": "execute_result"
    }
   ],
   "source": [
    "from openpyxl import load_workbook\n",
    "\n",
    "exl = load_workbook(filename = 'test.xlsx')\n",
    "print(exl.sheetnames)\n",
    "sheet =exl['usa']\n",
    "exl.create_sheet('new_sheet')"
   ]
  },
  {
   "cell_type": "markdown",
   "metadata": {},
   "source": [
    "2. 复制已有的sheet"
   ]
  },
  {
   "cell_type": "code",
   "execution_count": 29,
   "metadata": {},
   "outputs": [],
   "source": [
    "newsheet = exl.copy_worksheet(sheet)   # 示例上下文又接不上了，在上面加了一行，本行命令又有遗漏"
   ]
  },
  {
   "cell_type": "markdown",
   "metadata": {},
   "source": [
    "3. 修改sheet表名"
   ]
  },
  {
   "cell_type": "code",
   "execution_count": 30,
   "metadata": {},
   "outputs": [],
   "source": [
    "sheet = exl.active\n",
    "sheet.title = 'newname'"
   ]
  },
  {
   "cell_type": "markdown",
   "metadata": {},
   "source": [
    "#### 创建新的Excel表"
   ]
  },
  {
   "cell_type": "code",
   "execution_count": 31,
   "metadata": {},
   "outputs": [],
   "source": [
    "import openpyxl\n",
    "\n",
    "workbook = openpyxl.Workbook()\n",
    "sheet = workbook.active\n",
    "workbook.save(filename = 'new_test.xlsx')   # 要晕了，示例是错的一个个改过去，故意的吧？？？"
   ]
  },
  {
   "cell_type": "markdown",
   "metadata": {},
   "source": [
    "### Excel 样式\n",
    "\n",
    "#### 设置字体样式\n",
    "\n",
    "1. 设置字体样式\n",
    "\n",
    "   `Font(name字体名称,size大小,bold粗体,italic斜体,color颜色)`"
   ]
  },
  {
   "cell_type": "code",
   "execution_count": 32,
   "metadata": {},
   "outputs": [],
   "source": [
    "from openpyxl import Workbook\n",
    "from openpyxl.styles import Font\n",
    "   \n",
    "workbook = Workbook()\n",
    "sheet = workbook.active\n",
    "cell = sheet['A1']\n",
    "font = Font(name='字体', size=10, bold=True, italic=True, color='FF0000')\n",
    "cell.font = font\n",
    "workbook.save(filename='new_test.xlsx')   # 好吧，我服了，size多了一个e，还是改"
   ]
  },
  {
   "cell_type": "markdown",
   "metadata": {},
   "source": [
    "2. 设置多个格子的字体样式"
   ]
  },
  {
   "cell_type": "code",
   "execution_count": 33,
   "metadata": {},
   "outputs": [],
   "source": [
    "from openpyxl import Workbook\n",
    "from openpyxl.styles import Font\n",
    "   \n",
    "workbook = Workbook()\n",
    "sheet = workbook.active\n",
    "cells = sheet[2]\n",
    "font = Font(name='字体', size=10, bold=True, italic=True, color='FF000000')\n",
    "for cell in cells:\n",
    "   \tcell.font = font\n",
    "workbook.save(filename='new_test.xlsx')   # 示例和上面错误相同，多格子的设置采用循环操作，应该还有更好的办法"
   ]
  },
  {
   "cell_type": "markdown",
   "metadata": {},
   "source": [
    "#### 设置对其样式\n",
    "\n",
    "水平对齐：`distributed, justify, center, left, fill, centerContinuous, right, general`\n",
    "\n",
    "垂直对齐：`bottom, distributed, justify, center, top`\n",
    "\n",
    "1. 设置单元格边框样式\n",
    "\n",
    "`Side(style变现样式， color边线颜色)`\n",
    "\n",
    "`Border(左右上下边线)`"
   ]
  },
  {
   "cell_type": "code",
   "execution_count": 34,
   "metadata": {},
   "outputs": [],
   "source": [
    "from openpyxl import Workbook\n",
    "from openpyxl.styles import PatternFill, Border, Side, Alignment, Protection, Font\n",
    "\n",
    "workbook = Workbook()\n",
    "sheet = workbook.active\n",
    "cell = sheet['A1']\n",
    "side = Side(style='thin', color='FF0000')\n",
    "#先定好side的格式\n",
    "border = Border(left=side, right=side, top=side, bottom=side)\n",
    "#代入边线中\n",
    "cell.border = border\n",
    "workbook.save(filename='new_test.xlsx')   # 示例模块都没导进来"
   ]
  },
  {
   "cell_type": "markdown",
   "metadata": {},
   "source": [
    "2. 设置单元格边框样式\n",
    "\n",
    "变现样式：`double, mediumDashDotDot, slantDashDot, dashDotDot, dotted, hair, mediumDashed, dashed, dashDot, thin, mediumDashDot, medium, thick `"
   ]
  },
  {
   "cell_type": "code",
   "execution_count": 35,
   "metadata": {},
   "outputs": [],
   "source": [
    "from openpyxl import Workbook\n",
    "from openpyxl.styles import Font, GradientFill\n",
    "\n",
    "workbook = Workbook()\n",
    "sheet = workbook.active\n",
    "cell1 = sheet['A1']\n",
    "pattern_fill = PatternFill(fill_type='solid', fgColor='000000')\n",
    "cell1.fill = pattern_fill\n",
    "#单色填充\n",
    "cell2 = sheet['A3']\n",
    "gradient_fill = GradientFill(stop=('FFFFFF', '99ccff','000000'))\n",
    "cell2.fill = gradient_fill\n",
    "#渐变填充\n",
    "workbook.save(filename='new_test.xlsx')  # 模块未导入，变量名错，光顾着找错，都没去理解什么意思。"
   ]
  },
  {
   "cell_type": "markdown",
   "metadata": {},
   "source": [
    "#### 设置行高与列宽"
   ]
  },
  {
   "cell_type": "code",
   "execution_count": 36,
   "metadata": {},
   "outputs": [],
   "source": [
    "from openpyxl import Workbook \n",
    "\n",
    "workbook = Workbook()\n",
    "sheet = workbook.active\n",
    "sheet.row_dimensions[1].height = 50\n",
    "sheet.column_dimensions['C'].width = 20 \n",
    "workbook.save(filename='new_test.xlsx')   # 以上五例文件少了扩展名"
   ]
  },
  {
   "cell_type": "markdown",
   "metadata": {},
   "source": [
    "#### 合并、取消合并单元格"
   ]
  },
  {
   "cell_type": "code",
   "execution_count": 37,
   "metadata": {},
   "outputs": [],
   "source": [
    "sheet.merge_cells('A1:B2')   # 合并单元格\n",
    "sheet.merge_cells(start_row=1, start_column=3,\n",
    "\t\t\t\t  end_row=2, end_column=4)\n",
    "\n",
    "sheet.unmerge_cells('A1:B2')   # 取消合并单元格\n",
    "sheet.unmerge_cells(start_row=1, start_column=3,\n",
    "\t\t\t\t    end_row=2, end_column=4)"
   ]
  },
  {
   "cell_type": "markdown",
   "metadata": {},
   "source": [
    "#### 练习题\n",
    "\n",
    "打开test文件，找出文件中购买数量`buy_mount`超过5的行，并对其标红、加粗、附上边框。"
   ]
  },
  {
   "cell_type": "code",
   "execution_count": 38,
   "metadata": {},
   "outputs": [
    {
     "name": "stdout",
     "output_type": "stream",
     "text": [
      "7\n",
      "13\n",
      "15\n",
      "18\n",
      "23\n",
      "25\n",
      "26\n",
      "29\n",
      "30\n",
      "34\n",
      "38\n",
      "41\n",
      "44\n",
      "46\n",
      "48\n",
      "50\n",
      "52\n",
      "54\n"
     ]
    }
   ],
   "source": [
    "from openpyxl import load_workbook\n",
    "from openpyxl.styles import Font, Side, Border \n",
    "\n",
    "workbook = load_workbook('./usatest.xlsx') \n",
    "sheet = workbook['usa']\n",
    "buy_mount = sheet['B'] \n",
    "row_lst = []\n",
    "\n",
    "for cell in buy_mount:\n",
    "\tif isinstance(cell.value, int) and cell.value > 5: \n",
    "\t\tprint(cell.row)\n",
    "\t\trow_lst.append(cell.row)\n",
    "\t\t\n",
    "side = Side(style='thin', color='FF0000')\n",
    "border = Border(left=side, right=side, top=side, bottom=side) \n",
    "font = Font(bold=True, color='FF0000')\n",
    "for row in row_lst:\n",
    "\tfor cell in sheet[row]: \n",
    "\t\tcell.font = font \n",
    "\t\tcell.border = border\n",
    "workbook.save('usatest.xlsx')"
   ]
  },
  {
   "cell_type": "markdown",
   "metadata": {},
   "source": [
    "示例的文件没有，按照要求改了个excel文件，这个就是按照示例进行了修改。  \n",
    "程序基本的上流程是查找出符合条件的行，然后保存到列表中，再对格式标红，加粗，附上边框进行设定，  \n",
    "通过循环方式取出列表中的行，再逐个单元格进行设定，从而达到练习题要求。"
   ]
  },
  {
   "cell_type": "markdown",
   "metadata": {},
   "source": [
    "##### 题后话\n",
    "这一节学下来挺累，不停的找错，反而内容没好好的去掌握，也搜索了相关的excel操作，以下是xlrd的相关操作和xlrd、xlwt和openpyxl模块的比较，留下来以后对比学习，各有功效，不过，现在还是pandas用得多，基本上可以解决问题了。"
   ]
  },
  {
   "cell_type": "markdown",
   "metadata": {},
   "source": [
    "#### xlrd：对xls、xlsx文件进行读操作（百度资料获取）  \n",
    "1.获取工作簿对象:xlrd.open_workbook()  \n",
    "workBook = xlrd.open_workbook(filemname)：打开Excel文件读取数据  \n",
    "注：filemname为文件名以及路径，如果路径或者文件名有中文给前面加一个r表示原生字符。  \n",
    "\n",
    "import xlrd  \n",
    "filename=r'D:\\360极速浏览器下载\\文件阅读记录表.xls'  \n",
    "workBook=xlrd.open_workbook(filename)  \n",
    "\n",
    "2.获取工作表（sheet）对象  \n",
    "1）workBook.sheet_names()：获取所有sheet页的名字，返回一个列表  \n",
    "2）sheetName = workBook.sheet_by_name(‘sheet1’)：根据sheet页的名字获取指定表名的表，返回的是一个对象  \n",
    "3）sheetName = workbook.sheet_by_index(0):根据sheet索引获取对应sheet表（索引是从0开始的），返回的是一个对象  \n",
    "\n",
    "3.获取sheet的名称：name  \n",
    "sheetName.name：获取sheet的名称  \n",
    "\n",
    "4.获取行数和列数：nrows、ncols  \n",
    "sheetName.nrows：获取表格的总行数  \n",
    "sheetName.ncols：获取表格的总列数  \n",
    "\n",
    "5.获取整行或整列的值（数组）：row_values、col_values  \n",
    "rows = sheetName.row_values(0)  # 获取第一行内容，返回一个列表   \n",
    "cols = sheetName.col_values(0)  # 获取第一列内容，返回一个列表  \n",
    "\n",
    "6.获取指定单元格的值：cell(a,b).value、row(1)[0].value  \n",
    "sheetName.cell(1,0).value：获取第2行第一列的单元格数据  \n",
    "sheetName.row(1)[0].value：获取第2行第一列的单元格数据  \n",
    "\n",
    "7.获取单元格内容的数据类型：ctype  \n",
    "sheetName.cell(1,0).ctype  \n",
    "注：返回为代表数据类型的值，编码分别代表：ctype : 0 empty,1 string, 2 number, 3 date, 4 boolean, 5 error  "
   ]
  },
  {
   "cell_type": "markdown",
   "metadata": {},
   "source": [
    "#### xlrd、xlwt和openpyxl模块的比较：（百度资料获取）  \n",
    "1）xlrd：对xls、xlsx、xlsm文件进行读操作–读操作效率较高，推荐  \n",
    "2）xlwt：对xls文件进行写操作–写操作效率较高，但是不能执行xlsx文件  \n",
    "3）openpyxl：对xlsx、xlsm文件进行读、写操作–xlsx写操作推荐使用  "
   ]
  },
  {
   "cell_type": "code",
   "execution_count": null,
   "metadata": {},
   "outputs": [],
   "source": []
  }
 ],
 "metadata": {
  "kernelspec": {
   "display_name": "Python 3",
   "language": "python",
   "name": "python3"
  },
  "language_info": {
   "codemirror_mode": {
    "name": "ipython",
    "version": 3
   },
   "file_extension": ".py",
   "mimetype": "text/x-python",
   "name": "python",
   "nbconvert_exporter": "python",
   "pygments_lexer": "ipython3",
   "version": "3.7.6"
  }
 },
 "nbformat": 4,
 "nbformat_minor": 4
}
