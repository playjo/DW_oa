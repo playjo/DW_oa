{
 "cells": [
  {
   "cell_type": "markdown",
   "metadata": {},
   "source": [
    "# DW_oa_Task03\n",
    "## python自动化之word\n",
    "## 20210618"
   ]
  },
  {
   "cell_type": "markdown",
   "metadata": {},
   "source": [
    "# python自动化之word操作"
   ]
  },
  {
   "cell_type": "markdown",
   "metadata": {},
   "source": [
    "## 一、课前准备\n",
    "\n",
    "> python 处理 Word 需要用到 python-docx 库，终端执行如下安装命令： "
   ]
  },
  {
   "cell_type": "code",
   "execution_count": 1,
   "metadata": {},
   "outputs": [
    {
     "name": "stdout",
     "output_type": "stream",
     "text": [
      "Requirement already satisfied: python-docx in c:\\programdata\\anaconda3\\lib\\site-packages (0.8.11)\n",
      "Requirement already satisfied: lxml>=2.3.2 in c:\\programdata\\anaconda3\\lib\\site-packages (from python-docx) (4.5.0)\n"
     ]
    }
   ],
   "source": [
    "!pip install python-docx"
   ]
  },
  {
   "cell_type": "markdown",
   "metadata": {},
   "source": [
    "> 或在pycharm的setting操作安装（示意如下）：\n",
    "\n",
    " ![](.\\图片\\安装docx.png)"
   ]
  },
  {
   "cell_type": "markdown",
   "metadata": {},
   "source": [
    "## 二、知识要点\n",
    "\n",
    "> 说明：\n",
    "> 1. 通过小试牛刀初步认识docx，然后系统学习python对word的操作；\n",
    "> 2. 预估每个知识点需要讲解的时间；\n",
    "> 3. 研发逻辑就是讲解逻辑，一般从上往下，遵循：`What - Why - How` 或 `Why - What - How` 思路；"
   ]
  },
  {
   "cell_type": "markdown",
   "metadata": {},
   "source": [
    "### 1.预热：初步认识docx\n",
    "\n",
    " 相信同学们都进行过word的操作。话不多说，直接上python对word简单操作的代码，先有个直观的感觉，然后再系统学习！"
   ]
  },
  {
   "cell_type": "markdown",
   "metadata": {},
   "source": [
    "#### （1）新建空白word并插入文字 "
   ]
  },
  {
   "cell_type": "code",
   "execution_count": 2,
   "metadata": {},
   "outputs": [],
   "source": [
    "# 导入库\n",
    "from docx import Document"
   ]
  },
  {
   "cell_type": "code",
   "execution_count": 3,
   "metadata": {},
   "outputs": [],
   "source": [
    "# 新建空白文档\n",
    "doc_1 = Document()"
   ]
  },
  {
   "cell_type": "code",
   "execution_count": 4,
   "metadata": {},
   "outputs": [
    {
     "data": {
      "text/plain": [
       "<docx.text.paragraph.Paragraph at 0x1f0be03bc48>"
      ]
     },
     "execution_count": 4,
     "metadata": {},
     "output_type": "execute_result"
    }
   ],
   "source": [
    "# 添加标题（0相当于文章的题目，默认级别是1，级别范围为0-9）\n",
    "doc_1.add_heading('新建空白文档标题，级别为0',level = 0)\n",
    "doc_1.add_heading('新建空白文档标题，级别为1',level = 1)\n",
    "doc_1.add_heading('新建空白文档标题，级别为2',level = 2)"
   ]
  },
  {
   "cell_type": "code",
   "execution_count": 5,
   "metadata": {},
   "outputs": [],
   "source": [
    "# 新增段落\n",
    "paragraph_1 = doc_1.add_paragraph('这是第一段文字的开始\\n请多多关照！')"
   ]
  },
  {
   "cell_type": "code",
   "execution_count": 6,
   "metadata": {},
   "outputs": [
    {
     "data": {
      "text/plain": [
       "<docx.text.run.Run at 0x1f0be060288>"
      ]
     },
     "execution_count": 6,
     "metadata": {},
     "output_type": "execute_result"
    }
   ],
   "source": [
    "# 加粗\n",
    "paragraph_1.add_run('加粗字体').bold = True\n",
    "paragraph_1.add_run('普通字体')"
   ]
  },
  {
   "cell_type": "code",
   "execution_count": 7,
   "metadata": {},
   "outputs": [],
   "source": [
    "# 斜体\n",
    "paragraph_1.add_run('斜体字体').italic =True"
   ]
  },
  {
   "cell_type": "code",
   "execution_count": 8,
   "metadata": {},
   "outputs": [],
   "source": [
    "# 新段落（当前段落的下方）\n",
    "paragraph_2 = doc_1.add_paragraph('新起的第二段文字。')"
   ]
  },
  {
   "cell_type": "code",
   "execution_count": 9,
   "metadata": {},
   "outputs": [],
   "source": [
    "# 新段落（指定端的上方）\n",
    "prior_paragraph = paragraph_1.insert_paragraph_before('在第一段文字前插入的段落')"
   ]
  },
  {
   "cell_type": "code",
   "execution_count": 10,
   "metadata": {},
   "outputs": [
    {
     "data": {
      "text/plain": [
       "<docx.text.paragraph.Paragraph at 0x1f0be064e08>"
      ]
     },
     "execution_count": 10,
     "metadata": {},
     "output_type": "execute_result"
    }
   ],
   "source": [
    "# 添加分页符(可以进行灵活的排版）\n",
    "doc_1.add_page_break()"
   ]
  },
  {
   "cell_type": "code",
   "execution_count": 11,
   "metadata": {},
   "outputs": [],
   "source": [
    "# 新段落（指定端的上方）\n",
    "paragraph_3 = doc_1.add_paragraph('这是第二页第一段文字！')"
   ]
  },
  {
   "cell_type": "code",
   "execution_count": 12,
   "metadata": {},
   "outputs": [],
   "source": [
    "# 保存文件（当前目录下）\n",
    "doc_1.save('doc_1.docx')"
   ]
  },
  {
   "cell_type": "markdown",
   "metadata": {},
   "source": [
    "基本的文档构建原理明白了，总觉得少了点什么，哦，对了，是所见即所得，在写的过程中，大概在思维中形成一个框架，但具体的内容还是直接显示更直观，特别是当内容多了以后，以及排版效果等等，总是需要一个实际的展示。"
   ]
  },
  {
   "cell_type": "markdown",
   "metadata": {},
   "source": [
    "### 2. 正式：python自动化之word操作\n",
    "\n",
    "上节只是小试牛刀一下，接下来我们系统地学习python自动化之word操作。\n",
    "\n",
    "在操作之前，我们需要了解 Word 文档的<font color=red>页面结构</font> ：\n",
    "\n",
    "- 文档 - Document\n",
    "- 段落 - Paragraph\n",
    "- 文字块 - Run\n",
    "\n",
    "**`python-docx`**将整个文章看做是一个**`Document`**对象 ，其基本结构如下：\n",
    "\n",
    "- 每个**`Document`**包含许多个代表“段落”的**`Paragraph`**对象，存放在**`document.paragraphs`**中。\n",
    "- 每个**`Paragraph`**都有许多个代表\"行内元素\"的**`Run`**对象，存放在**`paragraph.runs`**中。\n",
    "\n",
    "在**`python-docx`**中，**`run`**是最基本的单位，每个**`run`**对象内的文本样式都是一致的，也就是说，在从**`docx`**文件生成文档对象时，**`python-docx`**会根据样式的变化来将文本切分为一个个的`Run`对象。"
   ]
  },
  {
   "cell_type": "markdown",
   "metadata": {},
   "source": [
    "#### （1）整体页面结构介绍\n",
    "\n",
    "我们以一个小案例为主线把文档，段落和文字块串一下："
   ]
  },
  {
   "cell_type": "code",
   "execution_count": 13,
   "metadata": {},
   "outputs": [],
   "source": [
    "# 导入库\n",
    "from docx import Document\n",
    "from docx.shared import RGBColor, Pt,Inches,Cm\n",
    "from docx.enum.text import WD_PARAGRAPH_ALIGNMENT\n",
    "from docx.oxml.ns import qn"
   ]
  },
  {
   "cell_type": "code",
   "execution_count": 14,
   "metadata": {},
   "outputs": [],
   "source": [
    "# 新建文档（Datawhale）\n",
    "doc_1 = Document()"
   ]
  },
  {
   "cell_type": "code",
   "execution_count": 15,
   "metadata": {},
   "outputs": [],
   "source": [
    "# 字体设置（全局）\n",
    "'''只更改font.name是不够的，还需要调用._element.rPr.rFonts的set()方法。'''\n",
    "\n",
    "doc_1.styles['Normal'].font.name = u'宋体'\n",
    "doc_1.styles['Normal']._element.rPr.rFonts.set(qn('w:eastAsia'), u'宋体')"
   ]
  },
  {
   "cell_type": "code",
   "execution_count": 16,
   "metadata": {},
   "outputs": [],
   "source": [
    "# 添加标题（0相当于文章的题目，默认级别是1，级别范围为0-9，0时候自动带下划线）\n",
    "heading_1 = doc_1.add_heading('周杰伦',level = 0)\n",
    "heading_1.alignment = WD_PARAGRAPH_ALIGNMENT.CENTER   #居中对齐，默认居左对齐"
   ]
  },
  {
   "cell_type": "code",
   "execution_count": 17,
   "metadata": {},
   "outputs": [],
   "source": [
    "# 新增段落\n",
    "paragraph_1 = doc_1.add_paragraph()\n",
    "'''\n",
    "设置段落格式：首行缩进0.75cm，居左，段后距离1.0英寸,1.5倍行距。\n",
    "'''\n",
    "paragraph_1.paragraph_format.first_line_indent = Cm(0.75)\n",
    "paragraph_1.paragraph_format.alignment =  WD_PARAGRAPH_ALIGNMENT.LEFT\n",
    "paragraph_1.paragraph_format.space_after =  Inches(1.0)\n",
    "paragraph_1.paragraph_format.line_spacing =  1.5\n",
    "\n",
    "text = '中国台湾华语流行歌手、' \\\n",
    "       '音乐创作家、作曲家、作词人、' \\\n",
    "       '制作人、杰威尔音乐公司老板之一、导演。' \\\n",
    "       '近年涉足电影行业。周杰伦是2000年后亚洲流行乐坛最具革命性与指标' \\\n",
    "       '性的创作歌手，有“亚洲流行天王”之称。他突破原有亚洲音乐的主题、形' \\\n",
    "       '式，融合多元的音乐素材，创造出多变的歌曲风格，尤以融合中西式曲风的嘻哈' \\\n",
    "       '或节奏蓝调最为著名，可说是开创华语流行音乐“中国风”的先声。周杰伦的' \\\n",
    "       '出现打破了亚洲流行乐坛长年停滞不前的局面，为亚洲流行乐坛翻开了新的一页！'\n",
    "    \n",
    "r_1 = paragraph_1.add_run(text)\n",
    "r_1.font.size =Pt(10)    #字号\n",
    "r_1.font.bold =True       #加粗\n",
    "r_1.font.color.rgb =RGBColor(255,0,0)      #颜色"
   ]
  },
  {
   "cell_type": "code",
   "execution_count": 18,
   "metadata": {},
   "outputs": [],
   "source": [
    "# 加个段落试试\n",
    "paragraph_2 = doc_1.add_paragraph()\n",
    "paragraph_2.paragraph_format.first_line_indent = Cm(0)\n",
    "paragraph_2.paragraph_format.alignment = WD_PARAGRAPH_ALIGNMENT.CENTER\n",
    "paragraph_2.paragraph_format.space_before = Inches(2.0)   # 测试前面已设置段后距离1.0,我再设置段前距离2.0,看看什么结果\n",
    "paragraph_2.paragraph_format.line_spacing = 2.0\n",
    "\n",
    "text1 = '一路向北、七里香、不能说的秘密、\\n'\\\n",
    "        '东风破、以父之名、双截棍、可爱女人、夜曲、大灌篮、\\n'\\\n",
    "        '天台爱情、头文字D、床边故事、晴天、满城尽带黄金甲、\\n'\\\n",
    "        '爱在西元前、稻香、简单爱、轨迹、青花瓷、龙卷风\\n'\n",
    "\n",
    "r_2 = paragraph_2.add_run(text1)\n",
    "r_2.font.size = Pt(12)\n",
    "r_2.font.italic = True\n",
    "r_2.font.color.rgb =RGBColor(123,0,200)"
   ]
  },
  {
   "cell_type": "code",
   "execution_count": 19,
   "metadata": {},
   "outputs": [],
   "source": [
    "# 保存文件（当前目录下）\n",
    "doc_1.save('周杰伦.docx')"
   ]
  },
  {
   "cell_type": "markdown",
   "metadata": {},
   "source": [
    "通过上例我们可以看到，最小的操作对象为文字块，通过run的指定进行操作。比如字号，颜色等；而再上一个层级--段落是的格式是通过paragraph_format进行设置；"
   ]
  },
  {
   "cell_type": "markdown",
   "metadata": {},
   "source": [
    "加了个段落，作了些基本的测试，设置参数比较多，怕记不住，操作起来倒是挺直观的，来看看结果."
   ]
  },
  {
   "cell_type": "code",
   "execution_count": 20,
   "metadata": {},
   "outputs": [
    {
     "name": "stdout",
     "output_type": "stream",
     "text": [
      "周杰伦\n",
      "中国台湾华语流行歌手、音乐创作家、作曲家、作词人、制作人、杰威尔音乐公司老板之一、导演。近年涉足电影行业。周杰伦是2000年后亚洲流行乐坛最具革命性与指标性的创作歌手，有“亚洲流行天王”之称。他突破原有亚洲音乐的主题、形式，融合多元的音乐素材，创造出多变的歌曲风格，尤以融合中西式曲风的嘻哈或节奏蓝调最为著名，可说是开创华语流行音乐“中国风”的先声。周杰伦的出现打破了亚洲流行乐坛长年停滞不前的局面，为亚洲流行乐坛翻开了新的一页！\n",
      "一路向北、七里香、不能说的秘密、\n",
      "东风破、以父之名、双截棍、可爱女人、夜曲、大灌篮、\n",
      "天台爱情、头文字D、床边故事、晴天、满城尽带黄金甲、\n",
      "爱在西元前、稻香、简单爱、轨迹、青花瓷、龙卷风\n",
      "\n"
     ]
    }
   ],
   "source": [
    "doc_2 = Document('周杰伦.docx')\n",
    "for p in doc_2.paragraphs:\n",
    "    print(p.text)"
   ]
  },
  {
   "cell_type": "markdown",
   "metadata": {},
   "source": [
    "只能按段落读取文档的内容，这样也无法实际所见即所得，再往下看"
   ]
  },
  {
   "cell_type": "markdown",
   "metadata": {},
   "source": [
    "#### （2）字体设置\n",
    "\n",
    "通过（1），同学们已经注意到，字体的设置是全局变量。如果我想在不同的部分进行不同字体的设置，那该怎么办呢？这就需要在应用前操作设置一下。"
   ]
  },
  {
   "cell_type": "code",
   "execution_count": 21,
   "metadata": {},
   "outputs": [],
   "source": [
    "'''字体设置1.py'''\n",
    "#导入库\n",
    "from docx import Document\n",
    "from docx.oxml.ns import qn\n",
    "from docx.enum.style import WD_STYLE_TYPE\n",
    "\n",
    "document = Document() # 新建docx文档"
   ]
  },
  {
   "cell_type": "code",
   "execution_count": 22,
   "metadata": {},
   "outputs": [],
   "source": [
    "# 设置宋体字样式\n",
    "style_font = document.styles.add_style('宋体', WD_STYLE_TYPE.CHARACTER)\n",
    "style_font.font.name = '宋体'\n",
    "document.styles['宋体']._element.rPr.rFonts.set(qn('w:eastAsia'), u'宋体')"
   ]
  },
  {
   "cell_type": "code",
   "execution_count": 23,
   "metadata": {},
   "outputs": [],
   "source": [
    "# 设置楷体字样式\n",
    "style_font = document.styles.add_style('楷体', WD_STYLE_TYPE.CHARACTER)\n",
    "style_font.font.name = '楷体'\n",
    "document.styles['楷体']._element.rPr.rFonts.set(qn('w:eastAsia'), u'楷体') # 将段落中的所有字体"
   ]
  },
  {
   "cell_type": "code",
   "execution_count": 24,
   "metadata": {},
   "outputs": [],
   "source": [
    "# 设置华文中宋字样式\n",
    "style_font = document.styles.add_style('华文中宋', WD_STYLE_TYPE.CHARACTER)\n",
    "style_font.font.name = '华文中宋'\n",
    "document.styles['华文中宋']._element.rPr.rFonts.set(qn('w:eastAsia'), u'华文中宋')"
   ]
  },
  {
   "cell_type": "code",
   "execution_count": 25,
   "metadata": {},
   "outputs": [],
   "source": [
    "paragraph1 = document.add_paragraph() # 添加段落\n",
    "run = paragraph1.add_run(u'aBCDefg这是中文', style='宋体') # 设置宋体样式"
   ]
  },
  {
   "cell_type": "code",
   "execution_count": 26,
   "metadata": {},
   "outputs": [],
   "source": [
    "font = run.font #设置字体\n",
    "font.name = 'Cambira' # 设置西文字体\n",
    "paragraph1.add_run(u'aBCDefg这是中文', style='楷体').font.name = 'Cambira'\n",
    "paragraph1.add_run(u'aBCDefg这是中文', style='华文中宋').font.name = 'Cambira'"
   ]
  },
  {
   "cell_type": "code",
   "execution_count": 27,
   "metadata": {},
   "outputs": [],
   "source": [
    "document.save('字体设置1.docx')"
   ]
  },
  {
   "cell_type": "code",
   "execution_count": 28,
   "metadata": {},
   "outputs": [],
   "source": [
    "'''字体设置2.py'''\n",
    "#导入库\n",
    "from docx import Document\n",
    "from docx.oxml.ns import qn\n",
    "from docx.enum.style import WD_STYLE_TYPE"
   ]
  },
  {
   "cell_type": "code",
   "execution_count": 29,
   "metadata": {},
   "outputs": [],
   "source": [
    "#定义字体设置函数\n",
    "def font_setting(doc,text,font_cn):\n",
    "       style_add = doc.styles.add_style(font_cn, WD_STYLE_TYPE.CHARACTER)\n",
    "       style_add.font.name = font_cn\n",
    "       doc.styles[font_cn]._element.rPr.rFonts.set(qn('w:eastAsia'), font_cn)\n",
    "       par = doc.add_paragraph()\n",
    "       text = par.add_run(text, style=font_cn)"
   ]
  },
  {
   "cell_type": "code",
   "execution_count": 30,
   "metadata": {},
   "outputs": [],
   "source": [
    "doc = Document()\n",
    "a = '小朋友 你是否有很多问号'\n",
    "b = '为什么 别人在那看漫画'\n",
    "c = '我却在学画画 对着钢琴说话'"
   ]
  },
  {
   "cell_type": "code",
   "execution_count": 31,
   "metadata": {},
   "outputs": [],
   "source": [
    "font_setting(doc,a,'宋体')\n",
    "font_setting(doc,b,'华文中宋')\n",
    "font_setting(doc,c,'黑体')"
   ]
  },
  {
   "cell_type": "code",
   "execution_count": 32,
   "metadata": {},
   "outputs": [],
   "source": [
    "doc.save('字体设置2.docx')"
   ]
  },
  {
   "cell_type": "markdown",
   "metadata": {},
   "source": [
    "我们很容易地看出来，字体设置1.py与字体设置2.py的区别在于是否为同一段落，同时字体设置2.py中自定义了一个函数。同学们可以在实际工作中看具体场景进行选择。\n"
   ]
  },
  {
   "cell_type": "markdown",
   "metadata": {},
   "source": [
    "两种方式各有优点，看实际情况运用，就是感觉命令参数太多了，,记不住啊"
   ]
  },
  {
   "cell_type": "markdown",
   "metadata": {},
   "source": [
    "#### （3） 插入图片与表格"
   ]
  },
  {
   "cell_type": "code",
   "execution_count": 33,
   "metadata": {},
   "outputs": [],
   "source": [
    "#导入库\n",
    "from docx import Document\n",
    "from docx.shared import Inches"
   ]
  },
  {
   "cell_type": "code",
   "execution_count": 34,
   "metadata": {},
   "outputs": [],
   "source": [
    "#打开文档\n",
    "doc_1 = Document('周杰伦.docx')   #上面脚本存储的文档"
   ]
  },
  {
   "cell_type": "code",
   "execution_count": 35,
   "metadata": {},
   "outputs": [
    {
     "data": {
      "text/plain": [
       "<docx.shape.InlineShape at 0x1f0bc7b0cc8>"
      ]
     },
     "execution_count": 35,
     "metadata": {},
     "output_type": "execute_result"
    }
   ],
   "source": [
    "#新增图片\n",
    "doc_1.add_picture('./图片/周杰伦.jpg',width=Inches(2.0), height=Inches(2.0))"
   ]
  },
  {
   "cell_type": "code",
   "execution_count": 36,
   "metadata": {},
   "outputs": [],
   "source": [
    "# 创建3行1列表格\n",
    "table1 = doc_1.add_table(rows=3, cols=4)\n",
    "table1.style='Medium Grid 1 Accent 1'  #表格样式很多种，如，Light Shading Accent 1等"
   ]
  },
  {
   "cell_type": "code",
   "execution_count": 37,
   "metadata": {},
   "outputs": [],
   "source": [
    "# 修改第2行第3列单元格的内容为营口\n",
    "table1.cell(1, 2).text = '营口'   # 行列还是从0开头，下面的方式也是一样\n",
    "# 修改第3行第4列单元格的内容为人民\n",
    "table1.rows[2].cells[3].text = '人民'"
   ]
  },
  {
   "cell_type": "code",
   "execution_count": 38,
   "metadata": {},
   "outputs": [],
   "source": [
    "# 在表格底部新增一行\n",
    "row_cells = table1.add_row().cells\n",
    "# 新增行的第一列添加内容\n",
    "row_cells[0].text = '加油'"
   ]
  },
  {
   "cell_type": "code",
   "execution_count": 39,
   "metadata": {},
   "outputs": [],
   "source": [
    "doc_1.save('周杰伦为营口加油.docx')"
   ]
  },
  {
   "cell_type": "markdown",
   "metadata": {},
   "source": [
    "这里发现一个问题，这个结果已经写到第二页了，按照这种方式编辑，你都不知道写到那里，更无从谈及整体的格式如何，没有所见即所得，真的不好把控，可能这个比较适合一些格式化的公文之类，长篇的内容就不大适用了"
   ]
  },
  {
   "cell_type": "markdown",
   "metadata": {},
   "source": [
    "#### （4）设置页眉页脚\n",
    "\n",
    "在python-docx包中则要使用节(section)中的页眉(header)和页脚(footer)对象来具体设置。"
   ]
  },
  {
   "cell_type": "code",
   "execution_count": 40,
   "metadata": {},
   "outputs": [],
   "source": [
    "from docx import Document\n",
    "from docx.enum.text import WD_PARAGRAPH_ALIGNMENT"
   ]
  },
  {
   "cell_type": "code",
   "execution_count": 41,
   "metadata": {},
   "outputs": [],
   "source": [
    "document = Document() # 新建文档"
   ]
  },
  {
   "cell_type": "code",
   "execution_count": 42,
   "metadata": {},
   "outputs": [
    {
     "name": "stdout",
     "output_type": "stream",
     "text": [
      "页眉中默认段落数： 1\n"
     ]
    },
    {
     "data": {
      "text/plain": [
       "<docx.text.run.Run at 0x1f0c0052f88>"
      ]
     },
     "execution_count": 42,
     "metadata": {},
     "output_type": "execute_result"
    }
   ],
   "source": [
    "header = document.sections[0].header # 获取第一个节的页眉\n",
    "print('页眉中默认段落数：', len(header.paragraphs))\n",
    "paragraph = header.paragraphs[0] # 获取页眉的第一个段落\n",
    "paragraph.add_run('这是第一节的页眉') # 添加页面内容\n",
    "footer = document.sections[0].footer # 获取第一个节的页脚\n",
    "paragraph = footer.paragraphs[0] # 获取页脚的第一个段落\n",
    "paragraph.add_run('这是第一节的页脚') # 添加页脚内容"
   ]
  },
  {
   "cell_type": "markdown",
   "metadata": {},
   "source": [
    "在docx文档中又添加了2个节，共计3个节，页面和页脚会显示了“与上一节相同”。  \n",
    "如果不使用上一节的内容和样式要将header.is_linked_to_previous的属性或footer.is_linked_to_previous的属性设置为False，  \n",
    "用于解除“链接上一节页眉”或者“链接上一节页脚”。"
   ]
  },
  {
   "cell_type": "code",
   "execution_count": 43,
   "metadata": {},
   "outputs": [],
   "source": [
    "document.add_section() # 添加一个新的节\n",
    "document.add_section() # 添加第3个节\n",
    "header = document.sections[1].header # 获取第2个节的页眉\n",
    "header.is_linked_to_previous = False # 不使用上节内容和样式"
   ]
  },
  {
   "cell_type": "code",
   "execution_count": 44,
   "metadata": {},
   "outputs": [],
   "source": [
    "#对齐设置\n",
    "header = document.sections[1].header # 获取第2个节的页眉\n",
    "header.is_linked_to_previous = False # 不使用上节内容和样式\n",
    "paragraph = header.paragraphs[0]\n",
    "paragraph.add_run('这是第二节的页眉')\n",
    "paragraph.alignment = WD_PARAGRAPH_ALIGNMENT.CENTER # 设置页眉居中对齐\n",
    "document.sections[1].footer.is_linked_to_previous = False\n",
    "footer.paragraphs[0].add_run('这是第二节的页脚') # 添加第2节页脚内容\n",
    "footer.paragraphs[0].alignment = WD_PARAGRAPH_ALIGNMENT.CENTER # 设置第2节页脚居中对齐\n",
    "header = document.sections[2].header # 获取第3个节的页眉\n",
    "header.is_linked_to_previous = False # 不使用上节的内容和样式\n",
    "paragraph = header.paragraphs[0] # 获取页眉中的段落\n",
    "paragraph.add_run('这是第三节的页眉')\n",
    "paragraph.alignment = WD_PARAGRAPH_ALIGNMENT.RIGHT # 设置页眉右对齐\n",
    "document.sections[2].footer.is_linked_to_previous = False\n",
    "footer.paragraphs[0].add_run('这是第三节的页脚') # 添加第3节页脚内容\n",
    "footer.paragraphs[0].alignment = WD_PARAGRAPH_ALIGNMENT.RIGHT # 设置第3节页脚右对齐"
   ]
  },
  {
   "cell_type": "code",
   "execution_count": 45,
   "metadata": {},
   "outputs": [],
   "source": [
    "document.save('页眉页脚1.docx') # 保存文档"
   ]
  },
  {
   "cell_type": "markdown",
   "metadata": {},
   "source": [
    "结果如下：\n",
    "\n",
    " ![](.\\图片\\页眉页脚设置.png)"
   ]
  },
  {
   "cell_type": "markdown",
   "metadata": {},
   "source": [
    "这东西好像是为了长篇大论准备的，看来还是不够了解，继续学习"
   ]
  },
  {
   "cell_type": "markdown",
   "metadata": {},
   "source": [
    "#### （5）代码延伸"
   ]
  },
  {
   "cell_type": "code",
   "execution_count": 46,
   "metadata": {},
   "outputs": [],
   "source": [
    "'''对齐设置'''\n",
    "from docx.enum.text import WD_ALIGN_PARAGRAPH,WD_LINE_SPACING\n",
    "#LEFT: 左对齐\n",
    "#CENTER: 文字居中\n",
    "#RIGHT: 右对齐\n",
    "#JUSTIFY: 文本两端对齐"
   ]
  },
  {
   "cell_type": "code",
   "execution_count": 47,
   "metadata": {},
   "outputs": [],
   "source": [
    "'''设置段落行距'''\n",
    "from docx.shared import Length\n",
    "# SINGLE :单倍行距（默认）\n",
    "#ONE_POINT_FIVE : 1.5倍行距\n",
    "# DOUBLE2 : 倍行距\n",
    "#AT_LEAST : 最小值\n",
    "#EXACTLY:固定值\n",
    "# MULTIPLE : 多倍行距"
   ]
  },
  {
   "cell_type": "code",
   "execution_count": 48,
   "metadata": {},
   "outputs": [],
   "source": [
    "paragraph_format = paragraph.paragraph_format\n",
    "paragraph.line_spacing_rule = WD_LINE_SPACING.EXACTLY #固定值\n",
    "paragraph_format.line_spacing = Pt(18) # 固定值18磅\n",
    "paragraph.line_spacing_rule = WD_LINE_SPACING.MULTIPLE #多倍行距\n",
    "paragraph_format.line_spacing = 1.75 # 1.75倍行间距"
   ]
  },
  {
   "cell_type": "code",
   "execution_count": 49,
   "metadata": {},
   "outputs": [],
   "source": [
    "'''设置字体属性'''\n",
    "from docx.shared import RGBColor,Pt\n",
    "#all_caps:全部大写字母\n",
    "#bold:加粗\n",
    "#color:字体颜色\n",
    "\n",
    "#double_strike:双删除线\n",
    "#hidden : 隐藏\n",
    "#imprint : 印记\n",
    "#italic : 斜体\n",
    "#name  :字体\n",
    "#shadow  :阴影\n",
    "#strike  :  删除线\n",
    "#subscript  :下标\t\n",
    "#superscript  :上标\n",
    "#underline  :下划线"
   ]
  },
  {
   "cell_type": "markdown",
   "metadata": {},
   "source": [
    "很多参数，在百度再找了一些内容，要熟练运用恐怕得很长时间"
   ]
  },
  {
   "cell_type": "code",
   "execution_count": 50,
   "metadata": {},
   "outputs": [],
   "source": [
    "# 这是项目符号列表\n",
    "from docx import Document\n",
    "doc = Document()\n",
    "p = doc.add_paragraph()\n",
    "p.style = 'List Bullet'\n",
    "r = p.add_run()\n",
    "r.add_text(\"Item 1\")\n",
    "# Something's gotta come here to get the Sub-Item 1\n",
    "r = p.add_run()\n",
    "r.add_text(\"Item 2\")    \n",
    "# Something's gotta come here to get the Sub-Item 2\n",
    "# 以上方式不能实现,应该参照下面方式按段落来设置\n",
    "doc.add_paragraph('first item in unordered list', style='List Bullet')\n",
    "doc.add_paragraph('first item in ordered list', style='List Number')\n",
    "\n",
    "doc.save('项目列表.docx')"
   ]
  },
  {
   "cell_type": "markdown",
   "metadata": {},
   "source": [
    "## 三、项目实践"
   ]
  },
  {
   "cell_type": "markdown",
   "metadata": {},
   "source": [
    "### 一、需求\n",
    "\n",
    ">  你是公司的行政人员，对合作伙伴进行邀请，参加公司的会议；\n",
    ">\n",
    ">  参会人名单如下：\n",
    "\n",
    " ![](.\\图片\\参会人名单.png)\n",
    "\n",
    "拟定的邀请函样式如下：\n",
    "\n",
    " ![](.\\图片\\邀请函样式.png)\n",
    "\n",
    "**根据参会人名单，利用python批量生成邀请函。**"
   ]
  },
  {
   "cell_type": "markdown",
   "metadata": {},
   "source": [
    "### 二、需求分析\n",
    "\n",
    "> 逻辑相对简单：\n",
    ">\n",
    "> - 获取 Excel 文件中每一行的信息，提取 参数；结合获取的参数设计邀请函样式并输出\n",
    "> - 设计word段落及字体等样式。"
   ]
  },
  {
   "cell_type": "markdown",
   "metadata": {},
   "source": [
    "### 三、代码"
   ]
  },
  {
   "cell_type": "markdown",
   "metadata": {},
   "source": [
    "以下是个人思路及代码"
   ]
  },
  {
   "cell_type": "markdown",
   "metadata": {},
   "source": [
    "先设计邀请函，而后再根据Excel信息写入"
   ]
  },
  {
   "cell_type": "code",
   "execution_count": 51,
   "metadata": {},
   "outputs": [],
   "source": [
    "def yqh(gs,xm,sj):\n",
    "    doc_yqh = Document()\n",
    "    doc_yqh.styles['Normal'].font.name = u'楷体'\n",
    "    doc_yqh.styles['Normal']._element.rPr.rFonts.set(qn('w:eastAsia'), u'楷体')\n",
    "    heading_1 = doc_yqh.add_heading('邀 请 函', level=1)\n",
    "    heading_1.alignment = WD_PARAGRAPH_ALIGNMENT.CENTER\n",
    "    paragraph_1 = doc_yqh.add_paragraph('尊敬的')\n",
    "    r_1 = paragraph_1.add_run(gs)\n",
    "    r_1.font.bold = True\n",
    "    r_1.font.underline = True\n",
    "    paragraph_1.add_run('公司')\n",
    "    r_2 = paragraph_1.add_run(xm)\n",
    "    r_2.font.bold = True\n",
    "    r_2.font.underline = True\n",
    "    paragraph_1.add_run('，您好：')\n",
    "    paragraph_2 = doc_yqh.add_paragraph()\n",
    "    paragraph_2.paragraph_format.first_line_indent = Cm(0.75)\n",
    "    paragraph_2.paragraph_format.alignment = WD_PARAGRAPH_ALIGNMENT.LEFT\n",
    "    paragraph_2.paragraph_format.line_spacing = 1.5\n",
    "    text = '现诚挚的邀请您于2021年10月27日参加DataWhale主办的享受开源2050活动，地点在北京鸟巢，希望您届时莅临参加。'\n",
    "    paragraph_2.add_run(text)\n",
    "    #r_1.font.size = Pt(10)\n",
    "    paragraph_3 = doc_yqh.add_paragraph('邀请时间：')\n",
    "    sjlist = sj.split('-')\n",
    "    sj = '{}年{}月{}日'.format(sjlist[0],sjlist[1],sjlist[2])\n",
    "    r_3 = paragraph_3.add_run(sj)\n",
    "    r_3.font.bold = True\n",
    "    r_3.font.underline = True\n",
    "    paragraph_3.paragraph_format.space_before = Inches(1.0)\n",
    "    paragraph_3.paragraph_format.alignment = WD_PARAGRAPH_ALIGNMENT.RIGHT\n",
    "    doc_yqh.save('{}{}_{}.docx'.format(gs,xm,sj))\n",
    "\n",
    "gs = '成功'\n",
    "xm = '非常大大'\n",
    "sj = '2021-01-01'\n",
    "yqh(gs,xm,sj)"
   ]
  },
  {
   "attachments": {
    "yqh.png": {
     "image/png": "[encoded data removed]"
    }
   },
   "cell_type": "markdown",
   "metadata": {},
   "source": [
    "邀请函模版完成  \n",
    "![yqh.png](attachment:yqh.png)\n",
    "\n",
    "上面做出的模版没有考虑到邀请时间的格式问题，当时取值sj='2021年1月1日'，所以格式就是上图的样子，做到下面的时候发现这个问题，重新做了修改  \n",
    "接下来读取Excel文档，继续项目"
   ]
  },
  {
   "cell_type": "code",
   "execution_count": 52,
   "metadata": {},
   "outputs": [
    {
     "name": "stdout",
     "output_type": "stream",
     "text": [
      "阿里数据工程师牛云2021-02-15\n",
      "腾讯数据分析师牛化腾2021-02-16\n",
      "百度数据架构师张艳红2021-02-17\n",
      "京东算法工程师王强东2021-02-18\n"
     ]
    }
   ],
   "source": [
    "from openpyxl import load_workbook\n",
    "workbook = load_workbook('.\\\\图片\\\\excel到word.xlsx')\n",
    "sheet = workbook.active\n",
    "for cells in sheet.iter_rows(min_row =2):\n",
    "    gs = cells[0].value\n",
    "    zw = cells[1].value\n",
    "    mz = cells[2].value\n",
    "    sj = cells[3].value\n",
    "    print('{}{}{}{}'.format(gs,zw,mz,str(sj)[:10]))\n",
    "    yqh(gs,zw+mz,str(sj)[:10])"
   ]
  },
  {
   "attachments": {
    "yqhend.png": {
     "image/png": "[encoded data removed]"
    }
   },
   "cell_type": "markdown",
   "metadata": {},
   "source": [
    "最终生成的结果文件  \n",
    "![yqhend.png](attachment:yqhend.png)\n",
    "\n",
    "整个项目做一遍之后能加深印象，相比看而言，实操才是最有效果的，邀请函标题的格式字体没改过来，试了几个命令还是达不到效果，抽时间再研究研究"
   ]
  },
  {
   "cell_type": "markdown",
   "metadata": {},
   "source": [
    "下面是教程示例代码"
   ]
  },
  {
   "cell_type": "code",
   "execution_count": 53,
   "metadata": {},
   "outputs": [
    {
     "name": "stdout",
     "output_type": "stream",
     "text": [
      "阿里 数据工程师 牛云 2021-02-15\n",
      "腾讯 数据分析师 牛化腾 2021-02-16\n",
      "百度 数据架构师 张艳红 2021-02-17\n",
      "京东 算法工程师 王强东 2021-02-18\n"
     ]
    }
   ],
   "source": [
    "# 导入库\n",
    "from openpyxl import load_workbook\n",
    "from docx import Document\n",
    "from docx.enum.text import WD_PARAGRAPH_ALIGNMENT\n",
    "from docx.shared import RGBColor, Pt,Inches,Cm\n",
    "from docx.oxml.ns import qn\n",
    "\n",
    "\n",
    "path = r'D:\\\\pythontest\\\\DW_oa\\\\图片'\n",
    "# 路径为Excel 文件所在的位置，可按实际情况更改\n",
    "\n",
    "workbook = load_workbook(path + r'\\excel到word.xlsx')\n",
    "sheet = workbook.active   #默认的WorkSheet\n",
    "\n",
    "n = 0   #为了不遍历标题（excel的第一行）\n",
    "for row in sheet.rows:\n",
    "    if n:\n",
    "        company = row[0].value\n",
    "        office = row[1].value\n",
    "        name = row[2].value\n",
    "        date = str(row[3].value).split()[0]\n",
    "        print(company, office, name, date)\n",
    "\n",
    "\n",
    "        doc = Document()\n",
    "        heading_1 = '邀 请 函'\n",
    "        paragraph_1 = doc.add_heading(heading_1, level=1)\n",
    "        # 居中对齐\n",
    "        paragraph_1.alignment = WD_PARAGRAPH_ALIGNMENT.CENTER\n",
    "        # 单独修改较大字号\n",
    "        for run in paragraph_1.runs:\n",
    "            run.font.size = Pt(17)\n",
    "\n",
    "        greeting_word_1 = '尊敬的'\n",
    "        greeting_word_2 = '公司'\n",
    "        greeting_word_3 = '，您好：'\n",
    "        paragraph_2 = doc.add_paragraph()\n",
    "\n",
    "        paragraph_2.add_run(greeting_word_1)\n",
    "        r_1 = paragraph_2.add_run(company)\n",
    "        r_1.font.bold = True  # 加粗\n",
    "        r_1.font.underline = True    #下划线\n",
    "\n",
    "        paragraph_2.add_run(greeting_word_2)\n",
    "\n",
    "        r_2 = paragraph_2.add_run(office)\n",
    "        r_2.font.bold = True  # 加粗\n",
    "        r_2.font.underline = True    #下划线\n",
    "\n",
    "        r_3 = paragraph_2.add_run(name)\n",
    "        r_3.font.bold = True  # 加粗\n",
    "        r_3.font.underline = True    #下划线\n",
    "        paragraph_2.add_run(greeting_word_3)\n",
    "\n",
    "        paragraph_3 = doc.add_paragraph()\n",
    "        paragraph_3.add_run('现诚挚的邀请您于2021年10月27日参加DataWhale主办的享受开源2050活动，地点在北京鸟巢，希望您届时莅临参加。')\n",
    "        paragraph_3.paragraph_format.first_line_indent = Cm(0.75)\n",
    "        paragraph_3.paragraph_format.alignment = WD_PARAGRAPH_ALIGNMENT.LEFT\n",
    "        paragraph_3.paragraph_format.space_after = Inches(1.0)\n",
    "        paragraph_3.paragraph_format.line_spacing = 1.5\n",
    "\n",
    "        paragraph_4 = doc.add_paragraph()\n",
    "        date_word_1 = '邀请时间：'\n",
    "        paragraph_4.add_run(date_word_1)\n",
    "        paragraph_4.alignment = WD_PARAGRAPH_ALIGNMENT.RIGHT\n",
    "        sign_date = \"{}年{}月{}日\".format(date.split('-')[0], date.split('-')[1], date.split('-')[2])\n",
    "        paragraph_4.add_run(sign_date).underline = True\n",
    "        paragraph_4.alignment = WD_PARAGRAPH_ALIGNMENT.RIGHT\n",
    "        \n",
    "        #设置全文字体\n",
    "        for paragraph in doc.paragraphs:\n",
    "            for run in paragraph.runs:\n",
    "                run.font.color.rgb = RGBColor(0, 0, 0)\n",
    "                run.font.name = '楷体'\n",
    "                r = run._element.rPr.rFonts\n",
    "                r.set(qn('w:eastAsia'), '楷体')\n",
    "        doc.save(path + \"\\{}-邀请函.docx\".format(name))\n",
    "    n = n + 1"
   ]
  },
  {
   "cell_type": "markdown",
   "metadata": {},
   "source": [
    "### 四、总结\n",
    "\n",
    "> 本案例也可适用于批量生产固定格式的word，如工资条，通知单等"
   ]
  },
  {
   "cell_type": "markdown",
   "metadata": {},
   "source": [
    "#### 题后话\n",
    "\n",
    "学了这一节有些感受，是否WORD的这种操作过于复杂，有没有更简单一些的方法来处理，命令参数好长，真的记不住"
   ]
  },
  {
   "cell_type": "code",
   "execution_count": null,
   "metadata": {},
   "outputs": [],
   "source": []
  }
 ],
 "metadata": {
  "kernelspec": {
   "display_name": "Python 3",
   "language": "python",
   "name": "python3"
  },
  "language_info": {
   "codemirror_mode": {
    "name": "ipython",
    "version": 3
   },
   "file_extension": ".py",
   "mimetype": "text/x-python",
   "name": "python",
   "nbconvert_exporter": "python",
   "pygments_lexer": "ipython3",
   "version": "3.7.6"
  }
 },
 "nbformat": 4,
 "nbformat_minor": 4
}
