{
 "cells": [
  {
   "cell_type": "markdown",
   "metadata": {},
   "source": [
    "# DW_oa_Task04\n",
    "## python自动化之PDF\n",
    "## 20210620"
   ]
  },
  {
   "cell_type": "markdown",
   "metadata": {},
   "source": [
    "### Python 操作 PDF\n",
    "\n",
    "PDF 操作是本次自动化办公的最后一个知识点，初级的 PDF 自动化包括 PDF 文档的拆分、合并、提取等操作，更高级的还包括 WORD与PDF互转等\n",
    "\n",
    "初级操作一般比较常用，也可以解决较多的办公内容，所以本节将会主要介绍 PDF 的初级操作，具体内容将会从以下几个小节展开：\n",
    "\n",
    "1. 相关介绍\n",
    "2. 批量拆分\n",
    "3. 批量合并\n",
    "4. 提取文字内容\n",
    "5. 提取表格内容\n",
    "6. 提取图片内容\n",
    "7. 转换为PDF图片\n",
    "8. 添加水印\n",
    "9. 加密与解码\n",
    "\n",
    "下面直接开始本节内容。"
   ]
  },
  {
   "cell_type": "markdown",
   "metadata": {},
   "source": [
    "#### 1. 相关介绍\n",
    "\n",
    "Python 操作 PDF 会用到两个库，分别是：PyPDF2 和 pdfplumber\n",
    "\n",
    "其中 **PyPDF2** 可以更好的读取、写入、分割、合并PDF文件，而 **pdfplumber** 可以更好的读取 PDF 文件中内容和提取 PDF 中的表格\n",
    "\n",
    "对应的官网分别是：\n",
    "\n",
    "> PyPDF2：https://pythonhosted.org/PyPDF2/\n",
    ">\n",
    "> pdfplumber：https://github.com/jsvine/pdfplumber\n",
    "\n",
    "由于这两个库都不是 Python 的标准库，所以在使用之前都需要单独安装\n",
    "\n",
    "win+r 后输入 cmd 打开 command 窗口，依次输入如下命令进行安装："
   ]
  },
  {
   "cell_type": "code",
   "execution_count": 1,
   "metadata": {},
   "outputs": [
    {
     "name": "stdout",
     "output_type": "stream",
     "text": [
      "Requirement already satisfied: pypdf2 in c:\\programdata\\anaconda3\\lib\\site-packages (1.26.0)\n"
     ]
    }
   ],
   "source": [
    "!pip install pypdf2"
   ]
  },
  {
   "cell_type": "code",
   "execution_count": 2,
   "metadata": {},
   "outputs": [
    {
     "name": "stdout",
     "output_type": "stream",
     "text": [
      "Processing c:\\users\\jo\\appdata\\local\\pip\\cache\\wheels\\f2\\b1\\a0\\c0a77b756d580f53b3806ae0e0b3ec945a8d05fca1d6e10cc1\\pdfplumber-0.5.28-py3-none-any.whl\n",
      "Collecting pdfminer.six==20200517\n",
      "  Using cached pdfminer.six-20200517-py3-none-any.whl (5.6 MB)\n",
      "Requirement already satisfied: Wand in c:\\programdata\\anaconda3\\lib\\site-packages (from pdfplumber) (0.6.6)\n",
      "Requirement already satisfied: Pillow>=7.0.0 in c:\\programdata\\anaconda3\\lib\\site-packages (from pdfplumber) (7.0.0)\n",
      "Requirement already satisfied: chardet; python_version > \"3.0\" in c:\\programdata\\anaconda3\\lib\\site-packages (from pdfminer.six==20200517->pdfplumber) (3.0.4)\n",
      "Collecting pycryptodome\n",
      "  Using cached pycryptodome-3.10.1-cp35-abi3-win_amd64.whl (1.6 MB)\n",
      "Requirement already satisfied: sortedcontainers in c:\\programdata\\anaconda3\\lib\\site-packages (from pdfminer.six==20200517->pdfplumber) (2.1.0)\n",
      "Installing collected packages: pycryptodome, pdfminer.six, pdfplumber\n"
     ]
    },
    {
     "name": "stderr",
     "output_type": "stream",
     "text": [
      "ERROR: Could not install packages due to an EnvironmentError: [WinError 5] 拒绝访问。: 'C:\\\\ProgramData\\\\Anaconda3\\\\Lib\\\\site-packages\\\\Crypto\\\\__init__.py'\n",
      "Consider using the `--user` option or check the permissions.\n",
      "\n"
     ]
    }
   ],
   "source": [
    "!pip install pdfplumber"
   ]
  },
  {
   "cell_type": "markdown",
   "metadata": {},
   "source": [
    "#### 2. 批量拆分\n",
    "\n",
    "将一个完整的 PDF 拆分成几个小的 PDF，因为主要涉及到 PDF 整体的操作，所以本小节需要用到 PyPDF2 这个库\n",
    "\n",
    "拆分的大概思路如下：\n",
    "\n",
    "- 读取 PDF 的整体信息、总页数等\n",
    "- 遍历每一页内容，以每个 step 为间隔将 PDF 存成每一个小的文件块\n",
    "- 将小的文件块重新保存为新的 PDF 文件\n",
    "\n",
    "需要注意的是，在拆分的过程中，可以手动设置间隔，例如：每5页保存成一个小的 PDF 文件\n",
    "\n",
    "拆分的代码如下："
   ]
  },
  {
   "cell_type": "code",
   "execution_count": 3,
   "metadata": {},
   "outputs": [],
   "source": [
    "def split_pdf(filename, filepath, save_dirpath, step=5):\n",
    "    \"\"\"\n",
    "    拆分PDF为多个小的PDF文件，\n",
    "    @param filename:文件名\n",
    "    @param filepath:文件路径\n",
    "    @param save_dirpath:保存小的PDF的文件路径\n",
    "    @param step: 每step间隔的页面生成一个文件，例如step=5，表示0-4页、5-9页...为一个文件\n",
    "    @return:\n",
    "    \"\"\"\n",
    "    if not os.path.exists(save_dirpath):\n",
    "        os.mkdir(save_dirpath)   # 没有保存的文件路径,则新建\n",
    "    pdf_reader = PdfFileReader(filepath)\n",
    "    # 读取每一页的数据\n",
    "    pages = pdf_reader.getNumPages()\n",
    "    for page in range(0, pages, step):\n",
    "        pdf_writer = PdfFileWriter()\n",
    "        # 拆分pdf，每 step 页的拆分为一个文件\n",
    "        for index in range(page, page+step):\n",
    "            if index < pages:\n",
    "                pdf_writer.addPage(pdf_reader.getPage(index))\n",
    "        # 保存拆分后的小文件\n",
    "        save_path = os.path.join(save_dirpath, filename+str(int(page/step)+1)+'.pdf')\n",
    "        print(save_path)\n",
    "        with open(save_path, \"wb\") as out:\n",
    "            pdf_writer.write(out)\n",
    "\n",
    "    print(\"文件已成功拆分，保存路径为：\"+save_dirpath)"
   ]
  },
  {
   "cell_type": "code",
   "execution_count": 57,
   "metadata": {},
   "outputs": [],
   "source": [
    "def split_pdf1(filename, filepath, save_dirpath, step=5):\n",
    "    \"\"\"\n",
    "    拆分PDF为多个小的PDF文件，\n",
    "    @param filename:文件名\n",
    "    @param filepath:文件路径\n",
    "    @param save_dirpath:保存小的PDF的文件路径\n",
    "    @param step: 每step间隔的页面生成一个文件，例如step=5，表示0-4页、5-9页...为一个文件\n",
    "    @return:\n",
    "    \"\"\"\n",
    "    if not os.path.exists(save_dirpath):\n",
    "        os.mkdir(save_dirpath)   # 没有保存的文件路径,则新建\n",
    "    pdf_reader = PdfFileReader(filepath)\n",
    "    # 读取每一页的数据\n",
    "    pages = pdf_reader.getNumPages()\n",
    "    print(pages)\n",
    "    n = 0\n",
    "    for page in range(0, pages):\n",
    "        pdf_writer = PdfFileWriter()\n",
    "        # 拆分pdf，每 step 页的拆分为一个文件\n",
    "        pdf_writer.addPage(pdf_reader.getPage(page))\n",
    "        fy = n+step\n",
    "        print(page)\n",
    "        if fy > pages:\n",
    "            fy = pages\n",
    "        if page == fy-1:\n",
    "            n = fy\n",
    "            pdf_writer.addPage(pdf_reader.getPage(fy))\n",
    "        # 保存拆分后的小文件\n",
    "        \n",
    "        save_path = os.path.join(save_dirpath, filename+str(int(page/step)+1)+'.pdf')\n",
    "        print(save_path)\n",
    "        with open(save_path, \"wb\") as out:\n",
    "            pdf_writer.write(out)\n",
    "\n",
    "    print(\"文件已成功拆分，保存路径为：\"+save_dirpath)"
   ]
  },
  {
   "cell_type": "code",
   "execution_count": 5,
   "metadata": {
    "scrolled": true
   },
   "outputs": [
    {
     "name": "stdout",
     "output_type": "stream",
     "text": [
      "D:\\pythontest\\DW_oa\\temp\\good1.pdf\n",
      "D:\\pythontest\\DW_oa\\temp\\good2.pdf\n",
      "D:\\pythontest\\DW_oa\\temp\\good3.pdf\n",
      "文件已成功拆分，保存路径为：D:\\pythontest\\DW_oa\\temp\n"
     ]
    }
   ],
   "source": [
    "import os\n",
    "from PyPDF2 import PdfFileReader, PdfFileWriter\n",
    "split_pdf('good','D:\\\\pythontest\\\\DW_oa\\\\tempfile.pdf','D:\\\\pythontest\\\\DW_oa\\\\temp',step=3)"
   ]
  },
  {
   "cell_type": "code",
   "execution_count": 58,
   "metadata": {
    "scrolled": true
   },
   "outputs": [
    {
     "name": "stdout",
     "output_type": "stream",
     "text": [
      "8\n",
      "0\n",
      "D:\\pythontest\\DW_oa\\temp1\\cool1.pdf\n",
      "1\n",
      "D:\\pythontest\\DW_oa\\temp1\\cool1.pdf\n",
      "2\n",
      "D:\\pythontest\\DW_oa\\temp1\\cool1.pdf\n",
      "3\n",
      "D:\\pythontest\\DW_oa\\temp1\\cool2.pdf\n",
      "4\n",
      "D:\\pythontest\\DW_oa\\temp1\\cool2.pdf\n",
      "5\n",
      "D:\\pythontest\\DW_oa\\temp1\\cool2.pdf\n",
      "6\n",
      "D:\\pythontest\\DW_oa\\temp1\\cool3.pdf\n",
      "7\n"
     ]
    },
    {
     "ename": "IndexError",
     "evalue": "list index out of range",
     "output_type": "error",
     "traceback": [
      "\u001b[1;31m---------------------------------------------------------------------------\u001b[0m",
      "\u001b[1;31mIndexError\u001b[0m                                Traceback (most recent call last)",
      "\u001b[1;32m<ipython-input-58-429a55c1a156>\u001b[0m in \u001b[0;36m<module>\u001b[1;34m\u001b[0m\n\u001b[1;32m----> 1\u001b[1;33m \u001b[0msplit_pdf1\u001b[0m\u001b[1;33m(\u001b[0m\u001b[1;34m'cool'\u001b[0m\u001b[1;33m,\u001b[0m\u001b[1;34m'D:\\\\pythontest\\\\DW_oa\\\\tempfile.pdf'\u001b[0m\u001b[1;33m,\u001b[0m\u001b[1;34m'D:\\\\pythontest\\\\DW_oa\\\\temp1'\u001b[0m\u001b[1;33m,\u001b[0m\u001b[0mstep\u001b[0m\u001b[1;33m=\u001b[0m\u001b[1;36m3\u001b[0m\u001b[1;33m)\u001b[0m\u001b[1;33m\u001b[0m\u001b[1;33m\u001b[0m\u001b[0m\n\u001b[0m",
      "\u001b[1;32m<ipython-input-57-0d2cfbefc285>\u001b[0m in \u001b[0;36msplit_pdf1\u001b[1;34m(filename, filepath, save_dirpath, step)\u001b[0m\n\u001b[0;32m     25\u001b[0m         \u001b[1;32mif\u001b[0m \u001b[0mpage\u001b[0m \u001b[1;33m==\u001b[0m \u001b[0mfy\u001b[0m\u001b[1;33m-\u001b[0m\u001b[1;36m1\u001b[0m\u001b[1;33m:\u001b[0m\u001b[1;33m\u001b[0m\u001b[1;33m\u001b[0m\u001b[0m\n\u001b[0;32m     26\u001b[0m             \u001b[0mn\u001b[0m \u001b[1;33m=\u001b[0m \u001b[0mfy\u001b[0m\u001b[1;33m\u001b[0m\u001b[1;33m\u001b[0m\u001b[0m\n\u001b[1;32m---> 27\u001b[1;33m             \u001b[0mpdf_writer\u001b[0m\u001b[1;33m.\u001b[0m\u001b[0maddPage\u001b[0m\u001b[1;33m(\u001b[0m\u001b[0mpdf_reader\u001b[0m\u001b[1;33m.\u001b[0m\u001b[0mgetPage\u001b[0m\u001b[1;33m(\u001b[0m\u001b[0mfy\u001b[0m\u001b[1;33m)\u001b[0m\u001b[1;33m)\u001b[0m\u001b[1;33m\u001b[0m\u001b[1;33m\u001b[0m\u001b[0m\n\u001b[0m\u001b[0;32m     28\u001b[0m         \u001b[1;31m# 保存拆分后的小文件\u001b[0m\u001b[1;33m\u001b[0m\u001b[1;33m\u001b[0m\u001b[1;33m\u001b[0m\u001b[0m\n\u001b[0;32m     29\u001b[0m \u001b[1;33m\u001b[0m\u001b[0m\n",
      "\u001b[1;32mC:\\ProgramData\\Anaconda3\\lib\\site-packages\\PyPDF2\\pdf.py\u001b[0m in \u001b[0;36mgetPage\u001b[1;34m(self, pageNumber)\u001b[0m\n\u001b[0;32m   1175\u001b[0m         \u001b[1;32mif\u001b[0m \u001b[0mself\u001b[0m\u001b[1;33m.\u001b[0m\u001b[0mflattenedPages\u001b[0m \u001b[1;33m==\u001b[0m \u001b[1;32mNone\u001b[0m\u001b[1;33m:\u001b[0m\u001b[1;33m\u001b[0m\u001b[1;33m\u001b[0m\u001b[0m\n\u001b[0;32m   1176\u001b[0m             \u001b[0mself\u001b[0m\u001b[1;33m.\u001b[0m\u001b[0m_flatten\u001b[0m\u001b[1;33m(\u001b[0m\u001b[1;33m)\u001b[0m\u001b[1;33m\u001b[0m\u001b[1;33m\u001b[0m\u001b[0m\n\u001b[1;32m-> 1177\u001b[1;33m         \u001b[1;32mreturn\u001b[0m \u001b[0mself\u001b[0m\u001b[1;33m.\u001b[0m\u001b[0mflattenedPages\u001b[0m\u001b[1;33m[\u001b[0m\u001b[0mpageNumber\u001b[0m\u001b[1;33m]\u001b[0m\u001b[1;33m\u001b[0m\u001b[1;33m\u001b[0m\u001b[0m\n\u001b[0m\u001b[0;32m   1178\u001b[0m \u001b[1;33m\u001b[0m\u001b[0m\n\u001b[0;32m   1179\u001b[0m     namedDestinations = property(lambda self:\n",
      "\u001b[1;31mIndexError\u001b[0m: list index out of range"
     ]
    }
   ],
   "source": [
    "split_pdf1('cool','D:\\\\pythontest\\\\DW_oa\\\\tempfile.pdf','D:\\\\pythontest\\\\DW_oa\\\\temp1',step=3)"
   ]
  },
  {
   "cell_type": "markdown",
   "metadata": {},
   "source": [
    "用自己的思维重写了一下,发现运行结果有问题,是思维逻辑的原因,理不出来,回头再来看看"
   ]
  },
  {
   "cell_type": "markdown",
   "metadata": {},
   "source": [
    "**需要注意的是：**\n",
    "\n",
    "如果你是第一次运行代码，在运行过程中，会直接报如下的错误\n",
    "\n",
    "![](https://raw.githubusercontent.com/double-point/GraphBed/master/python_2_pdf/%E6%8B%86%E5%88%86%E6%8A%A5%E9%94%99.png)\n",
    "\n",
    "如果是在 Pycharm 下，直接通过报错信息，点击 utils.py 文件，定位到第 238 行原文\n",
    "\n",
    "原文中是这样的：\n",
    "\n",
    "```python\n",
    " r = s.encode('latin-1')\n",
    " if len(s) < 2:\n",
    "   \t\tbc[s] = r\n",
    " return r\n",
    "```\n",
    "\n",
    "修改为：\n",
    "\n",
    "```python\n",
    "try:\n",
    "    r = s.encode('latin-1')\n",
    "    if len(s) < 2:\n",
    "        bc[s] = r\n",
    "    return r\n",
    "except Exception as e:\n",
    "    r = s.encode('utf-8')\n",
    "    if len(s) < 2:\n",
    "        bc[s] = r\n",
    "    return r\n",
    "```\n",
    "\n",
    "如果你使用的是 **anaconda**，对应的文件路径应该为：anaconda\\Lib\\site-packages\\PyPDF2\\utils.py，进行同样的修改操作即可\n"
   ]
  },
  {
   "cell_type": "markdown",
   "metadata": {},
   "source": [
    "#### 3. 批量合并\n",
    "\n",
    "比起拆分来，合并的思路更加简单：\n",
    "\n",
    "- 确定要合并的 **文件顺序**\n",
    "- 循环追加到一个文件块中\n",
    "- 保存成一个新的文件\n",
    "\n",
    "对应的代码比较简单，基本不会出现问题："
   ]
  },
  {
   "cell_type": "code",
   "execution_count": 27,
   "metadata": {},
   "outputs": [],
   "source": [
    "def concat_pdf(filename, read_dirpath, save_filepath):\n",
    "    \"\"\"\n",
    "    合并多个PDF文件\n",
    "    @param filename:文件名\n",
    "    @param read_dirpath:要合并的PDF目录\n",
    "    @param save_filepath:合并后的PDF文件路径\n",
    "    @return:\n",
    "    \"\"\"\n",
    "    pdf_writer = PdfFileWriter()\n",
    "    # 对文件名进行排序\n",
    "    list_filename = os.listdir(read_dirpath)\n",
    "    list_filename.sort(key=lambda x: int(x[:-4].replace(filename, \"\")))\n",
    "    for filename in list_filename:\n",
    "        print(filename)\n",
    "        filepath = os.path.join(read_dirpath, filename)\n",
    "        # 读取文件并获取文件的页数\n",
    "        pdf_reader = PdfFileReader(filepath)\n",
    "        pages = pdf_reader.getNumPages()\n",
    "        # 逐页添加\n",
    "        for page in range(pages):\n",
    "            pdf_writer.addPage(pdf_reader.getPage(page))\n",
    "    # 保存合并后的文件\n",
    "    with open(save_filepath, \"wb\") as out:\n",
    "        pdf_writer.write(out)\n",
    "    print(\"文件已成功合并，保存路径为：\"+save_filepath)"
   ]
  },
  {
   "cell_type": "code",
   "execution_count": 34,
   "metadata": {
    "scrolled": true
   },
   "outputs": [
    {
     "name": "stdout",
     "output_type": "stream",
     "text": [
      "good1.pdf\n",
      "good2.pdf\n",
      "good3.pdf\n",
      "文件已成功合并，保存路径为：D:\\pythontest\\DW_oa\\good.pdf\n"
     ]
    }
   ],
   "source": [
    "concat_pdf('good', 'D:\\\\pythontest\\\\DW_oa\\\\temp', 'D:\\\\pythontest\\\\DW_oa\\\\good.pdf')"
   ]
  },
  {
   "cell_type": "code",
   "execution_count": null,
   "metadata": {},
   "outputs": [],
   "source": []
  }
 ],
 "metadata": {
  "kernelspec": {
   "display_name": "Python 3",
   "language": "python",
   "name": "python3"
  },
  "language_info": {
   "codemirror_mode": {
    "name": "ipython",
    "version": 3
   },
   "file_extension": ".py",
   "mimetype": "text/x-python",
   "name": "python",
   "nbconvert_exporter": "python",
   "pygments_lexer": "ipython3",
   "version": "3.7.6"
  }
 },
 "nbformat": 4,
 "nbformat_minor": 4
}
