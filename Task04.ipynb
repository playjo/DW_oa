{
 "cells": [
  {
   "cell_type": "markdown",
   "metadata": {},
   "source": [
    "# DW_oa_Task04\n",
    "## python自动化之PDF\n",
    "## 20210620"
   ]
  },
  {
   "cell_type": "markdown",
   "metadata": {},
   "source": [
    "### Python 操作 PDF\n",
    "\n",
    "PDF 操作是本次自动化办公的最后一个知识点，初级的 PDF 自动化包括 PDF 文档的拆分、合并、提取等操作，更高级的还包括 WORD与PDF互转等\n",
    "\n",
    "初级操作一般比较常用，也可以解决较多的办公内容，所以本节将会主要介绍 PDF 的初级操作，具体内容将会从以下几个小节展开：\n",
    "\n",
    "1. 相关介绍\n",
    "2. 批量拆分\n",
    "3. 批量合并\n",
    "4. 提取文字内容\n",
    "5. 提取表格内容\n",
    "6. 提取图片内容\n",
    "7. 转换为PDF图片\n",
    "8. 添加水印\n",
    "9. 加密与解码\n",
    "\n",
    "下面直接开始本节内容。"
   ]
  },
  {
   "cell_type": "markdown",
   "metadata": {},
   "source": [
    "#### 1. 相关介绍\n",
    "\n",
    "Python 操作 PDF 会用到两个库，分别是：PyPDF2 和 pdfplumber\n",
    "\n",
    "其中 **PyPDF2** 可以更好的读取、写入、分割、合并PDF文件，而 **pdfplumber** 可以更好的读取 PDF 文件中内容和提取 PDF 中的表格\n",
    "\n",
    "对应的官网分别是：\n",
    "\n",
    "> PyPDF2：https://pythonhosted.org/PyPDF2/\n",
    ">\n",
    "> pdfplumber：https://github.com/jsvine/pdfplumber\n",
    "\n",
    "由于这两个库都不是 Python 的标准库，所以在使用之前都需要单独安装\n",
    "\n",
    "win+r 后输入 cmd 打开 command 窗口，依次输入如下命令进行安装："
   ]
  },
  {
   "cell_type": "code",
   "execution_count": 1,
   "metadata": {},
   "outputs": [
    {
     "name": "stdout",
     "output_type": "stream",
     "text": [
      "Requirement already satisfied: pypdf2 in c:\\programdata\\anaconda3\\lib\\site-packages (1.26.0)\n"
     ]
    }
   ],
   "source": [
    "!pip install pypdf2"
   ]
  },
  {
   "cell_type": "code",
   "execution_count": 2,
   "metadata": {},
   "outputs": [
    {
     "name": "stdout",
     "output_type": "stream",
     "text": [
      "Requirement already satisfied: pdfplumber in c:\\users\\jo\\appdata\\roaming\\python\\python37\\site-packages (0.5.28)\n",
      "Requirement already satisfied: pdfminer.six==20200517 in c:\\users\\jo\\appdata\\roaming\\python\\python37\\site-packages (from pdfplumber) (20200517)\n",
      "Requirement already satisfied: Pillow>=7.0.0 in c:\\programdata\\anaconda3\\lib\\site-packages (from pdfplumber) (7.0.0)\n",
      "Requirement already satisfied: Wand in c:\\programdata\\anaconda3\\lib\\site-packages (from pdfplumber) (0.6.6)\n",
      "Requirement already satisfied: chardet; python_version > \"3.0\" in c:\\programdata\\anaconda3\\lib\\site-packages (from pdfminer.six==20200517->pdfplumber) (3.0.4)\n",
      "Requirement already satisfied: pycryptodome in c:\\users\\jo\\appdata\\roaming\\python\\python37\\site-packages (from pdfminer.six==20200517->pdfplumber) (3.10.1)\n",
      "Requirement already satisfied: sortedcontainers in c:\\programdata\\anaconda3\\lib\\site-packages (from pdfminer.six==20200517->pdfplumber) (2.1.0)\n"
     ]
    }
   ],
   "source": [
    "!pip install --user pdfplumber"
   ]
  },
  {
   "cell_type": "markdown",
   "metadata": {},
   "source": [
    "#### 2. 批量拆分\n",
    "\n",
    "将一个完整的 PDF 拆分成几个小的 PDF，因为主要涉及到 PDF 整体的操作，所以本小节需要用到 PyPDF2 这个库\n",
    "\n",
    "拆分的大概思路如下：\n",
    "\n",
    "- 读取 PDF 的整体信息、总页数等\n",
    "- 遍历每一页内容，以每个 step 为间隔将 PDF 存成每一个小的文件块\n",
    "- 将小的文件块重新保存为新的 PDF 文件\n",
    "\n",
    "需要注意的是，在拆分的过程中，可以手动设置间隔，例如：每5页保存成一个小的 PDF 文件\n",
    "\n",
    "拆分的代码如下："
   ]
  },
  {
   "cell_type": "code",
   "execution_count": 3,
   "metadata": {},
   "outputs": [],
   "source": [
    "def split_pdf(filename, filepath, save_dirpath, step=5):\n",
    "    \"\"\"\n",
    "    拆分PDF为多个小的PDF文件，\n",
    "    @param filename:文件名\n",
    "    @param filepath:文件路径\n",
    "    @param save_dirpath:保存小的PDF的文件路径\n",
    "    @param step: 每step间隔的页面生成一个文件，例如step=5，表示0-4页、5-9页...为一个文件\n",
    "    @return:\n",
    "    \"\"\"\n",
    "    if not os.path.exists(save_dirpath):\n",
    "        os.mkdir(save_dirpath)   # 没有保存的文件路径,则新建\n",
    "    pdf_reader = PdfFileReader(filepath)\n",
    "    # 读取每一页的数据\n",
    "    pages = pdf_reader.getNumPages()\n",
    "    for page in range(0, pages, step):\n",
    "        pdf_writer = PdfFileWriter()\n",
    "        # 拆分pdf，每 step 页的拆分为一个文件\n",
    "        for index in range(page, page+step):\n",
    "            if index < pages:\n",
    "                pdf_writer.addPage(pdf_reader.getPage(index))\n",
    "        # 保存拆分后的小文件\n",
    "        save_path = os.path.join(save_dirpath, filename+str(int(page/step)+1)+'.pdf')\n",
    "        print(save_path)\n",
    "        with open(save_path, \"wb\") as out:\n",
    "            pdf_writer.write(out)\n",
    "\n",
    "    print(\"文件已成功拆分，保存路径为：\"+save_dirpath)"
   ]
  },
  {
   "cell_type": "code",
   "execution_count": 4,
   "metadata": {},
   "outputs": [],
   "source": [
    "def split_pdf1(filename, filepath, save_dirpath, step=5):\n",
    "    \"\"\"\n",
    "    拆分PDF为多个小的PDF文件，\n",
    "    @param filename:文件名\n",
    "    @param filepath:文件路径\n",
    "    @param save_dirpath:保存小的PDF的文件路径\n",
    "    @param step: 每step间隔的页面生成一个文件，例如step=5，表示0-4页、5-9页...为一个文件\n",
    "    @return:\n",
    "    \"\"\"\n",
    "    if not os.path.exists(save_dirpath):\n",
    "        os.mkdir(save_dirpath)   # 没有保存的文件路径,则新建\n",
    "    pdf_reader = PdfFileReader(filepath)\n",
    "    # 读取每一页的数据\n",
    "    pages = pdf_reader.getNumPages()\n",
    "    n = 0\n",
    "    for page in range(0, pages):\n",
    "        pdf_writer = PdfFileWriter()\n",
    "        # 拆分pdf，每 step 页的拆分为一个文件\n",
    "        pdf_writer.addPage(pdf_reader.getPage(page))\n",
    "        save_path = os.path.join(save_dirpath, filename+str(int(page/step)+1)+'.pdf')\n",
    "        out = open(save_path, \"ab+\")\n",
    "        fy = n+step\n",
    "        print(page)\n",
    "        if fy > pages:\n",
    "            fy = pages\n",
    "        if page == fy-1:\n",
    "            n = fy\n",
    "            pdf_writer.write(out)\n",
    "            # 保存拆分后的小文件\n",
    "            print(save_path)\n",
    "    print(\"文件已成功拆分，保存路径为：\"+save_dirpath)"
   ]
  },
  {
   "cell_type": "code",
   "execution_count": 5,
   "metadata": {
    "scrolled": true
   },
   "outputs": [
    {
     "name": "stdout",
     "output_type": "stream",
     "text": [
      "D:\\pythontest\\DW_oa\\temp\\good1.pdf\n",
      "D:\\pythontest\\DW_oa\\temp\\good2.pdf\n",
      "D:\\pythontest\\DW_oa\\temp\\good3.pdf\n",
      "文件已成功拆分，保存路径为：D:\\pythontest\\DW_oa\\temp\n"
     ]
    }
   ],
   "source": [
    "import os\n",
    "from PyPDF2 import PdfFileReader, PdfFileWriter\n",
    "split_pdf('good','D:\\\\pythontest\\\\DW_oa\\\\tempfile.pdf','D:\\\\pythontest\\\\DW_oa\\\\temp',step=3)"
   ]
  },
  {
   "cell_type": "code",
   "execution_count": 6,
   "metadata": {
    "scrolled": false
   },
   "outputs": [
    {
     "name": "stdout",
     "output_type": "stream",
     "text": [
      "0\n",
      "1\n",
      "2\n",
      "D:\\pythontest\\DW_oa\\temp1\\cool1.pdf\n",
      "3\n",
      "4\n",
      "5\n",
      "D:\\pythontest\\DW_oa\\temp1\\cool2.pdf\n",
      "6\n",
      "7\n",
      "D:\\pythontest\\DW_oa\\temp1\\cool3.pdf\n",
      "文件已成功拆分，保存路径为：D:\\pythontest\\DW_oa\\temp1\n"
     ]
    }
   ],
   "source": [
    "split_pdf1('cool','D:\\\\pythontest\\\\DW_oa\\\\tempfile.pdf','D:\\\\pythontest\\\\DW_oa\\\\temp1',step=3)"
   ]
  },
  {
   "cell_type": "markdown",
   "metadata": {},
   "source": [
    "用自己的思维重写了一下,发现运行结果有问题,是思维逻辑的原因,理不出来,回头再来看看"
   ]
  },
  {
   "cell_type": "markdown",
   "metadata": {},
   "source": [
    "**需要注意的是：**\n",
    "\n",
    "如果你是第一次运行代码，在运行过程中，会直接报如下的错误\n",
    "\n",
    "![](https://raw.githubusercontent.com/double-point/GraphBed/master/python_2_pdf/%E6%8B%86%E5%88%86%E6%8A%A5%E9%94%99.png)\n",
    "\n",
    "如果是在 Pycharm 下，直接通过报错信息，点击 utils.py 文件，定位到第 238 行原文\n",
    "\n",
    "原文中是这样的：\n",
    "\n",
    "```python\n",
    " r = s.encode('latin-1')\n",
    " if len(s) < 2:\n",
    "   \t\tbc[s] = r\n",
    " return r\n",
    "```\n",
    "\n",
    "修改为：\n",
    "\n",
    "```python\n",
    "try:\n",
    "    r = s.encode('latin-1')\n",
    "    if len(s) < 2:\n",
    "        bc[s] = r\n",
    "    return r\n",
    "except Exception as e:\n",
    "    r = s.encode('utf-8')\n",
    "    if len(s) < 2:\n",
    "        bc[s] = r\n",
    "    return r\n",
    "```\n",
    "\n",
    "如果你使用的是 **anaconda**，对应的文件路径应该为：anaconda\\Lib\\site-packages\\PyPDF2\\utils.py，进行同样的修改操作即可\n"
   ]
  },
  {
   "cell_type": "markdown",
   "metadata": {},
   "source": [
    "#### 3. 批量合并\n",
    "\n",
    "比起拆分来，合并的思路更加简单：\n",
    "\n",
    "- 确定要合并的 **文件顺序**\n",
    "- 循环追加到一个文件块中\n",
    "- 保存成一个新的文件\n",
    "\n",
    "对应的代码比较简单，基本不会出现问题："
   ]
  },
  {
   "cell_type": "code",
   "execution_count": 7,
   "metadata": {},
   "outputs": [],
   "source": [
    "def concat_pdf(filename, read_dirpath, save_filepath):\n",
    "    \"\"\"\n",
    "    合并多个PDF文件\n",
    "    @param filename:文件名\n",
    "    @param read_dirpath:要合并的PDF目录\n",
    "    @param save_filepath:合并后的PDF文件路径\n",
    "    @return:\n",
    "    \"\"\"\n",
    "    pdf_writer = PdfFileWriter()\n",
    "    # 对文件名进行排序\n",
    "    list_filename = os.listdir(read_dirpath)\n",
    "    list_filename.sort(key=lambda x: int(x[:-4].replace(filename, \"\")))\n",
    "    for filename in list_filename:\n",
    "        print(filename)\n",
    "        filepath = os.path.join(read_dirpath, filename)\n",
    "        # 读取文件并获取文件的页数\n",
    "        pdf_reader = PdfFileReader(filepath)\n",
    "        pages = pdf_reader.getNumPages()\n",
    "        # 逐页添加\n",
    "        for page in range(pages):\n",
    "            pdf_writer.addPage(pdf_reader.getPage(page))\n",
    "    # 保存合并后的文件\n",
    "    with open(save_filepath, \"wb\") as out:\n",
    "        pdf_writer.write(out)\n",
    "    print(\"文件已成功合并，保存路径为：\"+save_filepath)"
   ]
  },
  {
   "cell_type": "code",
   "execution_count": 8,
   "metadata": {
    "scrolled": true
   },
   "outputs": [
    {
     "name": "stdout",
     "output_type": "stream",
     "text": [
      "good1.pdf\n",
      "good2.pdf\n",
      "good3.pdf\n",
      "文件已成功合并，保存路径为：D:\\pythontest\\DW_oa\\good.pdf\n"
     ]
    }
   ],
   "source": [
    "concat_pdf('good', 'D:\\\\pythontest\\\\DW_oa\\\\temp', 'D:\\\\pythontest\\\\DW_oa\\\\good.pdf')"
   ]
  },
  {
   "cell_type": "markdown",
   "metadata": {},
   "source": [
    "#### 4. 提取文字内容\n",
    "\n",
    "涉及到具体的 PDF 内容 操作，本小节需要用到 pdfplumber 这个库\n",
    "\n",
    "在进行文字提取的时候，主要用到 extract_text 这个函数\n",
    "\n",
    "具体代码如下："
   ]
  },
  {
   "cell_type": "code",
   "execution_count": 9,
   "metadata": {},
   "outputs": [],
   "source": [
    "import pdfplumber"
   ]
  },
  {
   "cell_type": "code",
   "execution_count": 10,
   "metadata": {},
   "outputs": [],
   "source": [
    "def extract_text_info(filepath):\n",
    "    \"\"\"\n",
    "    提取PDF中的文字\n",
    "    @param filepath:文件路径\n",
    "    @return:\n",
    "    \"\"\"\n",
    "    with pdfplumber.open(filepath) as pdf:\n",
    "        # 获取第2页数据\n",
    "        page = pdf.pages[1]\n",
    "        print(page.extract_text())"
   ]
  },
  {
   "cell_type": "code",
   "execution_count": 11,
   "metadata": {},
   "outputs": [
    {
     "name": "stdout",
     "output_type": "stream",
     "text": [
      "3、公司控股股东中国联合网络通信集团有限公司收到国资委出具的《关\n",
      "于中国联合网络通信股份有限公司实施首期限制性股票激励计划的批复》(国\n",
      "资考分[2017]1309 号)，原则同意中国联通实施限制性股票激励计划，以及限\n",
      "制性股票激励计划的业绩考核目标。 \n",
      "4、2018 年 1 月 16 日至 2018 年 1 月 29 日期间，公司通过内部网站或各\n",
      "下属单位公告栏等途径，在公司内部公示了激励对象的姓名和职务。 \n",
      "5、2018 年 2 月 9 日，公司召开第六届董事会第一次会议，审议通过了《关\n",
      "于公司限制性股票激励计划、首期授予方案及相关办法草案修订稿和授予名\n",
      "单的议案》。公司独立董事就本次限制性股票激励计划修订有利于公司的持续\n",
      "发展及不存在损害公司与全体股东利益的情形发表独立意见。 \n",
      "6、2018 年 2 月 9 日，公司召开第六届监事会第一次会议，审议通过了《关\n",
      "于公司限制性股票激励计划、首期授予方案及相关办法草案修订稿的议案》\n",
      "及《关于公司限制性股票激励计划首期授予方案激励对象审核意见的议案》。 \n",
      "7、公司于 2018 年 2 月 12 日公告了《关于监事会对公司限制性股票激励\n",
      "计划首期授予方案激励对象的审核意见及公示情况说明》。 \n",
      "8、2018 年 2 月 28 日，公司 2018 年第二次临时股东大会审议并通过了《关\n",
      "于公司限制性股票激励计划(草案修订稿)及其摘要的议案》《关于公司限制性\n",
      "股票计划首期授予方案(草案修订稿)及其摘要的议案》及其他相关议案。公\n",
      "司对限制性股票激励计划内幕信息知情人买卖公司股票情况进行了自查，未\n",
      "发现相关内幕信息知情人存在利用内幕信息买卖公司股票的行为。 \n",
      "9、2018 年 3 月 15 日，公司第六届董事会第二次会议审议通过了《关于\n",
      "公司限制性股票激励计划首期授予方案实施授予相关事项的议案》，公司独立\n",
      "董事对该议案发表了独立意见。 \n",
      "10、2018 年 3 月 15 日，公司第六届监事会第二次会议审议通过了《关于\n",
      "审议董事会<关于公司限制性股票激励计划首期授予方案实施授予相关事项\n",
      "的议案>的议案》，并对相关事项发表了核查意见。 \n",
      "  2 \n"
     ]
    }
   ],
   "source": [
    "extract_text_info('D:\\\\pythontest\\\\DW_oa\\\\tempfile.pdf')"
   ]
  },
  {
   "cell_type": "markdown",
   "metadata": {},
   "source": [
    ">  拓展一下：此处可以结合前面 word 小节，将内容写入 word 文件中"
   ]
  },
  {
   "cell_type": "code",
   "execution_count": 12,
   "metadata": {
    "scrolled": true
   },
   "outputs": [],
   "source": [
    "pdf =  pdfplumber.open('D:\\\\pythontest\\\\DW_oa\\\\tempfile.pdf')\n",
    "page = pdf.pages[1]\n",
    "text = page.extract_text()   # 读取第二页内容"
   ]
  },
  {
   "cell_type": "code",
   "execution_count": 13,
   "metadata": {},
   "outputs": [],
   "source": [
    "from docx import Document\n",
    "doc_1 = Document()\n",
    "paragraph_1 = doc_1.add_paragraph(text)\n",
    "doc_1.save('doc_pdf.docx')"
   ]
  },
  {
   "cell_type": "markdown",
   "metadata": {},
   "source": [
    "简单写入,没有排版及设置,中间过程思维错误,以为输出结果是字符串,将函数直接赋值给变量,发现保存文档一直为空,后来才找出问题所在"
   ]
  },
  {
   "cell_type": "markdown",
   "metadata": {},
   "source": [
    "#### 5. 提取表格内容\n",
    "\n",
    "同样的，本节是对具体内容的操作，所以也需要用到 pdfplumber 这个库\n",
    "\n",
    "和提取文字十分类似的是，提取表格内容只是将 extract_text 函数换成了 extract_table 函数\n",
    "\n",
    "对应的代码如下："
   ]
  },
  {
   "cell_type": "code",
   "execution_count": 14,
   "metadata": {},
   "outputs": [],
   "source": [
    "def extract_table_info(filepath):\n",
    "    \"\"\"\n",
    "    提取PDF中的图表数据\n",
    "    @param filepath:\n",
    "    @return:\n",
    "    \"\"\"\n",
    "    with pdfplumber.open(filepath) as pdf:\n",
    "        # 获取第18页数据\n",
    "        page = pdf.pages[5]\n",
    "        # 如果一页有一个表格，设置表格的第一行为表头，其余为数据\n",
    "        table_info = page.extract_table()\n",
    "        df_table = pd.DataFrame(table_info[1:], columns=table_info[0])\n",
    "        df_table.to_csv('dmeo.csv', index=False, encoding='gbk')"
   ]
  },
  {
   "cell_type": "markdown",
   "metadata": {},
   "source": [
    "上面代码可以获取到第 18 页的第一个表格内容，并且将其保存为 csv 文件存在本地\n",
    "\n",
    "> 但是，如果说第 18 页有多个表格内容呢？\n",
    "\n",
    "因为读取的表格会被存成二维数组，而多个二维数组就组成一个三维数组\n",
    "\n",
    "遍历这个三位数组，就可以得到该页的每一个表格数据，对应的将 extract_table 函数 改成 extract_tables 即可\n",
    "\n",
    "具体代码如下："
   ]
  },
  {
   "cell_type": "code",
   "execution_count": 15,
   "metadata": {},
   "outputs": [],
   "source": [
    "# 如果一页有多个表格，对应的数据是一个三维数组\n",
    "tables_info = page.extract_tables()\n",
    "for index in range(len(tables_info)):\n",
    "    # 设置表格的第一行为表头，其余为数据\n",
    "    df_table = pd.DataFrame(tables_info[index][1:], columns=tables_info[index][0])\n",
    "    print(df_table)\n",
    "    # df_table.to_csv('dmeo.csv', index=False, encoding='gbk')"
   ]
  },
  {
   "cell_type": "code",
   "execution_count": 16,
   "metadata": {
    "scrolled": true
   },
   "outputs": [],
   "source": [
    "import pandas as pd\n",
    "extract_table_info('D:\\\\pythontest\\\\DW_oa\\\\tempfile.pdf')"
   ]
  },
  {
   "cell_type": "code",
   "execution_count": 17,
   "metadata": {},
   "outputs": [
    {
     "data": {
      "text/html": [
       "<div>\n",
       "<style scoped>\n",
       "    .dataframe tbody tr th:only-of-type {\n",
       "        vertical-align: middle;\n",
       "    }\n",
       "\n",
       "    .dataframe tbody tr th {\n",
       "        vertical-align: top;\n",
       "    }\n",
       "\n",
       "    .dataframe thead th {\n",
       "        text-align: right;\n",
       "    }\n",
       "</style>\n",
       "<table border=\"1\" class=\"dataframe\">\n",
       "  <thead>\n",
       "    <tr style=\"text-align: right;\">\n",
       "      <th></th>\n",
       "      <th>类别</th>\n",
       "      <th>变动前</th>\n",
       "      <th>本次变动</th>\n",
       "      <th>变动后</th>\n",
       "    </tr>\n",
       "  </thead>\n",
       "  <tbody>\n",
       "    <tr>\n",
       "      <th>0</th>\n",
       "      <td>有限售条件股份</td>\n",
       "      <td>9,515,684,692</td>\n",
       "      <td>-3,742,200</td>\n",
       "      <td>9,511,942,492</td>\n",
       "    </tr>\n",
       "    <tr>\n",
       "      <th>1</th>\n",
       "      <td>无限售条件股份2</td>\n",
       "      <td>21,499,910,795</td>\n",
       "      <td>0</td>\n",
       "      <td>21,499,910,795</td>\n",
       "    </tr>\n",
       "    <tr>\n",
       "      <th>2</th>\n",
       "      <td>股份总数</td>\n",
       "      <td>31,015,595,487</td>\n",
       "      <td>-3,742,200</td>\n",
       "      <td>31,011,853,287</td>\n",
       "    </tr>\n",
       "  </tbody>\n",
       "</table>\n",
       "</div>"
      ],
      "text/plain": [
       "         类别             变动前        本次变动             变动后\n",
       "0   有限售条件股份   9,515,684,692  -3,742,200   9,511,942,492\n",
       "1  无限售条件股份2  21,499,910,795           0  21,499,910,795\n",
       "2      股份总数  31,015,595,487  -3,742,200  31,011,853,287"
      ]
     },
     "execution_count": 17,
     "metadata": {},
     "output_type": "execute_result"
    }
   ],
   "source": [
    "df = pd.read_csv('dmeo.csv', encoding='gbk')\n",
    "df"
   ]
  },
  {
   "cell_type": "markdown",
   "metadata": {},
   "source": [
    "#### 6. 提取图片内容\n",
    "\n",
    "提取 PDF 中的图片和将 PDF 转存为图片是不一样的（下一小节），需要区分开。\n",
    "\n",
    "提取图片：顾名思义，就是将内容中的图片都提取出来；转存为图片：则是将每一页的 PDF 内容存成一页一页的图片，下一小节会详细说明\n",
    "\n",
    "转存为图片中，需要用到一个模块叫 fitz，fitz 的最新版 1.18.13，非最新版的在部分函数名称上存在差异，代码中会标记出来\n",
    "\n",
    "使用 fitz 需要先安装 PyMuPDF 模块，安装方式如下："
   ]
  },
  {
   "cell_type": "code",
   "execution_count": 18,
   "metadata": {},
   "outputs": [
    {
     "name": "stdout",
     "output_type": "stream",
     "text": [
      "Requirement already satisfied: PyMuPDF in c:\\programdata\\anaconda3\\lib\\site-packages (1.18.14)\n"
     ]
    }
   ],
   "source": [
    "!pip install PyMuPDF"
   ]
  },
  {
   "cell_type": "markdown",
   "metadata": {},
   "source": [
    "提取图片的整体逻辑如下：\n",
    "\n",
    "- 使用 fitz 打开文档，获取文档详细数据\n",
    "- 遍历每一个元素，通过正则找到图片的索引位置\n",
    "- 使用 Pixmap 将索引对应的元素生成图片\n",
    "- 通过 size 函数过滤较小的图片\n",
    "\n",
    "实现的具体代码如下："
   ]
  },
  {
   "cell_type": "code",
   "execution_count": 19,
   "metadata": {},
   "outputs": [],
   "source": [
    "import fitz\n",
    "import re"
   ]
  },
  {
   "cell_type": "code",
   "execution_count": 20,
   "metadata": {
    "scrolled": true
   },
   "outputs": [
    {
     "name": "stdout",
     "output_type": "stream",
     "text": [
      "文件名：D:\\pythontest\\DW_oa\\zoom.pdf, 页数: 1, 对象: 12\n"
     ]
    }
   ],
   "source": [
    "pic_dirpath = 'D:\\\\pythontest\\\\DW_oa\\\\pic'\n",
    "filepath = 'D:\\\\pythontest\\\\DW_oa\\\\zoom.pdf'\n",
    "\n",
    "if not os.path.exists(pic_dirpath):\n",
    "    os.makedirs('D:\\\\pythontest\\\\DW_oa\\\\pic')\n",
    "# 使用正则表达式来查找图片\n",
    "check_XObject = r\"/Type(?= */XObject)\"\n",
    "check_Image = r\"/Subtype(?= */Image)\"\n",
    "img_count = 0\n",
    "\n",
    "\"\"\"1. 打开pdf，打印相关信息\"\"\"\n",
    "pdf_info = fitz.open(filepath)\n",
    "# 1.16.8版本用法 xref_len = doc._getXrefLength()\n",
    "# 最新版本写法\n",
    "xref_len = pdf_info.xref_length()\n",
    "# 打印PDF的信息\n",
    "print(\"文件名：{}, 页数: {}, 对象: {}\".format(filepath, len(pdf_info), xref_len-1))\n",
    "\n",
    "\"\"\"2. 遍历PDF中的对象，遇到是图像才进行下一步，不然就continue\"\"\"\n",
    "for index in range(1, xref_len):\n",
    "    # 1.16.8版本用法 text = doc._getXrefString(index)\n",
    "    # 最新版本\n",
    "    text = pdf_info.xref_object(index)\n",
    "    \n",
    "    is_XObject = re.search(check_XObject, text)\n",
    "    is_Image = re.search(check_Image, text)\n",
    "    # 如果不是对象也不是图片，则不操作\n",
    "    if is_XObject or is_Image:\n",
    "        img_count += 1\n",
    "        # 根据索引生成图像\n",
    "        pix = fitz.Pixmap(pdf_info, index)\n",
    "        pic_filepath = os.path.join(pic_dirpath, 'img_' + str(img_count) + '.png')\n",
    "        \"\"\"pix.size 可以反映像素多少，简单的色素块该值较低，可以通过设置一个阈值过滤。以阈值 10000 为例过滤\"\"\"\n",
    "        # if pix.size < 10000:\n",
    "        #     continue\n",
    "        \n",
    "        \"\"\"三、 将图像存为png格式\"\"\"\n",
    "        if pix.n >= 5:\n",
    "            # 先转换CMYK\n",
    "            pix = fitz.Pixmap(fitz.csRGB, pix)\n",
    "        # 存为PNG\n",
    "        pix.writePNG(pic_filepath)"
   ]
  },
  {
   "cell_type": "markdown",
   "metadata": {},
   "source": [
    "#### 7. 转换为图片\n",
    "\n",
    "转换为照片比较简单，就是将一页页的 PDF 转换为一张张的图片。大致过程如下：\n"
   ]
  },
  {
   "cell_type": "markdown",
   "metadata": {},
   "source": [
    "##### 7.1 安装 pdf2image\n",
    "\n",
    "首先需要安装对应的库，最新的 pdf2image 库版本应该是 1.14.0\n",
    "\n",
    "它的 github地址 为：https://github.com/Belval/pdf2image ，感兴趣的可以自行了解\n",
    "\n",
    "安装方式如下："
   ]
  },
  {
   "cell_type": "code",
   "execution_count": 21,
   "metadata": {},
   "outputs": [
    {
     "name": "stdout",
     "output_type": "stream",
     "text": [
      "Requirement already satisfied: pdf2image in c:\\programdata\\anaconda3\\lib\\site-packages (1.15.1)\n",
      "Requirement already satisfied: pillow in c:\\programdata\\anaconda3\\lib\\site-packages (from pdf2image) (7.0.0)\n"
     ]
    }
   ],
   "source": [
    "!pip install pdf2image"
   ]
  },
  {
   "cell_type": "markdown",
   "metadata": {},
   "source": [
    "##### 7.2 安装组件\n",
    "\n",
    "对于不同的平台，需要安装相应的组件，这里以 windows 平台和 mac 平台为例：\n",
    "\n",
    "**Windows 平台**\n",
    "\n",
    "对于 windows 用户需要安装 poppler for Windows，安装链接是：http://blog.alivate.com.au/poppler-windows/\n",
    "\n",
    "另外，还需要添加环境变量， 将 bin 文件夹的路径添加到环境变量 PATH 中 \n",
    "\n",
    "> 注意这里配置之后需要重启一下电脑才会生效，不然会报如下错误：\n",
    "\n",
    "**Mac**\n",
    "\n",
    "对于 mac 用户，需要安装 poppler for Mac，具体可以参考这个链接：http://macappstore.org/poppler/\n",
    "\n",
    "<br>\n",
    "\n",
    "详细代码如下："
   ]
  },
  {
   "cell_type": "code",
   "execution_count": 22,
   "metadata": {},
   "outputs": [],
   "source": [
    "import pdf2image\n",
    "pic_dirpath = 'D:\\\\pythontest\\\\DW_oa\\\\pic'\n",
    "filepath = 'D:\\\\pythontest\\\\DW_oa\\\\tempfile.pdf'"
   ]
  },
  {
   "cell_type": "markdown",
   "metadata": {},
   "source": [
    "if not os.path.exists(pic_dirpath):\n",
    "    os.makedirs(pic_dirpath)\n",
    "\n",
    "images = pdf2image.convert_from_bytes(open(filepath, 'rb').read())\n",
    "# images = convert_from_path(filepath, dpi=200)\n",
    "for image in images:\n",
    "    # 保存图片\n",
    "    pic_filepath = os.path.join(pic_dirpath, 'img_'+str(images.index(image))+'.png')\n",
    "    image.save(pic_filepath, 'PNG')"
   ]
  },
  {
   "cell_type": "markdown",
   "metadata": {},
   "source": [
    "这个组件怎么处理,还没搞定,错误提示百度没找到,太费时间,先做下一步"
   ]
  },
  {
   "cell_type": "markdown",
   "metadata": {},
   "source": [
    "#### 8. 添加水印\n",
    "\n",
    "PDF 中添加水印，首先需要一个水印PDF文件，然后依次通过 mergePage 操作将每一页的 PDF 文件合并到水印文件上，据此，每一页的 PDF 文件将是一个带有水印的 PDF 文件\n",
    "\n",
    "最后，将每一页的水印 PDF 合并成一个 PDF 文件即可"
   ]
  },
  {
   "cell_type": "markdown",
   "metadata": {},
   "source": [
    "**生成水印**\n",
    "\n",
    "生成水印的方式比较多，例如在图片添加水印，然后将图片插入到 word 中，最后将 word 保存成 PDF 文件即可\n",
    "\n",
    "生成一张 A4 纸大小的空白图片，参考这篇文章：[Python 批量加水印！轻松搞定！](https://mp.weixin.qq.com/s/_oJA6lbsdMlRRsBf6DPxsg) 给图片添加水印，最终的水印背景图片是这样的：\n",
    "\n",
    "![](https://raw.githubusercontent.com/double-point/GraphBed/master/python_2_pdf/%E7%A9%BA%E7%99%BD%E7%85%A7%E7%89%87.png)\n",
    "\n",
    "然后将图片插入到 word 中并最终生成一个水印 PDF 文档\n",
    "\n",
    "PDF 文档添加水印的主要代码如下："
   ]
  },
  {
   "cell_type": "code",
   "execution_count": 23,
   "metadata": {},
   "outputs": [],
   "source": [
    "from copy import copy\n",
    "filepath = 'D:\\\\pythontest\\\\DW_oa\\\\tempfile.pdf'\n",
    "watermark_filepath = 'D:\\\\pythontest\\\\DW_oa\\\\zoom.pdf'\n",
    "save_filepath = 'D:\\\\pythontest\\\\DW_oa\\\\markfile.pdf'\n",
    "\n",
    "watermark = PdfFileReader(watermark_filepath)\n",
    "watermark_page = watermark.getPage(0)\n",
    "\n",
    "pdf_reader = PdfFileReader(filepath)\n",
    "pdf_writer = PdfFileWriter()\n",
    "\n",
    "for page_index in range(pdf_reader.getNumPages()):\n",
    "    current_page = pdf_reader.getPage(page_index)\n",
    "    # 封面页不添加水印\n",
    "    if page_index == 0:\n",
    "        new_page = current_page\n",
    "    else:\n",
    "        new_page = copy(watermark_page)\n",
    "        new_page.mergePage(current_page)\n",
    "    pdf_writer.addPage(new_page)\n",
    "# 保存水印后的文件\n",
    "with open(save_filepath, \"wb\") as out:\n",
    "    pdf_writer.write(out)"
   ]
  },
  {
   "cell_type": "markdown",
   "metadata": {},
   "source": [
    "#### 9. 文档加密与解密\n",
    "\n",
    "你可能在打开部分 PDF 文件的时候，会弹出下面这个界面：\n",
    "\n",
    "![](https://raw.githubusercontent.com/double-point/GraphBed/master/python_2_pdf/PDF%E5%B7%B2%E5%8A%A0%E5%AF%86.png)\n",
    "\n",
    "这种就是 PDF 文件被加密了，在打开的时候需要相应的密码才行\n",
    "\n",
    "本节所提到的也只是基于 PDF 文档的加密解密，而不是所谓的 PDF 密码破解。\n",
    "\n",
    "在对 PDF 文件加密需要使用 encrypt 函数，对应的加密代码也比较简单："
   ]
  },
  {
   "cell_type": "code",
   "execution_count": 24,
   "metadata": {},
   "outputs": [],
   "source": [
    "passwd = '123456'\n",
    "save_filepath = 'D:\\\\pythontest\\\\DW_oa\\\\passwd.pdf'\n",
    "pdf_reader = PdfFileReader(filepath)\n",
    "pdf_writer = PdfFileWriter()\n",
    "\n",
    "for page_index in range(pdf_reader.getNumPages()):\n",
    "    pdf_writer.addPage(pdf_reader.getPage(page_index))\n",
    "\n",
    "# 添加密码\n",
    "pdf_writer.encrypt(passwd)\n",
    "with open(save_filepath, \"wb\") as out:\n",
    "    pdf_writer.write(out)"
   ]
  },
  {
   "cell_type": "markdown",
   "metadata": {},
   "source": [
    "代码执行成功后再次打开 PDF 文件则需要输入密码才行\n",
    "\n",
    "根据这个思路，破解 PDF 也可以通过暴力求解实现，例如：通过本地密码本一个个去尝试，或者根据数字+字母的密码形式循环尝试，最终成功打开的密码就是破解密码\n",
    "\n",
    "> 上述破解方法耗时耗力，不建议尝试"
   ]
  },
  {
   "cell_type": "markdown",
   "metadata": {},
   "source": [
    "另外，针对已经加密的 PDF 文件，也可以使用 decrypt 函数进行解密操作\n",
    "\n",
    "解密代码如下："
   ]
  },
  {
   "cell_type": "code",
   "execution_count": 25,
   "metadata": {},
   "outputs": [],
   "source": [
    "filepath = 'D:\\\\pythontest\\\\DW_oa\\\\passwd.pdf'\n",
    "save_filepath = 'D:\\\\pythontest\\\\DW_oa\\\\unpasswd.pdf'\n",
    "\n",
    "pdf_reader = PdfFileReader(filepath)\n",
    "# PDF文档解密\n",
    "pdf_reader.decrypt(passwd)\n",
    "\n",
    "pdf_writer = PdfFileWriter()\n",
    "for page_index in range(pdf_reader.getNumPages()):\n",
    "    pdf_writer.addPage(pdf_reader.getPage(page_index))\n",
    "\n",
    "with open(save_filepath, \"wb\") as out:\n",
    "    pdf_writer.write(out)"
   ]
  },
  {
   "cell_type": "markdown",
   "metadata": {},
   "source": [
    "上面还有两个问题没有解决,今天没时间了,再查查原因吧"
   ]
  },
  {
   "cell_type": "markdown",
   "metadata": {},
   "source": []
  }
 ],
 "metadata": {
  "kernelspec": {
   "display_name": "Python 3",
   "language": "python",
   "name": "python3"
  },
  "language_info": {
   "codemirror_mode": {
    "name": "ipython",
    "version": 3
   },
   "file_extension": ".py",
   "mimetype": "text/x-python",
   "name": "python",
   "nbconvert_exporter": "python",
   "pygments_lexer": "ipython3",
   "version": "3.7.6"
  }
 },
 "nbformat": 4,
 "nbformat_minor": 4
}
